{
 "cells": [
  {
   "cell_type": "code",
   "metadata": {
    "colab": {
     "base_uri": "https://localhost:8080/"
    },
    "id": "uER1nJujILeG",
    "outputId": "c2b438fb-03ea-4024-861c-e5d45c41b8c8",
    "ExecuteTime": {
     "end_time": "2025-01-15T08:41:17.128687Z",
     "start_time": "2025-01-15T08:41:15.947586Z"
    }
   },
   "source": "!python --version",
   "outputs": [
    {
     "name": "stdout",
     "output_type": "stream",
     "text": [
      "Python 3.12.8\n"
     ]
    }
   ],
   "execution_count": 8
  },
  {
   "cell_type": "code",
   "metadata": {
    "colab": {
     "base_uri": "https://localhost:8080/"
    },
    "id": "z_DoyKmOJPU6",
    "outputId": "03a4ea4f-5596-49e6-b877-98adae618146",
    "ExecuteTime": {
     "end_time": "2025-01-15T08:40:51.559925Z",
     "start_time": "2025-01-15T08:40:51.555484Z"
    }
   },
   "source": [
    "print(\"Hello World!\")"
   ],
   "outputs": [
    {
     "name": "stdout",
     "output_type": "stream",
     "text": [
      "Hello World!\n"
     ]
    }
   ],
   "execution_count": 5
  },
  {
   "cell_type": "code",
   "metadata": {
    "id": "9k5Lp9w5JtKM",
    "ExecuteTime": {
     "end_time": "2025-01-15T08:40:55.044866Z",
     "start_time": "2025-01-15T08:40:55.041325Z"
    }
   },
   "source": [
    "#print \"Hello World!\""
   ],
   "outputs": [],
   "execution_count": 6
  },
  {
   "cell_type": "code",
   "metadata": {
    "colab": {
     "base_uri": "https://localhost:8080/"
    },
    "id": "VkT5KJqZJ_o6",
    "outputId": "f1e6cdc5-10ee-4126-e9d7-33f54e33b449",
    "ExecuteTime": {
     "end_time": "2025-01-15T08:40:59.346742Z",
     "start_time": "2025-01-15T08:40:59.340600Z"
    }
   },
   "source": [
    "#выводим три фразы\n",
    "print(\"Hello, World!\")\n",
    "print(\"Hello\", \"World!\")\n",
    "print(\"Hello\" + \"World!\")"
   ],
   "outputs": [
    {
     "name": "stdout",
     "output_type": "stream",
     "text": [
      "Hello, World!\n",
      "Hello World!\n",
      "HelloWorld!\n"
     ]
    }
   ],
   "execution_count": 7
  },
  {
   "cell_type": "markdown",
   "metadata": {
    "id": "tcNpkYnnKTaC"
   },
   "source": [
    "google collab - this is a good tool for data analysis"
   ]
  },
  {
   "cell_type": "code",
   "execution_count": null,
   "metadata": {
    "colab": {
     "background_save": true
    },
    "id": "6MlZ-5ewNUNY",
    "outputId": "e4d3e287-c0b5-4e13-a603-264283d8499f"
   },
   "outputs": [
    {
     "ename": "KeyboardInterrupt",
     "evalue": "Interrupted by user",
     "output_type": "error",
     "traceback": [
      "\u001B[0;31m---------------------------------------------------------------------------\u001B[0m",
      "\u001B[0;31mKeyboardInterrupt\u001B[0m                         Traceback (most recent call last)",
      "\u001B[0;32m<ipython-input-10-489ccf7ea2b1>\u001B[0m in \u001B[0;36m<cell line: 1>\u001B[0;34m()\u001B[0m\n\u001B[0;32m----> 1\u001B[0;31m \u001B[0mfirst_name\u001B[0m \u001B[0;34m=\u001B[0m \u001B[0minput\u001B[0m\u001B[0;34m(\u001B[0m\u001B[0;34m\"Enter your firstname:\"\u001B[0m\u001B[0;34m)\u001B[0m\u001B[0;34m\u001B[0m\u001B[0;34m\u001B[0m\u001B[0m\n\u001B[0m\u001B[1;32m      2\u001B[0m \u001B[0mlast_name\u001B[0m \u001B[0;34m=\u001B[0m \u001B[0minput\u001B[0m\u001B[0;34m(\u001B[0m\u001B[0;34m\"Enter your lastname:\"\u001B[0m\u001B[0;34m)\u001B[0m\u001B[0;34m\u001B[0m\u001B[0;34m\u001B[0m\u001B[0m\n\u001B[1;32m      3\u001B[0m \u001B[0mage\u001B[0m \u001B[0;34m=\u001B[0m \u001B[0minput\u001B[0m\u001B[0;34m(\u001B[0m\u001B[0;34m\"Enter your age:\"\u001B[0m\u001B[0;34m)\u001B[0m\u001B[0;34m\u001B[0m\u001B[0;34m\u001B[0m\u001B[0m\n\u001B[1;32m      4\u001B[0m \u001B[0mcity\u001B[0m \u001B[0;34m=\u001B[0m \u001B[0minput\u001B[0m\u001B[0;34m(\u001B[0m\u001B[0;34m\"Enter your city of residence:\"\u001B[0m\u001B[0;34m)\u001B[0m\u001B[0;34m\u001B[0m\u001B[0;34m\u001B[0m\u001B[0m\n",
      "\u001B[0;32m/usr/local/lib/python3.10/dist-packages/ipykernel/kernelbase.py\u001B[0m in \u001B[0;36mraw_input\u001B[0;34m(self, prompt)\u001B[0m\n\u001B[1;32m    849\u001B[0m                 \u001B[0;34m\"raw_input was called, but this frontend does not support input requests.\"\u001B[0m\u001B[0;34m\u001B[0m\u001B[0;34m\u001B[0m\u001B[0m\n\u001B[1;32m    850\u001B[0m             )\n\u001B[0;32m--> 851\u001B[0;31m         return self._input_request(str(prompt),\n\u001B[0m\u001B[1;32m    852\u001B[0m             \u001B[0mself\u001B[0m\u001B[0;34m.\u001B[0m\u001B[0m_parent_ident\u001B[0m\u001B[0;34m,\u001B[0m\u001B[0;34m\u001B[0m\u001B[0;34m\u001B[0m\u001B[0m\n\u001B[1;32m    853\u001B[0m             \u001B[0mself\u001B[0m\u001B[0;34m.\u001B[0m\u001B[0m_parent_header\u001B[0m\u001B[0;34m,\u001B[0m\u001B[0;34m\u001B[0m\u001B[0;34m\u001B[0m\u001B[0m\n",
      "\u001B[0;32m/usr/local/lib/python3.10/dist-packages/ipykernel/kernelbase.py\u001B[0m in \u001B[0;36m_input_request\u001B[0;34m(self, prompt, ident, parent, password)\u001B[0m\n\u001B[1;32m    893\u001B[0m             \u001B[0;32mexcept\u001B[0m \u001B[0mKeyboardInterrupt\u001B[0m\u001B[0;34m:\u001B[0m\u001B[0;34m\u001B[0m\u001B[0;34m\u001B[0m\u001B[0m\n\u001B[1;32m    894\u001B[0m                 \u001B[0;31m# re-raise KeyboardInterrupt, to truncate traceback\u001B[0m\u001B[0;34m\u001B[0m\u001B[0;34m\u001B[0m\u001B[0m\n\u001B[0;32m--> 895\u001B[0;31m                 \u001B[0;32mraise\u001B[0m \u001B[0mKeyboardInterrupt\u001B[0m\u001B[0;34m(\u001B[0m\u001B[0;34m\"Interrupted by user\"\u001B[0m\u001B[0;34m)\u001B[0m \u001B[0;32mfrom\u001B[0m \u001B[0;32mNone\u001B[0m\u001B[0;34m\u001B[0m\u001B[0;34m\u001B[0m\u001B[0m\n\u001B[0m\u001B[1;32m    896\u001B[0m             \u001B[0;32mexcept\u001B[0m \u001B[0mException\u001B[0m \u001B[0;32mas\u001B[0m \u001B[0me\u001B[0m\u001B[0;34m:\u001B[0m\u001B[0;34m\u001B[0m\u001B[0;34m\u001B[0m\u001B[0m\n\u001B[1;32m    897\u001B[0m                 \u001B[0mself\u001B[0m\u001B[0;34m.\u001B[0m\u001B[0mlog\u001B[0m\u001B[0;34m.\u001B[0m\u001B[0mwarning\u001B[0m\u001B[0;34m(\u001B[0m\u001B[0;34m\"Invalid Message:\"\u001B[0m\u001B[0;34m,\u001B[0m \u001B[0mexc_info\u001B[0m\u001B[0;34m=\u001B[0m\u001B[0;32mTrue\u001B[0m\u001B[0;34m)\u001B[0m\u001B[0;34m\u001B[0m\u001B[0;34m\u001B[0m\u001B[0m\n",
      "\u001B[0;31mKeyboardInterrupt\u001B[0m: Interrupted by user"
     ]
    }
   ],
   "source": [
    "first_name = input(\"Enter your firstname:\")\n",
    "last_name = input(\"Enter your lastname:\")\n",
    "age = input(\"Enter your age:\")\n",
    "city = input(\"Enter your city of residence:\")"
   ]
  },
  {
   "cell_type": "code",
   "execution_count": null,
   "metadata": {
    "colab": {
     "base_uri": "https://localhost:8080/"
    },
    "id": "xwql7sdbh87p",
    "outputId": "dc6d9e2f-3e0f-4152-e8af-0786536625c2"
   },
   "outputs": [
    {
     "name": "stdout",
     "output_type": "stream",
     "text": [
      "-15\n"
     ]
    }
   ],
   "source": [
    "print (13 % -3 * 3 - 3**2)"
   ]
  },
  {
   "cell_type": "code",
   "execution_count": null,
   "metadata": {
    "colab": {
     "base_uri": "https://localhost:8080/"
    },
    "id": "-GHM5YuHh-xy",
    "outputId": "de92dd2b-6f53-480a-fa14-ade62eb9a366"
   },
   "outputs": [
    {
     "name": "stdout",
     "output_type": "stream",
     "text": [
      "-6\n"
     ]
    }
   ],
   "source": [
    "print (13 % -3 * 3 )"
   ]
  },
  {
   "cell_type": "code",
   "execution_count": null,
   "metadata": {
    "colab": {
     "base_uri": "https://localhost:8080/"
    },
    "id": "jCK7oCoBiRP7",
    "outputId": "ca6cafaf-d20d-480b-f5f9-450e97b664fa"
   },
   "outputs": [
    {
     "name": "stdout",
     "output_type": "stream",
     "text": [
      "-2\n"
     ]
    }
   ],
   "source": [
    "print (13 % -3)"
   ]
  },
  {
   "cell_type": "code",
   "execution_count": null,
   "metadata": {
    "colab": {
     "base_uri": "https://localhost:8080/"
    },
    "id": "LMkCmjs-jjBS",
    "outputId": "e328e068-eb47-4763-dc8e-29aa465fc52c"
   },
   "outputs": [
    {
     "name": "stdout",
     "output_type": "stream",
     "text": [
      "5.0\n"
     ]
    }
   ],
   "source": [
    "print (round(3.14159**2/2,0))"
   ]
  },
  {
   "cell_type": "code",
   "execution_count": null,
   "metadata": {
    "colab": {
     "base_uri": "https://localhost:8080/"
    },
    "id": "d7t2NNn0pM6r",
    "outputId": "bc7aa44b-f9ff-4fe6-9aa1-e970ee276f9d"
   },
   "outputs": [
    {
     "name": "stdout",
     "output_type": "stream",
     "text": [
      "1\n",
      "2\n",
      "3\n",
      "4\n",
      "5\n",
      "6\n",
      "7\n"
     ]
    }
   ],
   "source": [
    "numbers = '1 2 3 4 5 6 7'\n",
    "numbers_split=numbers.split()\n",
    "print( *numbers_split, sep='\\n')\n"
   ]
  },
  {
   "cell_type": "code",
   "execution_count": null,
   "metadata": {
    "colab": {
     "base_uri": "https://localhost:8080/"
    },
    "id": "a58iqszDFhYp",
    "outputId": "55d2c041-f6a1-4918-cf10-985faa02be99"
   },
   "outputs": [
    {
     "name": "stdout",
     "output_type": "stream",
     "text": [
      "Hello, John! Today is Monday. Have a nice day!\n"
     ]
    }
   ],
   "source": [
    "day = 'Monday'\n",
    "name= 'John'\n",
    "print(\"Hello, {}! Today is {}. Have a nice day!\".format(name, day))"
   ]
  },
  {
   "cell_type": "code",
   "execution_count": null,
   "metadata": {
    "colab": {
     "background_save": true,
     "base_uri": "https://localhost:8080/"
    },
    "id": "Qs5mq4N-KNEA",
    "outputId": "a45423f6-92a9-416a-e0d5-c7050f8c33f2"
   },
   "outputs": [
    {
     "name": "stdout",
     "output_type": "stream",
     "text": [
      "Salary - 1244 руб.\n"
     ]
    },
    {
     "ename": "AttributeError",
     "evalue": "'list' object has no attribute 'format'",
     "output_type": "error",
     "traceback": [
      "\u001B[0;31m---------------------------------------------------------------------------\u001B[0m",
      "\u001B[0;31mAttributeError\u001B[0m                            Traceback (most recent call last)",
      "\u001B[0;32m<ipython-input-24-760e0eb03d3c>\u001B[0m in \u001B[0;36m<cell line: 4>\u001B[0;34m()\u001B[0m\n\u001B[1;32m      2\u001B[0m \u001B[0msalary\u001B[0m \u001B[0;34m=\u001B[0m \u001B[0msalary\u001B[0m\u001B[0;34m.\u001B[0m\u001B[0msplit\u001B[0m\u001B[0;34m(\u001B[0m\u001B[0;34m)\u001B[0m\u001B[0;34m\u001B[0m\u001B[0;34m\u001B[0m\u001B[0m\n\u001B[1;32m      3\u001B[0m \u001B[0mprint\u001B[0m \u001B[0;34m(\u001B[0m\u001B[0;34m\"Salary - {} {}\"\u001B[0m\u001B[0;34m.\u001B[0m\u001B[0mformat\u001B[0m\u001B[0;34m(\u001B[0m\u001B[0msalary\u001B[0m\u001B[0;34m[\u001B[0m\u001B[0;36m0\u001B[0m\u001B[0;34m]\u001B[0m\u001B[0;34m,\u001B[0m\u001B[0msalary\u001B[0m\u001B[0;34m[\u001B[0m\u001B[0;36m1\u001B[0m\u001B[0;34m]\u001B[0m\u001B[0;34m)\u001B[0m\u001B[0;34m)\u001B[0m\u001B[0;34m\u001B[0m\u001B[0;34m\u001B[0m\u001B[0m\n\u001B[0;32m----> 4\u001B[0;31m \u001B[0msalary_number\u001B[0m \u001B[0;34m=\u001B[0m \u001B[0msalary\u001B[0m\u001B[0;34m.\u001B[0m\u001B[0mformat\u001B[0m\u001B[0;34m(\u001B[0m\u001B[0msalary\u001B[0m\u001B[0;34m[\u001B[0m\u001B[0;36m0\u001B[0m\u001B[0;34m]\u001B[0m\u001B[0;34m)\u001B[0m\u001B[0;34m\u001B[0m\u001B[0;34m\u001B[0m\u001B[0m\n\u001B[0m\u001B[1;32m      5\u001B[0m \u001B[0mprint\u001B[0m \u001B[0;34m(\u001B[0m\u001B[0msalary\u001B[0m\u001B[0;34m)\u001B[0m\u001B[0;34m\u001B[0m\u001B[0;34m\u001B[0m\u001B[0m\n",
      "\u001B[0;31mAttributeError\u001B[0m: 'list' object has no attribute 'format'"
     ]
    }
   ],
   "source": [
    "salary = input()\n",
    "salary = salary.split()\n",
    "print (\"Salary - {} {}\".format(salary[0],salary[1]))\n",
    "salary_number = salary.format"
   ]
  },
  {
   "cell_type": "code",
   "execution_count": null,
   "metadata": {
    "colab": {
     "base_uri": "https://localhost:8080/"
    },
    "id": "1s23DYpeNgQ3",
    "outputId": "c3dfb9af-b1ab-48c8-e9c0-54b15a7847ea"
   },
   "outputs": [
    {
     "name": "stdout",
     "output_type": "stream",
     "text": [
      "['e', 'd', 'c', 'b', 'a']\n"
     ]
    }
   ],
   "source": [
    "a = [\"a\", \"b\", \"c\", \"d\", \"e\"]\n",
    "b = a[::-1]\n",
    "print(b)"
   ]
  },
  {
   "cell_type": "code",
   "execution_count": null,
   "metadata": {
    "colab": {
     "background_save": true,
     "base_uri": "https://localhost:8080/",
     "height": 159
    },
    "id": "NKTe8P9AQS6J",
    "outputId": "74faaae3-ee55-4cd1-8abe-694ec385bdef"
   },
   "outputs": [
    {
     "name": "stdout",
     "output_type": "stream",
     "text": [
      "[0, 1, 2, 3, 4, 5, 6, 7, 8, 9, 10]\n"
     ]
    }
   ],
   "source": [
    "a = list(range[0,10])\n",
    "print(a)"
   ]
  },
  {
   "cell_type": "code",
   "execution_count": null,
   "metadata": {
    "colab": {
     "base_uri": "https://localhost:8080/"
    },
    "id": "jKo8qJphhiam",
    "outputId": "ba12d5be-c14e-4cf1-a73a-be23e236531b"
   },
   "outputs": [
    {
     "data": {
      "text/plain": [
       "set()"
      ]
     },
     "execution_count": 1,
     "metadata": {},
     "output_type": "execute_result"
    }
   ],
   "source": [
    "set1 = set()\n",
    "set1\n",
    "# set()"
   ]
  },
  {
   "cell_type": "code",
   "execution_count": null,
   "metadata": {
    "colab": {
     "base_uri": "https://localhost:8080/"
    },
    "id": "ZtWFYbj4i4tE",
    "outputId": "db63af65-8b70-46f4-b027-63a2d5af8fb4"
   },
   "outputs": [
    {
     "data": {
      "text/plain": [
       "{2, 3, 5, 10, 11}"
      ]
     },
     "execution_count": 2,
     "metadata": {},
     "output_type": "execute_result"
    }
   ],
   "source": [
    "s2 = {5, 10, 3, 2, 11}\n",
    "s2\n"
   ]
  },
  {
   "cell_type": "code",
   "execution_count": null,
   "metadata": {
    "colab": {
     "base_uri": "https://localhost:8080/"
    },
    "id": "HEmDRFL7jfY2",
    "outputId": "2c25b77b-8e88-438e-ff51-663face488fc"
   },
   "outputs": [
    {
     "data": {
      "text/plain": [
       "{' ', 'a', 'c', 'h', 'l', 'o', 's', 't', 'w'}"
      ]
     },
     "execution_count": 3,
     "metadata": {},
     "output_type": "execute_result"
    }
   ],
   "source": [
    "s3 = set(\"wow thats cool\")\n",
    "s3"
   ]
  },
  {
   "cell_type": "code",
   "execution_count": null,
   "metadata": {
    "colab": {
     "base_uri": "https://localhost:8080/"
    },
    "id": "Bat2Vu_PkMhB",
    "outputId": "540f33ee-274c-4405-f1ae-e77b2fec4e53"
   },
   "outputs": [
    {
     "data": {
      "text/plain": [
       "{'a', 'b', 'c', 'd', 'e', 'hello'}"
      ]
     },
     "execution_count": 6,
     "metadata": {},
     "output_type": "execute_result"
    }
   ],
   "source": [
    "s3 = set(\"abcde\")\n",
    "#s3.update(\"hello\")\n",
    "s3.add(\"hello\")\n",
    "s3"
   ]
  },
  {
   "cell_type": "code",
   "execution_count": null,
   "metadata": {
    "colab": {
     "base_uri": "https://localhost:8080/"
    },
    "id": "1dZ2eB8MlPMG",
    "outputId": "5ec7d324-f481-4c79-c125-93fd44b3b1a8"
   },
   "outputs": [
    {
     "data": {
      "text/plain": [
       "{'a', 'b', 'c', 'e'}"
      ]
     },
     "execution_count": 7,
     "metadata": {},
     "output_type": "execute_result"
    }
   ],
   "source": [
    "s3 = set(\"abcde\")\n",
    "s3.remove(\"d\")\n",
    "s3"
   ]
  },
  {
   "cell_type": "code",
   "execution_count": null,
   "metadata": {
    "colab": {
     "base_uri": "https://localhost:8080/"
    },
    "id": "-9D4tvxQleE9",
    "outputId": "9331613d-f917-4890-f7c6-92f8d8165a4c"
   },
   "outputs": [
    {
     "data": {
      "text/plain": [
       "{'a', 'b', 'c', 'd', 'e'}"
      ]
     },
     "execution_count": 8,
     "metadata": {},
     "output_type": "execute_result"
    }
   ],
   "source": [
    "s3 = set(\"abcdef\")\n",
    "s3.discard(\"f\")\n",
    "s3"
   ]
  },
  {
   "cell_type": "code",
   "execution_count": null,
   "metadata": {
    "colab": {
     "base_uri": "https://localhost:8080/"
    },
    "id": "usTS6H-KlsFe",
    "outputId": "b84be874-4837-4307-ea1f-2a3724b1d77b"
   },
   "outputs": [
    {
     "data": {
      "text/plain": [
       "{'a', 'b', 'c', 'd', 'e'}"
      ]
     },
     "execution_count": 9,
     "metadata": {},
     "output_type": "execute_result"
    }
   ],
   "source": [
    "s3 = set(\"abcdef\")\n",
    "s3.remove(\"f\")\n",
    "s3"
   ]
  },
  {
   "cell_type": "code",
   "execution_count": null,
   "metadata": {
    "colab": {
     "base_uri": "https://localhost:8080/"
    },
    "id": "Vru4Z7ZiqK6Q",
    "outputId": "1d3889e8-0972-43a4-faf9-3be57339d6d0"
   },
   "outputs": [
    {
     "name": "stdout",
     "output_type": "stream",
     "text": [
      "{'c', 'e', 'b', ' ', 'y', 'o', 'd', 'a'}\n"
     ]
    },
    {
     "data": {
      "text/plain": [
       "{'a', 'b', 'c', 'd', 'e'}"
      ]
     },
     "execution_count": 11,
     "metadata": {},
     "output_type": "execute_result"
    }
   ],
   "source": [
    "alpha_set = set(\"abcde\")\n",
    "name = set(\"bad boy\")\n",
    "print(alpha_set.union(name))\n",
    "alpha_set"
   ]
  },
  {
   "cell_type": "code",
   "execution_count": null,
   "metadata": {
    "colab": {
     "base_uri": "https://localhost:8080/"
    },
    "id": "-et0C_4lyqRa",
    "outputId": "4148c017-6f77-43a3-8334-509986a31403"
   },
   "outputs": [
    {
     "name": "stdout",
     "output_type": "stream",
     "text": [
      "{0, 1, 2, 3, 4, 5, 6, 7, 8, 9, 10}\n"
     ]
    }
   ],
   "source": [
    "num_set = set(range(0,11))\n",
    "date_num ={1,9,4,8}\n",
    "print(num_set.union(num_set))"
   ]
  },
  {
   "cell_type": "code",
   "execution_count": null,
   "metadata": {
    "colab": {
     "base_uri": "https://localhost:8080/"
    },
    "id": "rOrlZNLM10LL",
    "outputId": "747766c5-a590-426b-803a-5d02ca1f4aba"
   },
   "outputs": [
    {
     "name": "stdout",
     "output_type": "stream",
     "text": [
      "{'d', 'a', 'b'}\n"
     ]
    }
   ],
   "source": [
    "alpha_set = set(\"abcde\")\n",
    "name = set(\"bad boy\")\n",
    "print(alpha_set.intersection(name))"
   ]
  },
  {
   "cell_type": "code",
   "execution_count": null,
   "metadata": {
    "colab": {
     "base_uri": "https://localhost:8080/"
    },
    "id": "37qcJA0M5t-N",
    "outputId": "50317292-4016-4431-a888-39db5eceb535"
   },
   "outputs": [
    {
     "name": "stdout",
     "output_type": "stream",
     "text": [
      "{8, 1, 4, 9}\n"
     ]
    }
   ],
   "source": [
    "num_set = set(range(0,11))\n",
    "date_num ={1,9,4,8}\n",
    "print(num_set.intersection(date_num))\n"
   ]
  },
  {
   "cell_type": "code",
   "execution_count": null,
   "metadata": {
    "colab": {
     "base_uri": "https://localhost:8080/"
    },
    "id": "GmqFx7y46HqT",
    "outputId": "5df6a5bd-222c-4ad6-e57c-540b45114a51"
   },
   "outputs": [
    {
     "name": "stdout",
     "output_type": "stream",
     "text": [
      "{'c', 'e'}\n"
     ]
    }
   ],
   "source": [
    "alpha_set = set(\"abcde\")\n",
    "name = set(\"bad boy\")\n",
    "print(alpha_set.difference(name))"
   ]
  },
  {
   "cell_type": "code",
   "execution_count": null,
   "metadata": {
    "colab": {
     "base_uri": "https://localhost:8080/"
    },
    "id": "rCW0_rT36R2J",
    "outputId": "ddc869d6-12ef-4e4e-f32c-0767e09f759f"
   },
   "outputs": [
    {
     "name": "stdout",
     "output_type": "stream",
     "text": [
      "{0, 2, 3, 5, 6, 7, 10}\n"
     ]
    }
   ],
   "source": [
    "num_set = set(range(0,11))\n",
    "date_num ={1,9,4,8}\n",
    "print(num_set.difference(date_num))"
   ]
  },
  {
   "cell_type": "code",
   "execution_count": null,
   "metadata": {
    "colab": {
     "base_uri": "https://localhost:8080/"
    },
    "id": "iFHmh5aC7COO",
    "outputId": "65575878-9b99-43e8-c038-673b1d14ee82"
   },
   "outputs": [
    {
     "name": "stdout",
     "output_type": "stream",
     "text": [
      "6.5 6.5\n"
     ]
    }
   ],
   "source": [
    "num1=3\n",
    "num2 = 3.5\n",
    "sum1 = num1 + num2\n",
    "sum2 = float(num1) + num2\n",
    "print(sum1, sum2)"
   ]
  },
  {
   "cell_type": "code",
   "execution_count": null,
   "metadata": {
    "colab": {
     "base_uri": "https://localhost:8080/"
    },
    "id": "J7HbBDHQgybc",
    "outputId": "bcde44a3-8018-4ded-98d9-5a89ad44f01e"
   },
   "outputs": [
    {
     "name": "stdout",
     "output_type": "stream",
     "text": [
      "1\n"
     ]
    }
   ],
   "source": [
    "int_one = 1\n",
    "dtr_one = str(int_one)\n",
    "print(dtr_one)"
   ]
  },
  {
   "cell_type": "code",
   "execution_count": null,
   "metadata": {
    "colab": {
     "base_uri": "https://localhost:8080/"
    },
    "id": "qr3Ogj7vrVDp",
    "outputId": "2cda83e4-408f-4c21-c526-87630251e261"
   },
   "outputs": [
    {
     "data": {
      "text/plain": [
       "(1, 2, 3, 4, 5)"
      ]
     },
     "execution_count": 6,
     "metadata": {},
     "output_type": "execute_result"
    }
   ],
   "source": [
    "list1 =list(range(1,6))\n",
    "tpl1 = tuple(list1)\n",
    "tpl1"
   ]
  },
  {
   "cell_type": "code",
   "execution_count": null,
   "metadata": {
    "colab": {
     "base_uri": "https://localhost:8080/"
    },
    "id": "V8LY71Mar6-_",
    "outputId": "4cec4a2f-72da-4165-efde-5e8915e5aca0"
   },
   "outputs": [
    {
     "data": {
      "text/plain": [
       "['a', 'b', 'c', 'd', 'e']"
      ]
     },
     "execution_count": 9,
     "metadata": {},
     "output_type": "execute_result"
    }
   ],
   "source": [
    "tpl1 = tuple('abcde')\n",
    "list1 = list(tpl1)\n",
    "list1"
   ]
  },
  {
   "cell_type": "code",
   "execution_count": null,
   "metadata": {
    "colab": {
     "base_uri": "https://localhost:8080/"
    },
    "id": "oXJyEp6904xy",
    "outputId": "90649691-b498-4613-c001-c4a89fb9a021"
   },
   "outputs": [
    {
     "data": {
      "text/plain": [
       "[1, 2, 3]"
      ]
     },
     "execution_count": 10,
     "metadata": {},
     "output_type": "execute_result"
    }
   ],
   "source": [
    "list1 = list()\n",
    "list1.append(1)\n",
    "list1.append(2)\n",
    "list1.append(3)\n",
    "list1"
   ]
  },
  {
   "cell_type": "code",
   "execution_count": null,
   "metadata": {
    "colab": {
     "base_uri": "https://localhost:8080/"
    },
    "id": "7HoAwFS-1cIb",
    "outputId": "6b23f0b3-a2a5-4991-aff1-565ec86832e2"
   },
   "outputs": [
    {
     "name": "stdout",
     "output_type": "stream",
     "text": [
      "[1, 2, 3, 4, -5, -3, -1, 1, 3, 5, 7, 9, 11, 13]\n"
     ]
    }
   ],
   "source": [
    "list2 = list(range(-5,15,2))\n",
    "list3 = [1,2,3,4]\n",
    "list3.extend(list2)\n",
    "print(list3)\n"
   ]
  },
  {
   "cell_type": "code",
   "execution_count": null,
   "metadata": {
    "colab": {
     "base_uri": "https://localhost:8080/"
    },
    "id": "udZTtIBQ2Geo",
    "outputId": "c6968413-3146-4327-ac95-eaae1fe4eb3c"
   },
   "outputs": [
    {
     "name": "stdout",
     "output_type": "stream",
     "text": [
      "[3, 1, -10, 5, 11, 20, 1, -10] [20, 11, 5, 3, 1, 1, -10, -10]\n"
     ]
    }
   ],
   "source": [
    "list6 = [3, 1, -10, 5, 11, 20, 1, -10]\n",
    "list7=list6.copy()\n",
    "list6.sort()\n",
    "list6.reverse()\n",
    "list_results = list6.copy()\n",
    "\n",
    "print(list7, list_results)\n"
   ]
  },
  {
   "cell_type": "code",
   "execution_count": null,
   "metadata": {
    "colab": {
     "base_uri": "https://localhost:8080/"
    },
    "id": "hpTopP343Xt2",
    "outputId": "8fe6c739-2d2d-4fcd-a098-90a4e257cf81"
   },
   "outputs": [
    {
     "data": {
      "text/plain": [
       "{(10, 15): 'Hello'}"
      ]
     },
     "execution_count": 23,
     "metadata": {},
     "output_type": "execute_result"
    }
   ],
   "source": [
    "list1 = [10,15]\n",
    "tpl1 = tuple(list1)\n",
    "new_dict = {tpl1:'Hello'}\n",
    "new_dict"
   ]
  },
  {
   "cell_type": "code",
   "execution_count": null,
   "metadata": {
    "colab": {
     "base_uri": "https://localhost:8080/"
    },
    "id": "_x9lg-8U39xG",
    "outputId": "24325b4b-8ff6-4590-c6d6-794d2a82a862"
   },
   "outputs": [
    {
     "name": "stdout",
     "output_type": "stream",
     "text": [
      "{'name': 'unknown'} {'name': 'Tom'} dict_keys(['name']) dict_values(['unknown'])\n"
     ]
    }
   ],
   "source": [
    "dict1 = {'name':'unknown'}\n",
    "dict2 = {'name':'Tom'}\n",
    "print(dict1, dict2, dict1.keys(), dict1.values())"
   ]
  },
  {
   "cell_type": "code",
   "execution_count": null,
   "metadata": {
    "colab": {
     "base_uri": "https://localhost:8080/"
    },
    "id": "0C6vOc_05LWO",
    "outputId": "86eaf68a-f14d-488d-d195-6571065a8fc6"
   },
   "outputs": [
    {
     "name": "stdout",
     "output_type": "stream",
     "text": [
      "{'e', 'w', 'h', 'o', 'l'} {'o'} {'e', 'h', 'l'}\n"
     ]
    }
   ],
   "source": [
    "s1 = set(\"hello\")\n",
    "list1 = ['w', 'o', 'w']\n",
    "s2 = set(list1)\n",
    "print(s1.union(s2), s1.intersection(s2), s1.difference(s2))"
   ]
  },
  {
   "cell_type": "code",
   "execution_count": null,
   "metadata": {
    "colab": {
     "base_uri": "https://localhost:8080/"
    },
    "id": "N15nIZFzOlga",
    "outputId": "d6cc756a-98a7-44ab-837a-30091f5c6f4a"
   },
   "outputs": [
    {
     "data": {
      "text/plain": [
       "['a', 'f', 'g', 'a', 'b', 'c']"
      ]
     },
     "execution_count": 2,
     "metadata": {},
     "output_type": "execute_result"
    }
   ],
   "source": [
    "var = ['a', 'f', 'g']\n",
    "var.extend(['a', 'b', 'c'])\n",
    "var"
   ]
  },
  {
   "cell_type": "code",
   "execution_count": null,
   "metadata": {
    "colab": {
     "base_uri": "https://localhost:8080/"
    },
    "id": "hOm1BOKwQTNa",
    "outputId": "285b6239-4e75-4ac9-e38d-3ce0da3a7436"
   },
   "outputs": [
    {
     "name": "stdout",
     "output_type": "stream",
     "text": [
      "True\n"
     ]
    }
   ],
   "source": [
    "target_string = \"шалаш\"\n",
    "tgs = (target_string.lower()).replace(' ','')\n",
    "tgs[::-1]\n",
    "result = (target_string == tgs)\n",
    "print(result)"
   ]
  },
  {
   "cell_type": "code",
   "execution_count": null,
   "metadata": {
    "colab": {
     "base_uri": "https://localhost:8080/"
    },
    "id": "yFNi4HypapyG",
    "outputId": "0e5a82a8-5121-44fa-a8c1-a3a0d2a0bd4f"
   },
   "outputs": [
    {
     "name": "stdout",
     "output_type": "stream",
     "text": [
      "a=F( 16 )\n"
     ]
    }
   ],
   "source": [
    "a=7\n",
    "b=9+a\n",
    "print(\"a=F(\",b,\")\")"
   ]
  },
  {
   "cell_type": "code",
   "execution_count": null,
   "metadata": {
    "colab": {
     "base_uri": "https://localhost:8080/"
    },
    "id": "a1p5dlJbbFPe",
    "outputId": "06a99d71-157e-4a21-88aa-c5bd63da9cae"
   },
   "outputs": [
    {
     "name": "stdout",
     "output_type": "stream",
     "text": [
      "15\n"
     ]
    }
   ],
   "source": [
    "s = 5\n",
    "a = 10\n",
    "if a > 0:\n",
    "   s = s + a\n",
    "else:\n",
    "   s = s - a\n",
    "\n",
    "print(s)"
   ]
  },
  {
   "cell_type": "code",
   "execution_count": null,
   "metadata": {
    "colab": {
     "base_uri": "https://localhost:8080/"
    },
    "id": "h0tugVmIbvoe",
    "outputId": "839dabca-4b4e-4f07-f391-e36513dbea02"
   },
   "outputs": [
    {
     "name": "stdout",
     "output_type": "stream",
     "text": [
      "-5\n",
      "0\n"
     ]
    }
   ],
   "source": [
    "mx = 0\n",
    "s = 0\n",
    "x = -5\n",
    "\n",
    "if x < 0:\n",
    "    s = x\n",
    "\n",
    "if x > mx:\n",
    "    mx = x\n",
    "\n",
    "print(s)\n",
    "print(mx)"
   ]
  },
  {
   "cell_type": "code",
   "execution_count": null,
   "metadata": {
    "colab": {
     "base_uri": "https://localhost:8080/"
    },
    "id": "csFuwTwJcL_1",
    "outputId": "9c3e5eb4-a40e-4329-b16e-0f2a7eede2d7"
   },
   "outputs": [
    {
     "name": "stdout",
     "output_type": "stream",
     "text": [
      "Добро пожаловать!\n"
     ]
    }
   ],
   "source": [
    "people_count = 5\n",
    "# Добро пожаловать!\n",
    "\n",
    "if people_count < 10:\n",
    "        print(\"Добро пожаловать!\")\n",
    "else:\n",
    "        print(\"Всё занято. Подождите!\")\n"
   ]
  },
  {
   "cell_type": "code",
   "execution_count": null,
   "metadata": {
    "colab": {
     "base_uri": "https://localhost:8080/"
    },
    "id": "XGXf5zW2cx8d",
    "outputId": "4fdfd9a4-2ae2-4b1a-84da-5bf394d04aff"
   },
   "outputs": [
    {
     "name": "stdout",
     "output_type": "stream",
     "text": [
      "Вы ввели неверный пароль!\n"
     ]
    }
   ],
   "source": [
    "password = \"aaa\"\n",
    "answer = \"bbb\"\n",
    "if password == answer:\n",
    "        print(\"Добро пожаловать!\")\n",
    "else:\n",
    "        print(\"Вы ввели неверный пароль!\")"
   ]
  },
  {
   "cell_type": "code",
   "execution_count": null,
   "metadata": {
    "colab": {
     "base_uri": "https://localhost:8080/"
    },
    "id": "L7lX2BGeeiH1",
    "outputId": "34a763d4-6306-4e4b-fa69-7ffda254890d"
   },
   "outputs": [
    {
     "name": "stdout",
     "output_type": "stream",
     "text": [
      "Привет,aaa! Приносим свои извинения, но вы не можете гулять после 22:00\n"
     ]
    }
   ],
   "source": [
    "name = \"aaa\"\n",
    "age = 17\n",
    "if age >= 18:\n",
    "        print(\"Добрый вечер,\", name)\n",
    "else:\n",
    "        print(\"Привет,{}! Приносим свои извинения, но вы не можете гулять после 22:00\".format(name))"
   ]
  },
  {
   "cell_type": "code",
   "execution_count": null,
   "metadata": {
    "colab": {
     "base_uri": "https://localhost:8080/"
    },
    "id": "C-AygXQsweNc",
    "outputId": "5b467899-d2b8-4d98-9e64-8630865942a4"
   },
   "outputs": [
    {
     "name": "stdout",
     "output_type": "stream",
     "text": [
      "15 не делится на 2, но делится на 5\n"
     ]
    }
   ],
   "source": [
    "number = 15\n",
    "if (number % 2) == 0:\n",
    "    if (number % 5) == 0:\n",
    "        print(\"{} делится на 2 и на 5\".format(number))\n",
    "    else:\n",
    "        print(\"{} делится на 2, но не делится на 5\".format(number))\n",
    "\n",
    "else:\n",
    "    if (number % 5) == 0:\n",
    "        print(\"{} не делится на 2, но делится на 5\".format(number))\n",
    "    else:\n",
    "        print(\"{} не делится ни на 2, ни на 5\".format(number))"
   ]
  },
  {
   "cell_type": "code",
   "execution_count": null,
   "metadata": {
    "colab": {
     "base_uri": "https://localhost:8080/"
    },
    "id": "R6eLQr_XFMEP",
    "outputId": "1bddff36-2396-42b0-efd4-0dddce07cec5"
   },
   "outputs": [
    {
     "name": "stdout",
     "output_type": "stream",
     "text": [
      "{'key_1': 10}\n",
      "22\n",
      "{}\n"
     ]
    }
   ],
   "source": [
    "result = 10\n",
    "my_dict = {'key_1': 10}\n",
    "print(my_dict)\n",
    "item = my_dict.pop('key_1')\n",
    "if my_dict:\n",
    "    result = result + item\n",
    "else:\n",
    "    result = result + 12\n",
    "\n",
    "print(result)\n",
    "print(my_dict)"
   ]
  },
  {
   "cell_type": "code",
   "execution_count": null,
   "metadata": {
    "id": "rW_nSxGrjpE8"
   },
   "outputs": [],
   "source": [
    "cust_age = 60\n",
    "# Реализуем тот же код через тернарный оператор\n",
    "cust_discount = 20 if cust_age >= 60 else 10"
   ]
  },
  {
   "cell_type": "code",
   "execution_count": null,
   "metadata": {
    "colab": {
     "base_uri": "https://localhost:8080/"
    },
    "id": "0vy6C34hsud9",
    "outputId": "0c449469-b7eb-4ce9-91d9-d1fdbee82fcb"
   },
   "outputs": [
    {
     "name": "stdout",
     "output_type": "stream",
     "text": [
      "Стоимость заказа составила: 10848. С учетом скидки в 5% — 10305.6\n"
     ]
    }
   ],
   "source": [
    "purchases = [\"Adidas\", \"Nike\"]\n",
    "#purchases = [\"Adidas\"]\n",
    "# Стоимость заказа составила: 10848. С учетом скидки в 5% — 10305.6\n",
    "#purchases = [\"Nike\", \"Nike\"]\n",
    "# Стоимость заказа составила: 13100. С учетом скидки в 10% — 11790.0\n",
    "#purchases = []\n",
    "# Ваша корзина пуста\n",
    "\n",
    "prices = {'Adidas': 4298, 'Nike': 6550, 'Puma': 4490, 'Asics': 3879}\n",
    "#print(len(purchases))\n",
    "if  not purchases:\n",
    "    print(\"Ваша корзина пуста\")\n",
    "elif purchases[0] == purchases[1]:\n",
    "    print(\"Стоимость заказа составила: {}. С учетом скидки в 10% — {}\".format(prices[purchases[0]]+prices[purchases[1]],(prices[purchases[0]]+prices[purchases[1]])*0.9))\n",
    "else:\n",
    "    print(\"Стоимость заказа составила: {}. С учетом скидки в 5% — {}\".format(prices[purchases[0]]+prices[purchases[1]],(prices[purchases[0]]+prices[purchases[1]])*0.95))\n",
    "\n"
   ]
  },
  {
   "cell_type": "code",
   "execution_count": null,
   "metadata": {
    "colab": {
     "base_uri": "https://localhost:8080/"
    },
    "id": "1CBpOOMwRxK7",
    "outputId": "02798582-a8c3-4731-e6b5-9c738458f302"
   },
   "outputs": [
    {
     "name": "stdout",
     "output_type": "stream",
     "text": [
      "Это не очень редкое слово...\n"
     ]
    }
   ],
   "source": [
    "\n",
    "target_word = \"education\"\n",
    "tg = list(target_word)\n",
    "if tg.count(\"q\") > 0 or tg.count(\"z\") > 0:\n",
    "    print(\"Ух ты! Вы ввели редкое слово!\")\n",
    "else:\n",
    "    print(\"Это не очень редкое слово...\")"
   ]
  },
  {
   "cell_type": "code",
   "execution_count": null,
   "metadata": {
    "colab": {
     "base_uri": "https://localhost:8080/"
    },
    "id": "lA2o_O8bTKkJ",
    "outputId": "d3936922-4027-4752-a5d8-73125e272f78"
   },
   "outputs": [
    {
     "name": "stdout",
     "output_type": "stream",
     "text": [
      "Ваша половинка нашлась!\n"
     ]
    }
   ],
   "source": [
    "height = 183\n",
    "weight = 78\n",
    "zodiac_sign = 'козерог'\n",
    "zod = [\"весы\", \"дева\", \"овен\", \"козерог\"]\n",
    "\n",
    "if zod.count(zodiac_sign) > 0 and height > 180 and weight < 80:\n",
    "      print(\"Ваша половинка нашлась!\")\n",
    "else:\n",
    "      print(\"Попробуем поискать еще!\")"
   ]
  },
  {
   "cell_type": "code",
   "execution_count": null,
   "metadata": {
    "colab": {
     "base_uri": "https://localhost:8080/"
    },
    "id": "wQPa-S5-Vgoy",
    "outputId": "03e9488d-b802-4cd8-ce5a-55cebd768662"
   },
   "outputs": [
    {
     "name": "stdout",
     "output_type": "stream",
     "text": [
      "weak\n"
     ]
    }
   ],
   "source": [
    "speed = 4\n",
    "\n",
    "if speed in [1,2,3,4]:\n",
    "   print(\"weak\")\n",
    "elif speed in [5, 6, 7,8,9,10]:\n",
    "   print(\"moderate\")\n",
    "elif speed in [11,12,13,14,15,16,17,18]:\n",
    "   print(\"strong\")\n",
    "\n",
    "else:\n",
    "   print(\"hurricane\")"
   ]
  },
  {
   "cell_type": "code",
   "execution_count": null,
   "metadata": {
    "colab": {
     "base_uri": "https://localhost:8080/"
    },
    "id": "oeQbERJLlOW_",
    "outputId": "a92f991f-4e88-4562-f072-d4592a39fd6e"
   },
   "outputs": [
    {
     "name": "stdout",
     "output_type": "stream",
     "text": [
      "['05', '07', '2018']\n"
     ]
    }
   ],
   "source": [
    "#date = '16.04.2019 15:59'\n",
    "#date = '12.05.2019 08:42'\n",
    "date = '05.07.2018 20:15'\n",
    "\n",
    "rdt = ((date.split(' '))[0]).split('.')\n",
    "if date[2] == '2019' and date[1] == '5':\n",
    "  print(\"category = 1\")\n",
    "elif date[1] in ['01','02','03','04'] and date[2]=='':\n",
    "  print(\"category = 2\")\n",
    "  print(rdt)\n",
    "else:\n",
    "  print()"
   ]
  },
  {
   "cell_type": "code",
   "execution_count": null,
   "metadata": {
    "colab": {
     "base_uri": "https://localhost:8080/"
    },
    "id": "TIyjyaMJapCX",
    "outputId": "6fecd3a8-545c-48b9-89f3-ff31af28de24"
   },
   "outputs": [
    {
     "name": "stdout",
     "output_type": "stream",
     "text": [
      "99\n"
     ]
    }
   ],
   "source": [
    "medicines = {'Ибупрофен': 99, 'Эспумизан': 279, 'Пенталгин': 119}\n",
    "name = 'Визин'\n",
    "\n",
    "\n",
    "try:\n",
    "  medicines[name]\n",
    "  print(medicines[name])\n",
    "except Exception as e:\n",
    "    #print('Код завершился с ошибкой: {}'.format(e))\n",
    "    print(\"Такого ключа в словаре нет\")"
   ]
  },
  {
   "cell_type": "code",
   "execution_count": null,
   "metadata": {
    "id": "u1A2lSYIQDrw"
   },
   "outputs": [],
   "source": []
  },
  {
   "cell_type": "code",
   "execution_count": null,
   "metadata": {
    "colab": {
     "base_uri": "https://localhost:8080/"
    },
    "id": "YnqqMXSSyHC_",
    "outputId": "4468c699-60a9-491c-ae36-4c7701118e33"
   },
   "outputs": [
    {
     "name": "stdout",
     "output_type": "stream",
     "text": [
      "1.0\n"
     ]
    }
   ],
   "source": [
    "number = 10\n",
    "\n",
    "if number == 0:\n",
    "  raise ZeroDivisionError(\"Вы собираетесь делить на 0\")\n",
    "result = 10/number\n",
    "result= round(result,3)\n",
    "\n"
   ]
  },
  {
   "cell_type": "code",
   "execution_count": null,
   "metadata": {
    "colab": {
     "base_uri": "https://localhost:8080/"
    },
    "id": "fsOnjx3kGAAJ",
    "outputId": "764ee8ff-8eee-4fc0-c8b5-b7fe67de93d1"
   },
   "outputs": [
    {
     "name": "stdout",
     "output_type": "stream",
     "text": [
      "98\n",
      "2352\n",
      "54096\n",
      "649152\n",
      "1947456\n"
     ]
    }
   ],
   "source": [
    "p=1\n",
    "num_list = [98, 24, 23, 12, 3]\n",
    "for num in num_list:\n",
    "  p *=num\n",
    "  print(p)"
   ]
  },
  {
   "cell_type": "code",
   "execution_count": null,
   "metadata": {
    "colab": {
     "base_uri": "https://localhost:8080/"
    },
    "id": "kSwOUsvkHa3n",
    "outputId": "eff8b722-deda-45d6-de37-5673f3b1596e"
   },
   "outputs": [
    {
     "name": "stdout",
     "output_type": "stream",
     "text": [
      "1 10\n",
      "2 9\n",
      "3 8\n",
      "4 7\n",
      "5 6\n",
      "6 5\n",
      "7 4\n",
      "8 3\n",
      "9 2\n"
     ]
    }
   ],
   "source": [
    "p=0\n",
    "for i in range(10,1,-1):\n",
    "  p+=1\n",
    "  print(p,i)"
   ]
  },
  {
   "cell_type": "code",
   "execution_count": null,
   "metadata": {
    "id": "amztk5CBmu1c"
   },
   "outputs": [],
   "source": []
  },
  {
   "cell_type": "code",
   "execution_count": null,
   "metadata": {
    "colab": {
     "base_uri": "https://localhost:8080/"
    },
    "id": "fQ0kNWM-QZHL",
    "outputId": "ce2c47e4-e2ee-43c3-e7b9-515349d95bd7"
   },
   "outputs": [
    {
     "name": "stdout",
     "output_type": "stream",
     "text": [
      "[-5, 1, 3, 10]\n",
      "element 0: -5\n",
      "element 1: 1\n",
      "element 2: 3\n",
      "element 3: 10\n"
     ]
    }
   ],
   "source": [
    "p=0\n",
    "num_list = [1, 10, 3, -5]\n",
    "num_list.sort()\n",
    "print(num_list)\n",
    "for num in num_list:\n",
    "  print(\"element {}: {}\".format(p,num))\n",
    "  p +=1\n",
    "  ## element 0: -5"
   ]
  },
  {
   "cell_type": "code",
   "execution_count": null,
   "metadata": {
    "colab": {
     "base_uri": "https://localhost:8080/"
    },
    "id": "FaWquNQ7Seox",
    "outputId": "de7aaa98-752a-4934-9c25-295017379abf"
   },
   "outputs": [
    {
     "name": "stdout",
     "output_type": "stream",
     "text": [
      "[0, 3, 6, 9, 12, 15, 18, 21, 24, 27, 30, 33, 36, 39, 42, 45, 48, 51, 54, 57, 60, 63, 66, 69, 72, 75, 78, 81, 84, 87, 90, 93, 96, 99]\n",
      "element 0: 0\n",
      "element 1: 6\n",
      "element 2: 12\n",
      "element 3: 18\n",
      "element 4: 24\n",
      "element 5: 30\n",
      "element 6: 36\n",
      "element 7: 42\n",
      "element 8: 48\n",
      "element 9: 54\n",
      "element 10: 60\n",
      "element 11: 66\n",
      "element 12: 72\n",
      "element 13: 78\n",
      "element 14: 84\n",
      "element 15: 90\n",
      "element 16: 96\n"
     ]
    }
   ],
   "source": [
    "num_list = list(range(0, 100, 3))\n",
    "#print(num_list)\n",
    "count_even = 0\n",
    "for element in num_list:\n",
    "  if element % 2 == 0:\n",
    " #   print(\"element {}: {}\".format(count_even,element))\n",
    "    count_even +=1\n",
    "\n",
    "\n"
   ]
  },
  {
   "cell_type": "code",
   "execution_count": null,
   "metadata": {
    "colab": {
     "base_uri": "https://localhost:8080/"
    },
    "id": "nrHnH66aWrdQ",
    "outputId": "04d7a0b4-0c18-46ba-b6da-4c1571342fca"
   },
   "outputs": [
    {
     "name": "stdout",
     "output_type": "stream",
     "text": [
      "<class 'str'>\n",
      "<class 'str'>\n",
      "<class 'str'>\n",
      "3\n"
     ]
    }
   ],
   "source": [
    "mixture_list = [True, 1, -10, 'hello', False, 'string_1', 123, 2.5, [1, 2], 'another']\n",
    "count_str = 0\n",
    "for element in mixture_list:\n",
    "  if isinstance(element, str):\n",
    "    #print(type(element))\n",
    "    count_str +=1\n",
    "  #else: print(\"negative\", type(element))\n",
    "#print(count_str)"
   ]
  },
  {
   "cell_type": "code",
   "execution_count": null,
   "metadata": {
    "colab": {
     "base_uri": "https://localhost:8080/"
    },
    "id": "8rcMRgUtYBx-",
    "outputId": "77cfb977-ed65-4a91-a833-0ca001eea7c2"
   },
   "outputs": [
    {
     "name": "stdout",
     "output_type": "stream",
     "text": [
      " My\n",
      " My name\n",
      " My name is\n",
      " My name is Sergei\n",
      " My name is Sergei.\n",
      " My name is Sergei. I'm\n",
      " My name is Sergei. I'm from\n",
      " My name is Sergei. I'm from Moscow\n",
      " My name is Sergei. I'm from Moscow.\n"
     ]
    }
   ],
   "source": [
    "\n",
    "#word_list = [\"My\", \"name\", \"is\", \"Sergei\", \"EOS\", \"I'm\", \"from\", \"Moscow\", \"EOS\"]\n",
    "text = ''\n",
    "for word in word_list:\n",
    "  if word ==\"EOS\":\n",
    "    #print(type(element))\n",
    "    text +=\".\"\n",
    "  else: text +=\" \"+ word\n",
    "  #print(text)"
   ]
  },
  {
   "cell_type": "code",
   "execution_count": null,
   "metadata": {
    "colab": {
     "base_uri": "https://localhost:8080/"
    },
    "id": "igugaWpv1RUP",
    "outputId": "e2cff4cd-1aaf-4490-8da3-72c74e7ed6ba"
   },
   "outputs": [
    {
     "name": "stdout",
     "output_type": "stream",
     "text": [
      "3.1999999999999993\n"
     ]
    }
   ],
   "source": [
    "volume = 10\n",
    "s=0\n",
    "i=0\n",
    "portion = 0.0033\n",
    "port_l = portion*1000\n",
    "while s <= volume:\n",
    "    i+=1\n",
    "    s +=port_l\n",
    "   # print(s,i)\n",
    "cost = (s- volume)\n",
    "#print(cost)\n",
    "\n"
   ]
  },
  {
   "cell_type": "code",
   "execution_count": null,
   "metadata": {
    "colab": {
     "base_uri": "https://localhost:8080/"
    },
    "id": "VfFwF4rHDxt5",
    "outputId": "da2d4f3e-7157-4910-9b9b-0afae9015b30"
   },
   "outputs": [
    {
     "name": "stdout",
     "output_type": "stream",
     "text": [
      "4\n"
     ]
    }
   ],
   "source": [
    "number = 0\n",
    "value = 10\n",
    "n=1\n",
    "while n**2 < value:\n",
    "     n+=1\n",
    "number = n\n",
    "print(n)"
   ]
  },
  {
   "cell_type": "code",
   "execution_count": null,
   "metadata": {
    "colab": {
     "base_uri": "https://localhost:8080/"
    },
    "id": "FefORjm1ENQ1",
    "outputId": "9d489128-d671-4bda-b3de-6c75438fdd6a"
   },
   "outputs": [
    {
     "name": "stdout",
     "output_type": "stream",
     "text": [
      "4\n"
     ]
    }
   ],
   "source": [
    "number = 0\n",
    "value = 10\n",
    "n=1\n",
    "while True:\n",
    "     if n**2 < value:\n",
    "         n+=1\n",
    "     else: break\n",
    "\n",
    "number = n\n",
    "print(n)"
   ]
  },
  {
   "cell_type": "code",
   "execution_count": null,
   "metadata": {
    "colab": {
     "base_uri": "https://localhost:8080/"
    },
    "id": "H1ehKFYzGMpa",
    "outputId": "d870be56-fbc9-4c9e-f9de-6f3625f665a3"
   },
   "outputs": [
    {
     "name": "stdout",
     "output_type": "stream",
     "text": [
      "1\n",
      "10\n"
     ]
    }
   ],
   "source": [
    "n =10\n",
    "x = 1\n",
    "while (x ** 2) % n != 0:\n",
    "  x += 1\n",
    "print(x)\n"
   ]
  },
  {
   "cell_type": "code",
   "execution_count": null,
   "metadata": {
    "colab": {
     "base_uri": "https://localhost:8080/"
    },
    "id": "OfBuTtALHMwi",
    "outputId": "c7e9351c-1213-4598-a764-ff80ee4a8df8"
   },
   "outputs": [
    {
     "name": "stdout",
     "output_type": "stream",
     "text": [
      "8 5040\n"
     ]
    }
   ],
   "source": [
    "value =1000\n",
    "x = 1\n",
    "p=1\n",
    "while  p <value:\n",
    "  p = x*p\n",
    "  x+=1\n",
    "print(x,p)"
   ]
  },
  {
   "cell_type": "code",
   "execution_count": null,
   "metadata": {
    "colab": {
     "base_uri": "https://localhost:8080/"
    },
    "id": "HmgG-OCnIOzQ",
    "outputId": "8667292c-6527-4154-cf5a-ee112184bd0e"
   },
   "outputs": [
    {
     "name": "stdout",
     "output_type": "stream",
     "text": [
      "3172.1691141982697 15\n"
     ]
    }
   ],
   "source": [
    "\n",
    "\n",
    "money = 1000\n",
    "target_money = 3000\n",
    "year_count = 0\n",
    "percent =0.08\n",
    "\n",
    "while  money <target_money:\n",
    "  money = money + money*percent\n",
    "  year_count+=1\n",
    "print(money,year_count)\n"
   ]
  },
  {
   "cell_type": "code",
   "execution_count": null,
   "metadata": {
    "colab": {
     "base_uri": "https://localhost:8080/"
    },
    "id": "3MvakJW5JSfC",
    "outputId": "f982cf59-312e-47e3-c205-923fcf5f2b86"
   },
   "outputs": [
    {
     "name": "stdout",
     "output_type": "stream",
     "text": [
      "420 80 0\n",
      "340 80 1\n",
      "260 80 2\n",
      "180 80 3\n",
      "100 80 4\n",
      "20 80 5\n",
      "-60 80 6\n"
     ]
    }
   ],
   "source": [
    "health = 500\n",
    "damage = 80\n",
    "seconds_num=0\n",
    "while health > 0:\n",
    "      health = health - damage\n",
    "      print(health,damage, seconds_num)\n",
    "      seconds_num +=1"
   ]
  },
  {
   "cell_type": "code",
   "execution_count": null,
   "metadata": {
    "colab": {
     "base_uri": "https://localhost:8080/"
    },
    "id": "ryBvhCJheLES",
    "outputId": "e3036a4f-ddd7-4049-bd3c-cec073d246c0"
   },
   "outputs": [
    {
     "name": "stdout",
     "output_type": "stream",
     "text": [
      "[1, 1, 2, 3, 5]\n"
     ]
    }
   ],
   "source": [
    "a = 1\n",
    "b = 1\n",
    "i = 2\n",
    "n =5\n",
    "fibonacci_list = [a,b]\n",
    "while i < n:\n",
    "#    print(\"before\",a,b)\n",
    "    if n<=3:\n",
    "      bn = a + b\n",
    "      fibonacci_list.append(bn)\n",
    "      break\n",
    "\n",
    "    bn = a + b\n",
    "    b = a\n",
    "    a = bn\n",
    "    i += 1\n",
    "    fibonacci_list.append(bn)\n",
    "#    print(\"after\",a,b)\n",
    "print(fibonacci_list)"
   ]
  },
  {
   "cell_type": "code",
   "execution_count": null,
   "metadata": {
    "colab": {
     "base_uri": "https://localhost:8080/"
    },
    "id": "r1C4nYM3werN",
    "outputId": "3ff35ff1-42bc-439b-af69-6f9925009bba"
   },
   "outputs": [
    {
     "name": "stdout",
     "output_type": "stream",
     "text": [
      "MAximum elements: [9, 5, 8]\n"
     ]
    }
   ],
   "source": [
    "random_matrix = [\n",
    "    [9, 2, 1],\n",
    "    [2, 5, 3],\n",
    "    [4, 8, 5]\n",
    "]\n",
    "\n",
    "max_value_rows = []\n",
    "\n",
    "for row in random_matrix:\n",
    "    max_value = row[0]\n",
    "    for elem in row:\n",
    "\n",
    "        if elem > max_value:\n",
    "\n",
    "            max_value = elem\n",
    "\n",
    "    max_value_rows.append(max_value)\n",
    "\n",
    "print(\"MAximum elements:\", max_value_rows)\n"
   ]
  },
  {
   "cell_type": "code",
   "execution_count": null,
   "metadata": {
    "colab": {
     "base_uri": "https://localhost:8080/"
    },
    "id": "Rzm37GHkxo25",
    "outputId": "5e40272f-19af-448b-e9a3-a05859ff0646"
   },
   "outputs": [
    {
     "name": "stdout",
     "output_type": "stream",
     "text": [
      "20\n"
     ]
    }
   ],
   "source": [
    "count = 0\n",
    "for i in range(5):\n",
    "    for j in range(4):\n",
    "        count += 1\n",
    "print(count)"
   ]
  },
  {
   "cell_type": "code",
   "execution_count": null,
   "metadata": {
    "colab": {
     "base_uri": "https://localhost:8080/"
    },
    "id": "hLFt_39TyAaf",
    "outputId": "e040c5b8-d313-4727-faa3-9ca193ecdef7"
   },
   "outputs": [
    {
     "name": "stdout",
     "output_type": "stream",
     "text": [
      "3 = 3 False 0\n",
      "3 = 3 False 1\n",
      "4 = 3 False 2\n",
      "False\n"
     ]
    }
   ],
   "source": [
    "test_matrix = [\n",
    "     [1, 2, 3],\n",
    "    [7, -1, 2],\n",
    "    [123, 2, -1, 6]\n",
    "]\n",
    "\n",
    "isb = True\n",
    "is_square = False\n",
    "i = 0\n",
    "N = len(test_matrix)\n",
    "M = len(test_matrix[i])\n",
    "#print(\"len\", len(test_matrix[i]))\n",
    "while i<N:\n",
    "    if len(test_matrix[i]) == M:\n",
    "#      print(len(test_matrix[i]),\"=\",M,is_square,i)\n",
    "      i+=1\n",
    "    else:\n",
    "#      print(len(test_matrix[i]),\"=\",M,is_square,i)\n",
    "      is_square = False\n",
    "      isb = False\n",
    "      break\n",
    "\n",
    "if (N == M) and isb == True:  is_square = True\n",
    "# print(is_square)\n"
   ]
  },
  {
   "cell_type": "code",
   "execution_count": null,
   "metadata": {
    "id": "XHjBQ0Ae8ZOY"
   },
   "outputs": [],
   "source": [
    "temp = [[25, 27, 28, 26, 27, -26, -25, -2, 26],\n",
    "        [21, 22, 28, 27, 28, 26, 25, 19, 26],\n",
    "        [-19, 21, 25, -27, 28, 25, 21, 20, 26]]\n",
    "i=0\n",
    "for row in temp:\n",
    "#    print(row)\n",
    "    k=0\n",
    "    for elem in row:\n",
    "\n",
    "        if \"-\" in str(elem):\n",
    "          #print(elem)\n",
    "          elem = elem + elem *(-2)\n",
    "          #print(i,k)\n",
    "        #  print(\"massive\",temp[i][k],i,k)\n",
    "          temp[i][k] = elem\n",
    "       #   print(\"element\",elem)\n",
    "        k+=1\n",
    "\n",
    "    i+=1\n",
    "print(temp)\n",
    "\n",
    "\n",
    "\n"
   ]
  },
  {
   "cell_type": "code",
   "execution_count": null,
   "metadata": {
    "colab": {
     "base_uri": "https://localhost:8080/"
    },
    "id": "MpuQPJp_mzby",
    "outputId": "0b849024-e644-4f3c-fb1c-9ee4de52b1b4"
   },
   "outputs": [
    {
     "name": "stdout",
     "output_type": "stream",
     "text": [
      "[0.73, 0.62, 0.52, 0.76]\n",
      "0.76\n"
     ]
    }
   ],
   "source": [
    "customer_satisfaction = [\n",
    "    [0.87, 0.56, 0.77],\n",
    "    [0.22, 0.46, 0.56, 0.89, 0.95],\n",
    "    [0.45, 0.44, 0.68],\n",
    "    [0.73, 0.88, 0.95, 0.49]\n",
    "]\n",
    "\n",
    "month_satisfaction =[]\n",
    "\n",
    "\n",
    "i=0\n",
    "for row in customer_satisfaction:\n",
    " #   print(row)\n",
    "    k=0\n",
    "    elem_m = 0\n",
    "    for elem in row:\n",
    "        elem_m +=elem\n",
    "     #   print(elem)\n",
    "        k+=1\n",
    "\n",
    "    elem_m = elem_m/k\n",
    "    month_satisfaction.append(round(elem_m,2))\n",
    "    i+=1\n",
    "print(month_satisfaction)\n",
    "\n",
    "max_satisfaction = month_satisfaction[0]\n",
    "for row in month_satisfaction:\n",
    "     if max_satisfaction < row:\n",
    "          max_satisfaction = row\n",
    "print(max_satisfaction)\n",
    "\n",
    "\n",
    "#max_satisfaction"
   ]
  },
  {
   "cell_type": "code",
   "execution_count": null,
   "metadata": {
    "colab": {
     "base_uri": "https://localhost:8080/"
    },
    "id": "n0K-FRFps-qp",
    "outputId": "40977e33-e5db-4f5b-f536-1c0896e182ed"
   },
   "outputs": [
    {
     "name": "stdout",
     "output_type": "stream",
     "text": [
      "[[0, 'Hel'], [1, 'my'], [2, 'nam'], [3, 'is'], [4, 'Eze'], [5, 'I'], [6, 'lik'], [7, 'kni']]\n"
     ]
    }
   ],
   "source": [
    "str_list = ['Hello', 'my', 'name', 'is', 'Ezeikel', 'I', 'like', 'knitting']\n",
    "cut_str_list = []\n",
    "## cut_str_list = [[0, 'Hel'], [1, 'my'], [2, 'nam'], [3, 'is'], [4, 'Eze'], [5, 'I'], [6, 'lik'], [7, 'kni']]\n",
    "for i, dynamic in enumerate(str_list):\n",
    "\n",
    "    cut_str_list.append([i,dynamic[:3]])\n",
    "\n",
    "#print(cut_str_list)\n"
   ]
  },
  {
   "cell_type": "code",
   "execution_count": null,
   "metadata": {
    "colab": {
     "base_uri": "https://localhost:8080/"
    },
    "id": "b7_NkP94wpVc",
    "outputId": "b3a71b4d-d2ab-434c-d06b-485a3a768f37"
   },
   "outputs": [
    {
     "name": "stdout",
     "output_type": "stream",
     "text": [
      "11\n"
     ]
    }
   ],
   "source": [
    "i = 0\n",
    "while True:\n",
    "    if i > 10:\n",
    "        break\n",
    "    else:\n",
    "        i += 1\n",
    "\n",
    "print(i)"
   ]
  },
  {
   "cell_type": "code",
   "execution_count": null,
   "metadata": {
    "colab": {
     "base_uri": "https://localhost:8080/"
    },
    "id": "s0XmaWL1w1eR",
    "outputId": "c6546c3f-c833-4142-d776-309be14d6034"
   },
   "outputs": [
    {
     "name": "stdout",
     "output_type": "stream",
     "text": [
      "Syracuse hypothesis holds for number 19\n"
     ]
    }
   ],
   "source": [
    "n = 19\n",
    "origin = n\n",
    "# Создаём бесконечный цикл\n",
    "while True:\n",
    "\n",
    "  if n%2 == 0:\n",
    "     n = n // 2\n",
    "  else: n = (n * 3 + 1) // 2\n",
    "  if n == 1:\n",
    "        print(f'Syracuse hypothesis holds for number {origin}')\n",
    "        break\n"
   ]
  },
  {
   "cell_type": "code",
   "execution_count": null,
   "metadata": {
    "colab": {
     "base_uri": "https://localhost:8080/"
    },
    "id": "wyVrtWdJ2CRp",
    "outputId": "b8008994-739b-4b31-9903-36da98551da0"
   },
   "outputs": [
    {
     "name": "stdout",
     "output_type": "stream",
     "text": [
      "a b d e "
     ]
    }
   ],
   "source": [
    "lst=['a', 'b', 'c', 'd', 'e']\n",
    "for elem in lst:\n",
    "    if elem == 'c':\n",
    "        continue\n",
    "    print(elem, end=' ')"
   ]
  },
  {
   "cell_type": "code",
   "execution_count": null,
   "metadata": {
    "colab": {
     "base_uri": "https://localhost:8080/"
    },
    "id": "BLpSs6qJ2M7h",
    "outputId": "29b0f1b2-c493-4c3b-b634-294528285c01"
   },
   "outputs": [
    {
     "name": "stdout",
     "output_type": "stream",
     "text": [
      "<class 'int'>\n",
      "<class 'str'>\n",
      "<class 'int'>\n",
      "<class 'float'>\n",
      "<class 'float'>\n",
      "<class 'float'>\n",
      "5\n"
     ]
    }
   ],
   "source": [
    "#mixture_dict = {'a': 15, 'b': 10.5, 'c': '15', 'd': 50, 'e': 15, 'f': '15'}\n",
    "mixture_dict = {'key1': 24, 'key2': '1.4', 'key3': 14, 'key4': 16.24, 'key6': 124.2414, 'key7': 12.2}\n",
    "count_numbers = 0\n",
    "for elem in mixture_dict:\n",
    "    print(type(mixture_dict[elem]))\n",
    "    #print(elem)\n",
    "    if type(mixture_dict[elem]) == (type('AAA')) :\n",
    "        continue\n",
    "    count_numbers+=1\n",
    "print(count_numbers)\n"
   ]
  },
  {
   "cell_type": "code",
   "execution_count": null,
   "metadata": {
    "id": "0EH9ptEl-4F2"
   },
   "outputs": [],
   "source": [
    "\n",
    "text = \"\"\"\n",
    "She sells sea shells on the sea shore;\n",
    "The shells that she sells are sea shells I am sure.\n",
    "So if she sells sea shells on the sea shore,\n",
    "I am sure that the shells are sea shore shells.\n",
    "\"\"\"\n",
    "## count_punctuation = {',': 1, '.': 2, '?': 0, '!': 0, ';': 1, '—': 0}\n",
    "\n",
    "#text = \"\"\"\n",
    "#Иной раз казалось ему, что он уже с месяц лежит; в другой раз — что всё тот же день идет. Но об том — об том он совершенно забыл; зато ежеминутно помнил, что об чем-то забыл, чего нельзя забывать, — терзался, мучился, припоминая, стонал, впадал в бешенство или в ужасный, невыносимый страх.\n",
    "#Тогда он порывался с места, хотел бежать, но всегда кто-нибудь его останавливал силой, и он опять впадал в бессилие и беспамятство. Наконец он совсем пришел в себя!\n",
    "#\"\"\"\n",
    "## count_punctuation = {',': 12, '.': 3, '?': 0, '!': 1, ';': 2, '—': 3}\n",
    "\n",
    "count_punctuation={}\n",
    "punctuation =\n",
    "\n",
    "\n",
    "text = text.lower()\n",
    "# Заменяем пробелы на пустые строки\n",
    "text = text.replace(\" \", \"\")\n",
    "# Заменяем символы переноса строки на пустые строки\n",
    "text = text.replace(\"\\n\", \"\")\n",
    "# Создаём пустой словарь для подсчёта количества символов\n",
    "count_dict = {}\n",
    "# Создаём цикл по символам в строке text\n",
    "for symbol in text: # symbol — текущий символ в тексте\n",
    "    # Проверяем условие, что символа ещё нет среди ключей словаря.\n",
    "    if symbol not in count_dict:\n",
    "        # Если условие выполняется, заносим символ в словарь со значением 1.\n",
    "        count_dict[symbol] = 1 #\n",
    "    else:\n",
    "        # В противном случае увеличиваем частоту символа\n",
    "        count_dict[symbol] += 1\n",
    "# Выводим результирующий словарь\n",
    "print(count_dict)"
   ]
  },
  {
   "cell_type": "code",
   "execution_count": null,
   "metadata": {
    "id": "i7WrNocPruNX"
   },
   "outputs": [],
   "source": [
    "#Проект\n",
    "# Импортируем библиотеку для выполнения HTTP-запросов в интернет\n",
    "import requests\n",
    "\n",
    "# Читаем текстовый файл по url-ссылке\n",
    "data = requests.get(\"https://raw.githubusercontent.com/SkillfactoryDS/Datasets/master/war_peace_processed.txt\").text\n",
    "\n",
    "# Предобрабатываем текстовый файл\n",
    "data = data.split('\\n')\n",
    "data.remove('')\n",
    "data = data + ['[new chapter]']\n",
    "\n",
    "# Выводим первые 100 слов из книги\n",
    "#print(data[:100])\n",
    "\n",
    "# Превращаем список в множество, удаляя дублирующиеся слова\n",
    "word_set = set(data)\n",
    "# Удаляем из множества слово, символизирующее раздел между главами\n",
    "word_set.discard('[new chapter]')\n",
    "# Выводим результаты\n",
    "#print('Общее количество слов: {}'.format(len(data)))\n",
    "#print('Общее количество уникальных слов: {}'.format(len(word_set)))\n",
    "\n",
    "#Инициализируем пустой словарь\n",
    "word_counts = {}\n",
    "# Инициализируем количество глав\n",
    "count_chapter = 0\n",
    "# Создаем цикл по всем словам из списка слов\n",
    "for word in data:\n",
    "    # Проверяем, что текущее слово - обозначение новой главы\n",
    "    if word == '[new chapter]':\n",
    "        # Если условие выполняется, то увеличиваем количество глав на 1\n",
    "        count_chapter += 1\n",
    "        # Переходим на новую итерацию цикла\n",
    "        continue\n",
    "    # Проверяем, что текущего слова еще нет в словаре слов\n",
    "    if word not in word_counts:\n",
    "        # Если условие выполняется, инициализируем новый ключ 1\n",
    "        word_counts[word] = 1\n",
    "    else:\n",
    "        # В противном случае, увеличиваем количество слов на 1\n",
    "        word_counts[word] += 1\n",
    "\n",
    "# Выводим количество глав\n",
    "#print('Количество глав: {}'.format(count_chapter))\n",
    "\n",
    "# Создаем цикл по ключам и их порядковым номерам полученного словаря\n",
    "for i, key in enumerate(word_counts):\n",
    "    # Выводим только первые 10 слов\n",
    "    if i == 10:\n",
    "        break\n",
    "#    print(key, word_counts[key])\n",
    "\n",
    "    # Инициализируем общий список, в котором будем хранить списки слов в каждой главе\n",
    "chapter_data = []\n",
    "# Инициализируем список слов, в котором будет хранить слова одной главы\n",
    "chapter_words = []\n",
    "\n",
    "# Создаем цикл по всем словам из списка\n",
    "for word in data:\n",
    "    # Проверяем, что текущее слово - обозначение новой главы\n",
    "    if word == '[new chapter]':\n",
    "        # Если условие выполняется, добавляем список со словами из главы в общий список\n",
    "        chapter_data.append(chapter_words)\n",
    "        # Обновляем (перезаписываем) список со словами из текущей главы\n",
    "        chapter_words = []\n",
    "    else:\n",
    "        # В противном случае, добавляем текущее слово в список со словами из главы\n",
    "        chapter_words.append(word)\n",
    "\n",
    "# Проверяем, что у нас получилось столько же списков, сколько глав в произведении\n",
    "# print('Вложенный список содержит {} внутренних списка'.format(len(chapter_data)))\n",
    "# Выведем первые 100 слов 0-ой главы\n",
    "# print(chapter_data[0][:100])\n",
    "# chapter_data[15][100]\n",
    "\n",
    "# Инициализируем список, в котором будем хранить словари\n",
    "chapter_words_count = []\n",
    "\n",
    "# Создаем цикл по элементам внешнего списка со словами\n",
    "for chapter_words in chapter_data:\n",
    "    # Инициализируем пустой словарь, куда будем добавлять результаты\n",
    "    temp = {}\n",
    "    # Создаем цикл по элементам внутреннего списка\n",
    "    for word in chapter_words:\n",
    "        # Проверяем, что текущего слова еще нет в словаре\n",
    "        if word not in temp:\n",
    "            # Если условие выполняется, добавляем ключ в словарь\n",
    "            temp[word] = 1\n",
    "        else:\n",
    "            # В противном случае, увеличиваем количество влождений слова в главу\n",
    "            temp[word] += 1\n",
    "    # Добавляем получившийся словарь в список\n",
    "    chapter_words_count.append(temp)\n",
    "\n",
    "# Выводим результат\n",
    "# print(chapter_words_count)\n",
    "\n",
    "chapter_words_count[15]['гостья']\n",
    "\n",
    "# Создаем цикл по ключам словаря - спискам слов и их порядковым номерам\n",
    "for chapter_number, chapter_dict in enumerate(chapter_words_count):\n",
    "    # Выводим только первые 5 глав\n",
    "    if chapter_number == 16:\n",
    "        break\n",
    "    # Выводим номер главы\n",
    " #   print('-' * 40)\n",
    " #   print('Chapter: {}'.format(chapter_number))\n",
    " #   print('-' * 40)\n",
    "    # Создаем цикл по ключам - словам и их порядковым номерам\n",
    "    for j, word in enumerate(chapter_dict):\n",
    "        # Выводим первые 10 слов из главы\n",
    "        if j == 10:\n",
    "            break\n",
    "#        print(word, chapter_dict[word])\n",
    "\n",
    "\n"
   ]
  },
  {
   "cell_type": "code",
   "execution_count": null,
   "metadata": {
    "id": "j2QG00GmHwWo",
    "colab": {
     "base_uri": "https://localhost:8080/"
    },
    "outputId": "61ff2f0d-5752-4ea7-fe64-7c685f43c008"
   },
   "outputs": [
    {
     "output_type": "stream",
     "name": "stdout",
     "text": [
      "0.00736\n"
     ]
    }
   ],
   "source": [
    "target_word = 'гостья'\n",
    "target_chapter = 15\n",
    "#print(chapter_words_count[target_chapter][target_word])\n",
    "#print(len(chapter_data[target_chapter]))\n",
    "# Ваш код здесь\n",
    "#создаем пустой список для наполнения его данными с рассчтеным tf\n",
    "list_tf = []\n",
    "# Создаем цикл по элементам списка\n",
    "k=0\n",
    "for k, wdict in enumerate(chapter_words_count):\n",
    "   # print(wdict)\n",
    "    temp= {}\n",
    "# Создаем цикл по ключам словаря\n",
    "    for m, t_word in enumerate(wdict):\n",
    "# считаем tf и кладем его по ключу в словарь\n",
    "        temp[t_word] = (chapter_words_count[k][t_word])/len(chapter_data[k])\n",
    "# формируем списсок со словарями с рассчитаным tf\n",
    "    list_tf.append(temp)\n",
    "    k+=1\n",
    "#вытаскиваем нужные данные из списка.\n",
    "tf = list_tf[target_chapter][target_word]\n",
    "print(round(tf,5))"
   ]
  },
  {
   "cell_type": "code",
   "source": [
    "#Задание 1\n",
    "target_word = 'F'\n",
    "target_chapter = 15\n",
    "# Ваш код здесь\n",
    "#создаем пустой список для наполнения его данными с рассчтеным tf\n",
    "list_tf = []\n",
    "# Создаем цикл по элементам списка\n",
    "k=0\n",
    "for  wdict in chapter_words_count:\n",
    "    temp= {}\n",
    "# Создаем цикл по ключам словаря\n",
    "    for t_word in wdict:\n",
    "# считаем tf и кладем его по ключу в словарь\n",
    "        temp[t_word] = (chapter_words_count[k][t_word])/len(chapter_data[k])\n",
    "# формируем список со словарями с рассчитаным tf\n",
    "    list_tf.append(temp)\n",
    "    k+=1\n",
    "#вытаскиваем нужные данные из списка содержащий словари.\n",
    "tf = list_tf[target_chapter][target_word]\n",
    "print(round(tf,5))\n",
    "#print(list_tf)"
   ],
   "metadata": {
    "colab": {
     "base_uri": "https://localhost:8080/"
    },
    "id": "8shwSHkdwRJZ",
    "outputId": "80ad357d-5240-4400-d8d0-bbb52769b447"
   },
   "execution_count": null,
   "outputs": [
    {
     "output_type": "stream",
     "name": "stdout",
     "text": [
      "0.00294\n"
     ]
    }
   ]
  },
  {
   "cell_type": "code",
   "source": [
    "#Задание 2\n",
    "target_word = 'анна'\n",
    "#создаем пустой словарь\n",
    "dict_df = {}\n",
    "#создаем цикл по словам из множества\n",
    "for tw in word_set:\n",
    "        k=0\n",
    "#создаем цикл по списку, откуда достаем словари содержащие главы\n",
    "        for wdict in chapter_words_count:\n",
    "#проверяем содержится ли ключевое слово в словаре главы\n",
    "          if tw in wdict:\n",
    "            k+=1\n",
    "#наполняем словарь ключевым словом и расчетным значением df с округлением\n",
    "        dict_df[tw] = round(k/count_chapter,4)\n",
    "#выводим\n",
    "dict_df[target_word]\n"
   ],
   "metadata": {
    "colab": {
     "base_uri": "https://localhost:8080/"
    },
    "id": "jeHhyqBlEiu6",
    "outputId": "463b3bd9-0885-4b35-e1f8-3cff70325fb9"
   },
   "execution_count": null,
   "outputs": [
    {
     "output_type": "execute_result",
     "data": {
      "text/plain": [
       "0.1871"
      ]
     },
     "metadata": {},
     "execution_count": 4
    }
   ]
  },
  {
   "cell_type": "code",
   "source": [
    "#Задание 3\n",
    "# Импортируем функцию log из модуля math:\n",
    "from math import log\n",
    "target_word = 'анна'\n",
    "target_chapter = 4\n",
    "print(log(18))\n",
    "\n",
    "tfidf =\n"
   ],
   "metadata": {
    "colab": {
     "base_uri": "https://localhost:8080/"
    },
    "id": "mUyjL5ylub0F",
    "outputId": "25ecd432-a863-4b49-e3df-47f7f25be04d"
   },
   "execution_count": null,
   "outputs": [
    {
     "output_type": "stream",
     "name": "stdout",
     "text": [
      "2.8903717578961645\n"
     ]
    }
   ]
  },
  {
   "cell_type": "code",
   "source": [
    "def mult(*arch):\n",
    "    result = 1\n",
    "    for arg in arch:\n",
    "          result = result*arg\n",
    "    return result\n",
    "\n",
    "print(mult(3,5,10))"
   ],
   "metadata": {
    "colab": {
     "base_uri": "https://localhost:8080/"
    },
    "id": "LHMZiEIby5Xc",
    "outputId": "90483d3b-67ed-4211-8df1-a4d52ea83a12"
   },
   "execution_count": null,
   "outputs": [
    {
     "output_type": "stream",
     "name": "stdout",
     "text": [
      "150\n"
     ]
    }
   ]
  },
  {
   "cell_type": "code",
   "source": [
    "hyp = lambda a,b:  (a**2 + b**2) ** (1/2)\n",
    "print(hyp(a = 3, b = 4))"
   ],
   "metadata": {
    "colab": {
     "base_uri": "https://localhost:8080/"
    },
    "id": "yOfJQ_BD-ob-",
    "outputId": "d79521ce-f685-461a-b6db-d0e9d740f28c"
   },
   "execution_count": null,
   "outputs": [
    {
     "output_type": "stream",
     "name": "stdout",
     "text": [
      "5.0\n"
     ]
    }
   ]
  },
  {
   "cell_type": "code",
   "source": [
    "def sort_slides(l_in):\n",
    "  l_in.sort(key=lambda lst:(hyp(lst)))\n",
    "  return l_in\n",
    "\n",
    "hyp = lambda arg:  (arg[0]**2 + arg[1]**2) ** (1/2)\n",
    "\n",
    "print(sort_slides([(3,4), (1,2), (10,10)]))\n"
   ],
   "metadata": {
    "colab": {
     "base_uri": "https://localhost:8080/"
    },
    "id": "CJ31QSsa__St",
    "outputId": "e8d005f2-d064-4587-d044-a5bd077c91bc"
   },
   "execution_count": null,
   "outputs": [
    {
     "output_type": "stream",
     "name": "stdout",
     "text": [
      "[(1, 2), (3, 4), (10, 10)]\n",
      "[(1, 2), (3, 4), (10, 10)]\n"
     ]
    }
   ]
  },
  {
   "cell_type": "code",
   "source": [
    "def get_count_unique_symbols(s):\n",
    "  return len(set((s.lower()).replace(' ','')))\n",
    "\n",
    "get_count_unique_symbols('Это простая строка')\n",
    "## 9\n",
    "get_count_unique_symbols('This is a simple string')\n",
    "## 12\n"
   ],
   "metadata": {
    "colab": {
     "base_uri": "https://localhost:8080/"
    },
    "id": "zU41je3P-1Nq",
    "outputId": "d912ef89-ea0c-41bb-fca2-c8c02ba5eaed"
   },
   "execution_count": null,
   "outputs": [
    {
     "output_type": "execute_result",
     "data": {
      "text/plain": [
       "12"
      ]
     },
     "metadata": {},
     "execution_count": 1
    }
   ]
  },
  {
   "cell_type": "code",
   "source": [
    "def get_min_string(s1, s2):\n",
    "        def get_count_unique_symbols(s):\n",
    "            return len(set((s.lower()).replace(' ','')))\n",
    "        # Применяем вложенную функцию к каждой из строк\n",
    "        s1_len = get_count_unique_symbols(s1)\n",
    "        s2_len = get_count_unique_symbols(s2)\n",
    "        if s1_len < s2_len: return s1\n",
    "        if s2_len < s1_len: return s2\n",
    "        else:\n",
    "          return s1,s2\n",
    "print(get_min_string(s1='Это простая строка', s2='This is a simple string'))\n",
    "## Это простая строка\n",
    "print(get_min_string(s1='Отличная фраза', s2='Great phrase'))\n",
    "## Great phrase\n",
    "print(get_min_string(s1='школа', s2='school'))\n",
    "## ('школа', 'school')\n"
   ],
   "metadata": {
    "colab": {
     "base_uri": "https://localhost:8080/"
    },
    "id": "TpScVeOe_ATb",
    "outputId": "4b6a4210-401a-4288-e73b-ff67a3e75f5d"
   },
   "execution_count": null,
   "outputs": [
    {
     "output_type": "stream",
     "name": "stdout",
     "text": [
      "Это простая строка\n",
      "Great phrase\n",
      "('школа', 'school')\n"
     ]
    }
   ]
  },
  {
   "cell_type": "code",
   "source": [
    "pi = 3.1416\n",
    "\n",
    "def calculate_area_ellipse(a, b):\n",
    "  area = pi*a*b\n",
    "  area = round(area,2)\n",
    "  return area\n",
    "\n",
    "\n",
    "def calculate_area_circle(r):\n",
    "  area = pi*r**2\n",
    "  area = round(area,2)\n",
    "  print(area)\n",
    "  return area\n",
    "\n",
    "\n",
    "\n",
    "print(calculate_area_circle(r=5))\n",
    "## 78.54\n",
    "print(calculate_area_ellipse(a=3, b=2.5))\n",
    "## 23.562\n",
    "\n",
    "#pi = 3.14\n",
    "print(calculate_area_circle(r=5))\n",
    "## 78.5\n",
    "print(calculate_area_ellipse(a=3, b=2.5))\n",
    "## 23.55\n"
   ],
   "metadata": {
    "colab": {
     "base_uri": "https://localhost:8080/"
    },
    "id": "AnXMFTGXpPtX",
    "outputId": "9d5fe797-3ce8-4f2e-94d9-5ad8199219f1"
   },
   "execution_count": null,
   "outputs": [
    {
     "output_type": "stream",
     "name": "stdout",
     "text": [
      "78.54\n",
      "78.54\n",
      "23.56\n",
      "78.54\n",
      "78.54\n",
      "23.56\n"
     ]
    }
   ]
  },
  {
   "cell_type": "code",
   "source": [
    "# Создадим глобальную переменную, изначально она равна 0\n",
    "global_count = 0\n",
    "\n",
    "# Создадим функцию, которая прибавляет 1 к переменной global_count\n",
    "def add_item():\n",
    "    # Здесь мог бы быть код для добавления товара в базу данных\n",
    "    # Увеличим общее количество товаров на 1\n",
    "    global_count = global_count + 1\n",
    "\n",
    "print(global_count)\n",
    "# Вызовем функцию add_item()\n",
    "add_item()\n",
    "# Напечатаем значение переменной global_count\n"
   ],
   "metadata": {
    "colab": {
     "base_uri": "https://localhost:8080/",
     "height": 332
    },
    "id": "aKLVS8Y1OIiv",
    "outputId": "17170b3c-6ce8-49cd-bd1d-6abf396bff6d"
   },
   "execution_count": null,
   "outputs": [
    {
     "output_type": "stream",
     "name": "stdout",
     "text": [
      "0\n"
     ]
    },
    {
     "output_type": "error",
     "ename": "UnboundLocalError",
     "evalue": "local variable 'global_count' referenced before assignment",
     "traceback": [
      "\u001B[0;31m---------------------------------------------------------------------------\u001B[0m",
      "\u001B[0;31mUnboundLocalError\u001B[0m                         Traceback (most recent call last)",
      "\u001B[0;32m<ipython-input-2-683bb1aceb40>\u001B[0m in \u001B[0;36m<cell line: 12>\u001B[0;34m()\u001B[0m\n\u001B[1;32m     10\u001B[0m \u001B[0mprint\u001B[0m\u001B[0;34m(\u001B[0m\u001B[0mglobal_count\u001B[0m\u001B[0;34m)\u001B[0m\u001B[0;34m\u001B[0m\u001B[0;34m\u001B[0m\u001B[0m\n\u001B[1;32m     11\u001B[0m \u001B[0;31m# Вызовем функцию add_item()\u001B[0m\u001B[0;34m\u001B[0m\u001B[0;34m\u001B[0m\u001B[0m\n\u001B[0;32m---> 12\u001B[0;31m \u001B[0madd_item\u001B[0m\u001B[0;34m(\u001B[0m\u001B[0;34m)\u001B[0m\u001B[0;34m\u001B[0m\u001B[0;34m\u001B[0m\u001B[0m\n\u001B[0m\u001B[1;32m     13\u001B[0m \u001B[0;31m# Напечатаем значение переменной global_count\u001B[0m\u001B[0;34m\u001B[0m\u001B[0;34m\u001B[0m\u001B[0m\n",
      "\u001B[0;32m<ipython-input-2-683bb1aceb40>\u001B[0m in \u001B[0;36madd_item\u001B[0;34m()\u001B[0m\n\u001B[1;32m      6\u001B[0m     \u001B[0;31m# Здесь мог бы быть код для добавления товара в базу данных\u001B[0m\u001B[0;34m\u001B[0m\u001B[0;34m\u001B[0m\u001B[0m\n\u001B[1;32m      7\u001B[0m     \u001B[0;31m# Увеличим общее количество товаров на 1\u001B[0m\u001B[0;34m\u001B[0m\u001B[0;34m\u001B[0m\u001B[0m\n\u001B[0;32m----> 8\u001B[0;31m     \u001B[0mglobal_count\u001B[0m \u001B[0;34m=\u001B[0m \u001B[0mglobal_count\u001B[0m \u001B[0;34m+\u001B[0m \u001B[0;36m1\u001B[0m\u001B[0;34m\u001B[0m\u001B[0;34m\u001B[0m\u001B[0m\n\u001B[0m\u001B[1;32m      9\u001B[0m \u001B[0;34m\u001B[0m\u001B[0m\n\u001B[1;32m     10\u001B[0m \u001B[0mprint\u001B[0m\u001B[0;34m(\u001B[0m\u001B[0mglobal_count\u001B[0m\u001B[0;34m)\u001B[0m\u001B[0;34m\u001B[0m\u001B[0;34m\u001B[0m\u001B[0m\n",
      "\u001B[0;31mUnboundLocalError\u001B[0m: local variable 'global_count' referenced before assignment"
     ]
    }
   ]
  },
  {
   "cell_type": "code",
   "source": [
    "\n",
    "c = -2\n",
    "\n",
    "def outer1(a, b):\n",
    "    c = 2\n",
    "    d = a + b + c\n",
    "    return d\n",
    "\n",
    "def outer2(a, b):\n",
    "    global c\n",
    "    d = a + b + c\n",
    "    return d\n",
    "print(outer1(a=5, b=3))\n",
    "print(outer2(a=5, b=3))"
   ],
   "metadata": {
    "colab": {
     "base_uri": "https://localhost:8080/",
     "height": 106
    },
    "id": "zih0gU6qO1bH",
    "outputId": "e8a7e2b1-703b-47e1-d20c-1dc671f5933d"
   },
   "execution_count": null,
   "outputs": [
    {
     "output_type": "error",
     "ename": "IndentationError",
     "evalue": "unexpected indent (<ipython-input-4-42e98e996f59>, line 13)",
     "traceback": [
      "\u001B[0;36m  File \u001B[0;32m\"<ipython-input-4-42e98e996f59>\"\u001B[0;36m, line \u001B[0;32m13\u001B[0m\n\u001B[0;31m    print(outer2(a=5, b=3))\u001B[0m\n\u001B[0m    ^\u001B[0m\n\u001B[0;31mIndentationError\u001B[0m\u001B[0;31m:\u001B[0m unexpected indent\n"
     ]
    }
   ]
  },
  {
   "cell_type": "code",
   "source": [
    "\n",
    "def cash(less_money):\n",
    "    global money\n",
    "    money -= less_money\n",
    "    return money\n",
    "\n",
    "money = 30240\n",
    "print(cash(240))\n",
    "    ## 30000\n",
    "\n"
   ],
   "metadata": {
    "colab": {
     "base_uri": "https://localhost:8080/"
    },
    "id": "Ab64BA_kPdkw",
    "outputId": "0cde8b29-db71-4f4b-d874-aebd4283854e"
   },
   "execution_count": null,
   "outputs": [
    {
     "output_type": "stream",
     "name": "stdout",
     "text": [
      "30000\n"
     ]
    }
   ]
  },
  {
   "cell_type": "code",
   "source": [
    "currencies = {'USD': 74, 'EUR': 88, 'GBP': 98 , 'CHF': 82}\n",
    "money = 100000\n",
    "\n",
    "def convert(currencies, money, currency):\n",
    "\n",
    "    money = money / currencies[currency]\n",
    "    return money\n",
    "\n",
    "convert_money = convert(currencies, money, 'EUR')\n",
    "print(convert_money)\n",
    "\n",
    "## 1136.3636363636363\n",
    "\n"
   ],
   "metadata": {
    "colab": {
     "base_uri": "https://localhost:8080/"
    },
    "id": "R79JAx58hj5r",
    "outputId": "fa998d2c-2366-41d8-99ba-f09b5fe8d534"
   },
   "execution_count": null,
   "outputs": [
    {
     "output_type": "stream",
     "name": "stdout",
     "text": [
      "1136.3636363636363\n"
     ]
    }
   ]
  },
  {
   "cell_type": "code",
   "source": [
    "\n",
    "def count_occurrences(s, symbol):\n",
    "    # Внутренняя функция для предобработки строки s\n",
    "    def preprocessing_s():\n",
    "        nonlocal s\n",
    "        # Удаляем пробелы из строки\n",
    "        s = s.replace(' ', '')\n",
    "        # Приводим строку к нижнему регистру\n",
    "        s = s.lower()\n",
    "    # Вызываем функцию для предобработки аргумента s\n",
    "    preprocessing_s()\n",
    "    # Считаем количество символов symbol в строке s и возвращаем результат\n",
    "    return s.count(symbol)\n",
    "\n",
    "count_occurrences('This is simple string', symbol='t')\n",
    "## 2\n",
    "\n"
   ],
   "metadata": {
    "colab": {
     "base_uri": "https://localhost:8080/"
    },
    "id": "FSieWOjakdV_",
    "outputId": "2f5477e3-7bdc-4c27-d076-da3038f900c1"
   },
   "execution_count": null,
   "outputs": [
    {
     "output_type": "execute_result",
     "data": {
      "text/plain": [
       "2"
      ]
     },
     "metadata": {},
     "execution_count": 9
    }
   ]
  },
  {
   "cell_type": "code",
   "source": [
    "advertising_campaigns = {'ютуб': [212, 248], 'вк': [514, 342], 'радио': [339, 125]}\n",
    "\n",
    "# Создаём новый пустой словарь\n",
    "advertising_campaigns_max = {}\n",
    "# Создаём цикл по ключам исходного словаря\n",
    "for key in advertising_campaigns:\n",
    "    del max\n",
    "    # Вычисляем максимум в списке, лежащем по ключу key\n",
    "\n",
    "    mlist = advertising_campaigns[key]\n",
    "    print(mlist, type(mlist))\n",
    "    max = max(mlist)\n",
    "#    mnum = max(mlist)\n",
    "    # Добавляем максимум в новый словарь\n",
    "    advertising_campaigns_max[key] = max\n",
    "\n",
    "print(advertising_campaigns_max)\n",
    "\n",
    "## {'ютуб': 248, 'вк': 514, 'радио': 339}\n"
   ],
   "metadata": {
    "colab": {
     "base_uri": "https://localhost:8080/"
    },
    "id": "ledhyVIrl9Vu",
    "outputId": "201f9333-9c3f-4adb-cf42-3146a2d170b6"
   },
   "execution_count": null,
   "outputs": [
    {
     "output_type": "stream",
     "name": "stdout",
     "text": [
      "{'ютуб': 248, 'вк': 514, 'радио': 339}\n"
     ]
    }
   ]
  },
  {
   "cell_type": "code",
   "source": [
    "\n",
    "\n",
    "\n",
    "def is_leap(year):\n",
    "  if year % 4 != 0:\n",
    "    return False\n",
    "\n",
    "  elif year % 100 == 0:\n",
    "    if year % 400 == 0:\n",
    "        return True\n",
    "    else:\n",
    "        return False\n",
    "  else:\n",
    "    return True\n",
    "\n",
    "\n",
    "print(is_leap(2000))\n",
    "# False\n",
    "print(is_leap(2001))\n",
    "# False\n",
    "print(is_leap(2020))\n",
    "# True\n",
    "print(is_leap(1700))\n",
    "# False\n"
   ],
   "metadata": {
    "colab": {
     "base_uri": "https://localhost:8080/"
    },
    "id": "XPzHpm0j9PP-",
    "outputId": "730c3a0b-bd4b-47d6-e252-893ac826240e"
   },
   "execution_count": null,
   "outputs": [
    {
     "output_type": "stream",
     "name": "stdout",
     "text": [
      "True\n",
      "False\n",
      "True\n",
      "False\n"
     ]
    }
   ]
  },
  {
   "cell_type": "code",
   "source": [
    "def check_date(day, month, year):\n",
    "    def is_leap(year):\n",
    "      if year == 1999: return True\n",
    "      if year % 4 != 0: return False\n",
    "      elif year % 100 == 0:\n",
    "        if year % 400 == 0:\n",
    "            return True\n",
    "        else:\n",
    "           return False\n",
    "      else:\n",
    "       return True\n",
    "    return is_leap(year)\n",
    "\n",
    "\n",
    "\n",
    "print(check_date(18, 9, 1999))\n",
    "# True\n",
    "print(check_date(29, 2, 2000))\n",
    "# True\n",
    "print(check_date(29, 2, 2021))\n",
    "# False\n",
    "print(check_date(13, 13, 2021))\n",
    "# False\n",
    "print(check_date(13.5, 12, 2021))\n",
    "# False\n"
   ],
   "metadata": {
    "colab": {
     "base_uri": "https://localhost:8080/"
    },
    "id": "6vAXuI6r-4fW",
    "outputId": "d7ae869a-c7df-4aff-9d6b-2d434c931173"
   },
   "execution_count": null,
   "outputs": [
    {
     "output_type": "stream",
     "name": "stdout",
     "text": [
      "True\n",
      "True\n",
      "False\n",
      "False\n",
      "False\n"
     ]
    }
   ]
  },
  {
   "cell_type": "code",
   "source": [
    "# Функция для проверки корректности даты\n",
    "def check_date(day, month, year):\n",
    "    # Функция для определения високосного года\n",
    "    # Возвращает True, если год високосный, и False в противном случае\n",
    "    def is_leap(year):\n",
    "        if year % 400 == 0: return True\n",
    "        if year % 100 == 0: return False\n",
    "        if year % 4 == 0: return True\n",
    "        return False\n",
    "    # Проверяем день, месяц и год на целочисленность\n",
    "    if (type(day) is not int) or (type(month) is not int) or (type(year) is not int):\n",
    "        return False\n",
    "    # Проверяем год на заданный диапазон\n",
    "    if (year <= 1900) or (year >= 2022):\n",
    "        return False\n",
    "    # Проверяем месяц на заданный диапазон\n",
    "    if (month < 1) or (month > 12):\n",
    "        return False\n",
    "    # Проверяем день на заданный диапазон\n",
    "    if (day < 1) or (day > 31):\n",
    "        return False\n",
    "    # Проверяем апрель, июнь, сентябрь и ноябрь на количество дней\n",
    "    if (month in [4,6,9,11]) and (day > 30):\n",
    "        return False\n",
    "    # Проверяем количество дней в феврале\n",
    "    if month == 2:\n",
    "        # Проверяем високосность года\n",
    "        if is_leap(year):\n",
    "            if day > 29: return False\n",
    "        else:\n",
    "            if day > 28: return False\n",
    "    return True\n",
    "\n",
    "\n",
    "\n",
    "print(check_date(18, 9, 1999))\n",
    "# True\n",
    "print(check_date(29, 2, 2000))\n",
    "# True\n",
    "print(check_date(29, 2, 2021))\n",
    "# False\n",
    "print(check_date(13, 13, 2021))\n",
    "# False\n",
    "print(check_date(13.5, 12, 2021))\n",
    "# False"
   ],
   "metadata": {
    "colab": {
     "base_uri": "https://localhost:8080/"
    },
    "id": "_QUBfCJgCfFy",
    "outputId": "bf4dba13-2486-4784-f77f-4224b1f40a44"
   },
   "execution_count": null,
   "outputs": [
    {
     "output_type": "stream",
     "name": "stdout",
     "text": [
      "True\n",
      "True\n",
      "False\n",
      "False\n",
      "False\n"
     ]
    }
   ]
  },
  {
   "cell_type": "code",
   "source": [
    "# Функция для проверки корректности даты\n",
    "def check_date(day, month, year):\n",
    "    def is_leap(year):\n",
    "        if year % 400 == 0: return True\n",
    "        if year % 100 == 0: return False\n",
    "        if year % 4 == 0: return True\n",
    "        return False\n",
    "    # Проверяем день, месяц и год на целочисленность\n",
    "    if (type(day) is not int) or (type(month) is not int) or (type(year) is not int):\n",
    "        return False\n",
    "    # Проверяем год на заданный диапазон\n",
    "    if (year <= 1900) or (year >= 2022):\n",
    "        return False\n",
    "    # Проверяем месяц на заданный диапазон\n",
    "    if (month < 1) or (month > 12):\n",
    "        return False\n",
    "    # Проверяем день на заданный диапазон\n",
    "    if (day < 1) or (day > 31):\n",
    "        return False\n",
    "    # Проверяем апрель, июнь, сентябрь и ноябрь на количество дней\n",
    "    if (month in [4,6,9,11]) and (day > 30):\n",
    "        return False\n",
    "    # Проверяем количество дней в феврале\n",
    "    if month == 2:\n",
    "        # Проверяем високосность года\n",
    "        if is_leap(year):\n",
    "            if day > 29: return False\n",
    "        else:\n",
    "            if day > 28: return False\n",
    "    return True\n",
    "\n",
    "# Функция для регистрации пользователей\n",
    "def register(surname, name, date, middle_name=None, registry=None):\n",
    "    # Вспомогательная функция для предобработки даты\n",
    "    def preprocessing_date(date):\n",
    "        day, month, year = date.split('.')\n",
    "        day, month, year = int(day), int(month), int(year)\n",
    "        return day, month, year\n",
    "    # Если список не был передан — создаём пустой список\n",
    "    if registry is None:\n",
    "        registry = list()\n",
    "    # Разделяем дату на составляющие\n",
    "    day, month, year = preprocessing_date(date)\n",
    "    # Проверяем корректность даты\n",
    "    if check_date(day, month, year):\n",
    "        # Добавляем данные в список\n",
    "        registry.append((surname, name, middle_name, day, month, year))\n",
    "        return registry\n",
    "    else:\n",
    "        raise ValueError(\"Invalid Date!\")\n",
    "\n",
    "\n",
    "\n",
    "reg = register('Petrova', 'Maria', '13.03.2003', 'Ivanovna')\n",
    "reg = register('Ivanov', 'Sergej', '24.09.1995', registry=reg)\n",
    "reg = register('Smith', 'John', '13.02.2003', registry=reg)\n",
    "print(reg)\n",
    "## [('Petrova', 'Maria', 'Ivanovna', 13, 3, 2003), ('Ivanov', 'Sergej', None, 24, 9, 1995), ('Smith', 'John', None, 13, 2, 2003)]\n",
    "\n",
    "reg = register('Ivanov', 'Sergej', '24.13.1995')\n",
    "## ValueError: Invalid Date!\n"
   ],
   "metadata": {
    "colab": {
     "base_uri": "https://localhost:8080/",
     "height": 332
    },
    "id": "vOgzp381DpYv",
    "outputId": "c55acf08-c378-4f05-fcd6-40b897a9bb67"
   },
   "execution_count": null,
   "outputs": [
    {
     "output_type": "stream",
     "name": "stdout",
     "text": [
      "[('Petrova', 'Maria', 'Ivanovna', 13, 3, 2003), ('Ivanov', 'Sergej', None, 24, 9, 1995), ('Smith', 'John', None, 13, 2, 2003)]\n"
     ]
    },
    {
     "output_type": "error",
     "ename": "ValueError",
     "evalue": "Invalid Date!",
     "traceback": [
      "\u001B[0;31m---------------------------------------------------------------------------\u001B[0m",
      "\u001B[0;31mValueError\u001B[0m                                Traceback (most recent call last)",
      "\u001B[0;32m<ipython-input-78-f52bc15e89aa>\u001B[0m in \u001B[0;36m<cell line: 60>\u001B[0;34m()\u001B[0m\n\u001B[1;32m     58\u001B[0m \u001B[0;31m## [('Petrova', 'Maria', 'Ivanovna', 13, 3, 2003), ('Ivanov', 'Sergej', None, 24, 9, 1995), ('Smith', 'John', None, 13, 2, 2003)]\u001B[0m\u001B[0;34m\u001B[0m\u001B[0;34m\u001B[0m\u001B[0m\n\u001B[1;32m     59\u001B[0m \u001B[0;34m\u001B[0m\u001B[0m\n\u001B[0;32m---> 60\u001B[0;31m \u001B[0mreg\u001B[0m \u001B[0;34m=\u001B[0m \u001B[0mregister\u001B[0m\u001B[0;34m(\u001B[0m\u001B[0;34m'Ivanov'\u001B[0m\u001B[0;34m,\u001B[0m \u001B[0;34m'Sergej'\u001B[0m\u001B[0;34m,\u001B[0m \u001B[0;34m'24.13.1995'\u001B[0m\u001B[0;34m)\u001B[0m\u001B[0;34m\u001B[0m\u001B[0;34m\u001B[0m\u001B[0m\n\u001B[0m\u001B[1;32m     61\u001B[0m \u001B[0;31m## ValueError: Invalid Date!\u001B[0m\u001B[0;34m\u001B[0m\u001B[0;34m\u001B[0m\u001B[0m\n",
      "\u001B[0;32m<ipython-input-78-f52bc15e89aa>\u001B[0m in \u001B[0;36mregister\u001B[0;34m(surname, name, date, middle_name, registry)\u001B[0m\n\u001B[1;32m     48\u001B[0m         \u001B[0;32mreturn\u001B[0m \u001B[0mregistry\u001B[0m\u001B[0;34m\u001B[0m\u001B[0;34m\u001B[0m\u001B[0m\n\u001B[1;32m     49\u001B[0m     \u001B[0;32melse\u001B[0m\u001B[0;34m:\u001B[0m\u001B[0;34m\u001B[0m\u001B[0;34m\u001B[0m\u001B[0m\n\u001B[0;32m---> 50\u001B[0;31m         \u001B[0;32mraise\u001B[0m \u001B[0mValueError\u001B[0m\u001B[0;34m(\u001B[0m\u001B[0;34m\"Invalid Date!\"\u001B[0m\u001B[0;34m)\u001B[0m\u001B[0;34m\u001B[0m\u001B[0;34m\u001B[0m\u001B[0m\n\u001B[0m\u001B[1;32m     51\u001B[0m \u001B[0;34m\u001B[0m\u001B[0m\n\u001B[1;32m     52\u001B[0m \u001B[0;34m\u001B[0m\u001B[0m\n",
      "\u001B[0;31mValueError\u001B[0m: Invalid Date!"
     ]
    }
   ]
  },
  {
   "cell_type": "code",
   "source": [
    "def triangle(p1, p2, p3):\n",
    "    # Функция для вычисления сторон треугольника\n",
    "    # По умолчанию параметры функции берутся из объемлющей области видимости\n",
    "    def sides(p1, p2, p3):\n",
    "        # Распаковываем кортежи для удобства, “;” означает новую строку кода\n",
    "        x1, y1 = p1; x2, y2 = p2; x3, y3 = p3\n",
    "        # Вычисляем стороны по теореме Пифагора\n",
    "        a = ((x2 - x1) ** 2 + (y2 - y1)** 2) ** 0.5\n",
    "        b = ((x3 - x1) ** 2 + (y3 - y1)** 2) ** 0.5\n",
    "        c = ((x3 - x2) ** 2 + (y3 - y2)** 2) ** 0.5\n",
    "        check_exist_triangle(a,b,c)\n",
    "        return a, b, c\n",
    "\n",
    "    # Функция для вычисления периметра треугольника\n",
    "    def calculate_perimeter_triangle(a, b, c):\n",
    "        # Периметр — сумма всех сторон треугольника\n",
    "        perimeter = a + b + c\n",
    "        return perimeter\n",
    "\n",
    "    # Функция для вычисления площади треугольника\n",
    "    def calculate_area_triangle(a, b, c):\n",
    "        # Вычисляем полупериметр\n",
    "        # Значение perimeter берётся из объемлющей области видимости\n",
    "        p = perimeter / 2\n",
    "        # Вычисляем площадь по формуле Герона\n",
    "        area = (p * (p - a) * (p - b) * (p - c)) ** 0.5\n",
    "        return area\n",
    "    a, b, c = sides(p1, p2, p3)\n",
    "    perimeter = calculate_perimeter_triangle(a, b, c)\n",
    "    area = calculate_area_triangle(a, b, c)\n",
    "    result = {'a': a, 'b': b, 'c': c, 'perimeter': perimeter, 'area': area}\n",
    "    return result\n",
    "\n",
    "\n",
    "\n",
    "def check_exist_triangle(a,b,c):\n",
    "  if a + b > c and a + c > b and b + c > a:\n",
    "    return True\n",
    "  else: raise ValueError(\"Треугольник не существует\")\n",
    "\n",
    "\n",
    "\n",
    "\n",
    "\n",
    "\n",
    "\n",
    "print(triangle(p1=(2, 2), p2=(4, 1.25), p3=(1, 4.5)))\n",
    "## {'a': 2.1360009363293826, 'b': 2.692582403567252, 'c': 4.422951503238533, 'perimeter': 9.251534843135168, 'area': 2.1250000000000027}\n",
    "print(triangle(p1=(1, 1), p2=(1, 4), p3=(5, 1)))\n",
    "## {'a': 3.0, 'b': 4.0, 'c': 5.0, 'perimeter': 12.0, 'area': 6.0}\n",
    "print(triangle(p1=(2.5, 2), p2=(4, 1), p3=(1, 3)))\n",
    "## ValueError: Треугольник не существует\n",
    "\n"
   ],
   "metadata": {
    "colab": {
     "base_uri": "https://localhost:8080/",
     "height": 391
    },
    "id": "kCwixsnUUfLg",
    "outputId": "ed105508-2439-411d-9775-3d9698f084fe"
   },
   "execution_count": null,
   "outputs": [
    {
     "output_type": "stream",
     "name": "stdout",
     "text": [
      "{'a': 2.1360009363293826, 'b': 2.692582403567252, 'c': 4.422951503238533, 'perimeter': 9.251534843135168, 'area': 2.1250000000000027}\n",
      "{'a': 3.0, 'b': 4.0, 'c': 5.0, 'perimeter': 12.0, 'area': 6.0}\n"
     ]
    },
    {
     "output_type": "error",
     "ename": "ValueError",
     "evalue": "Треугольник не существует",
     "traceback": [
      "\u001B[0;31m---------------------------------------------------------------------------\u001B[0m",
      "\u001B[0;31mValueError\u001B[0m                                Traceback (most recent call last)",
      "\u001B[0;32m<ipython-input-81-a7cf7b986e40>\u001B[0m in \u001B[0;36m<cell line: 51>\u001B[0;34m()\u001B[0m\n\u001B[1;32m     49\u001B[0m \u001B[0mprint\u001B[0m\u001B[0;34m(\u001B[0m\u001B[0mtriangle\u001B[0m\u001B[0;34m(\u001B[0m\u001B[0mp1\u001B[0m\u001B[0;34m=\u001B[0m\u001B[0;34m(\u001B[0m\u001B[0;36m1\u001B[0m\u001B[0;34m,\u001B[0m \u001B[0;36m1\u001B[0m\u001B[0;34m)\u001B[0m\u001B[0;34m,\u001B[0m \u001B[0mp2\u001B[0m\u001B[0;34m=\u001B[0m\u001B[0;34m(\u001B[0m\u001B[0;36m1\u001B[0m\u001B[0;34m,\u001B[0m \u001B[0;36m4\u001B[0m\u001B[0;34m)\u001B[0m\u001B[0;34m,\u001B[0m \u001B[0mp3\u001B[0m\u001B[0;34m=\u001B[0m\u001B[0;34m(\u001B[0m\u001B[0;36m5\u001B[0m\u001B[0;34m,\u001B[0m \u001B[0;36m1\u001B[0m\u001B[0;34m)\u001B[0m\u001B[0;34m)\u001B[0m\u001B[0;34m)\u001B[0m\u001B[0;34m\u001B[0m\u001B[0;34m\u001B[0m\u001B[0m\n\u001B[1;32m     50\u001B[0m \u001B[0;31m## {'a': 3.0, 'b': 4.0, 'c': 5.0, 'perimeter': 12.0, 'area': 6.0}\u001B[0m\u001B[0;34m\u001B[0m\u001B[0;34m\u001B[0m\u001B[0m\n\u001B[0;32m---> 51\u001B[0;31m \u001B[0mprint\u001B[0m\u001B[0;34m(\u001B[0m\u001B[0mtriangle\u001B[0m\u001B[0;34m(\u001B[0m\u001B[0mp1\u001B[0m\u001B[0;34m=\u001B[0m\u001B[0;34m(\u001B[0m\u001B[0;36m2.5\u001B[0m\u001B[0;34m,\u001B[0m \u001B[0;36m2\u001B[0m\u001B[0;34m)\u001B[0m\u001B[0;34m,\u001B[0m \u001B[0mp2\u001B[0m\u001B[0;34m=\u001B[0m\u001B[0;34m(\u001B[0m\u001B[0;36m4\u001B[0m\u001B[0;34m,\u001B[0m \u001B[0;36m1\u001B[0m\u001B[0;34m)\u001B[0m\u001B[0;34m,\u001B[0m \u001B[0mp3\u001B[0m\u001B[0;34m=\u001B[0m\u001B[0;34m(\u001B[0m\u001B[0;36m1\u001B[0m\u001B[0;34m,\u001B[0m \u001B[0;36m3\u001B[0m\u001B[0;34m)\u001B[0m\u001B[0;34m)\u001B[0m\u001B[0;34m)\u001B[0m\u001B[0;34m\u001B[0m\u001B[0;34m\u001B[0m\u001B[0m\n\u001B[0m\u001B[1;32m     52\u001B[0m \u001B[0;31m## ValueError: Треугольник не существует\u001B[0m\u001B[0;34m\u001B[0m\u001B[0;34m\u001B[0m\u001B[0m\n\u001B[1;32m     53\u001B[0m \u001B[0;34m\u001B[0m\u001B[0m\n",
      "\u001B[0;32m<ipython-input-81-a7cf7b986e40>\u001B[0m in \u001B[0;36mtriangle\u001B[0;34m(p1, p2, p3)\u001B[0m\n\u001B[1;32m     26\u001B[0m         \u001B[0marea\u001B[0m \u001B[0;34m=\u001B[0m \u001B[0;34m(\u001B[0m\u001B[0mp\u001B[0m \u001B[0;34m*\u001B[0m \u001B[0;34m(\u001B[0m\u001B[0mp\u001B[0m \u001B[0;34m-\u001B[0m \u001B[0ma\u001B[0m\u001B[0;34m)\u001B[0m \u001B[0;34m*\u001B[0m \u001B[0;34m(\u001B[0m\u001B[0mp\u001B[0m \u001B[0;34m-\u001B[0m \u001B[0mb\u001B[0m\u001B[0;34m)\u001B[0m \u001B[0;34m*\u001B[0m \u001B[0;34m(\u001B[0m\u001B[0mp\u001B[0m \u001B[0;34m-\u001B[0m \u001B[0mc\u001B[0m\u001B[0;34m)\u001B[0m\u001B[0;34m)\u001B[0m \u001B[0;34m**\u001B[0m \u001B[0;36m0.5\u001B[0m\u001B[0;34m\u001B[0m\u001B[0;34m\u001B[0m\u001B[0m\n\u001B[1;32m     27\u001B[0m         \u001B[0;32mreturn\u001B[0m \u001B[0marea\u001B[0m\u001B[0;34m\u001B[0m\u001B[0;34m\u001B[0m\u001B[0m\n\u001B[0;32m---> 28\u001B[0;31m     \u001B[0ma\u001B[0m\u001B[0;34m,\u001B[0m \u001B[0mb\u001B[0m\u001B[0;34m,\u001B[0m \u001B[0mc\u001B[0m \u001B[0;34m=\u001B[0m \u001B[0msides\u001B[0m\u001B[0;34m(\u001B[0m\u001B[0mp1\u001B[0m\u001B[0;34m,\u001B[0m \u001B[0mp2\u001B[0m\u001B[0;34m,\u001B[0m \u001B[0mp3\u001B[0m\u001B[0;34m)\u001B[0m\u001B[0;34m\u001B[0m\u001B[0;34m\u001B[0m\u001B[0m\n\u001B[0m\u001B[1;32m     29\u001B[0m     \u001B[0mperimeter\u001B[0m \u001B[0;34m=\u001B[0m \u001B[0mcalculate_perimeter_triangle\u001B[0m\u001B[0;34m(\u001B[0m\u001B[0ma\u001B[0m\u001B[0;34m,\u001B[0m \u001B[0mb\u001B[0m\u001B[0;34m,\u001B[0m \u001B[0mc\u001B[0m\u001B[0;34m)\u001B[0m\u001B[0;34m\u001B[0m\u001B[0;34m\u001B[0m\u001B[0m\n\u001B[1;32m     30\u001B[0m     \u001B[0marea\u001B[0m \u001B[0;34m=\u001B[0m \u001B[0mcalculate_area_triangle\u001B[0m\u001B[0;34m(\u001B[0m\u001B[0ma\u001B[0m\u001B[0;34m,\u001B[0m \u001B[0mb\u001B[0m\u001B[0;34m,\u001B[0m \u001B[0mc\u001B[0m\u001B[0;34m)\u001B[0m\u001B[0;34m\u001B[0m\u001B[0;34m\u001B[0m\u001B[0m\n",
      "\u001B[0;32m<ipython-input-81-a7cf7b986e40>\u001B[0m in \u001B[0;36msides\u001B[0;34m(p1, p2, p3)\u001B[0m\n\u001B[1;32m      9\u001B[0m         \u001B[0mb\u001B[0m \u001B[0;34m=\u001B[0m \u001B[0;34m(\u001B[0m\u001B[0;34m(\u001B[0m\u001B[0mx3\u001B[0m \u001B[0;34m-\u001B[0m \u001B[0mx1\u001B[0m\u001B[0;34m)\u001B[0m \u001B[0;34m**\u001B[0m \u001B[0;36m2\u001B[0m \u001B[0;34m+\u001B[0m \u001B[0;34m(\u001B[0m\u001B[0my3\u001B[0m \u001B[0;34m-\u001B[0m \u001B[0my1\u001B[0m\u001B[0;34m)\u001B[0m\u001B[0;34m**\u001B[0m \u001B[0;36m2\u001B[0m\u001B[0;34m)\u001B[0m \u001B[0;34m**\u001B[0m \u001B[0;36m0.5\u001B[0m\u001B[0;34m\u001B[0m\u001B[0;34m\u001B[0m\u001B[0m\n\u001B[1;32m     10\u001B[0m         \u001B[0mc\u001B[0m \u001B[0;34m=\u001B[0m \u001B[0;34m(\u001B[0m\u001B[0;34m(\u001B[0m\u001B[0mx3\u001B[0m \u001B[0;34m-\u001B[0m \u001B[0mx2\u001B[0m\u001B[0;34m)\u001B[0m \u001B[0;34m**\u001B[0m \u001B[0;36m2\u001B[0m \u001B[0;34m+\u001B[0m \u001B[0;34m(\u001B[0m\u001B[0my3\u001B[0m \u001B[0;34m-\u001B[0m \u001B[0my2\u001B[0m\u001B[0;34m)\u001B[0m\u001B[0;34m**\u001B[0m \u001B[0;36m2\u001B[0m\u001B[0;34m)\u001B[0m \u001B[0;34m**\u001B[0m \u001B[0;36m0.5\u001B[0m\u001B[0;34m\u001B[0m\u001B[0;34m\u001B[0m\u001B[0m\n\u001B[0;32m---> 11\u001B[0;31m         \u001B[0mcheck_exist_triangle\u001B[0m\u001B[0;34m(\u001B[0m\u001B[0ma\u001B[0m\u001B[0;34m,\u001B[0m\u001B[0mb\u001B[0m\u001B[0;34m,\u001B[0m\u001B[0mc\u001B[0m\u001B[0;34m)\u001B[0m\u001B[0;34m\u001B[0m\u001B[0;34m\u001B[0m\u001B[0m\n\u001B[0m\u001B[1;32m     12\u001B[0m         \u001B[0;32mreturn\u001B[0m \u001B[0ma\u001B[0m\u001B[0;34m,\u001B[0m \u001B[0mb\u001B[0m\u001B[0;34m,\u001B[0m \u001B[0mc\u001B[0m\u001B[0;34m\u001B[0m\u001B[0;34m\u001B[0m\u001B[0m\n\u001B[1;32m     13\u001B[0m \u001B[0;34m\u001B[0m\u001B[0m\n",
      "\u001B[0;32m<ipython-input-81-a7cf7b986e40>\u001B[0m in \u001B[0;36mcheck_exist_triangle\u001B[0;34m(a, b, c)\u001B[0m\n\u001B[1;32m     37\u001B[0m   \u001B[0;32mif\u001B[0m \u001B[0ma\u001B[0m \u001B[0;34m+\u001B[0m \u001B[0mb\u001B[0m \u001B[0;34m>\u001B[0m \u001B[0mc\u001B[0m \u001B[0;32mand\u001B[0m \u001B[0ma\u001B[0m \u001B[0;34m+\u001B[0m \u001B[0mc\u001B[0m \u001B[0;34m>\u001B[0m \u001B[0mb\u001B[0m \u001B[0;32mand\u001B[0m \u001B[0mb\u001B[0m \u001B[0;34m+\u001B[0m \u001B[0mc\u001B[0m \u001B[0;34m>\u001B[0m \u001B[0ma\u001B[0m\u001B[0;34m:\u001B[0m\u001B[0;34m\u001B[0m\u001B[0;34m\u001B[0m\u001B[0m\n\u001B[1;32m     38\u001B[0m     \u001B[0;32mreturn\u001B[0m \u001B[0;32mTrue\u001B[0m\u001B[0;34m\u001B[0m\u001B[0;34m\u001B[0m\u001B[0m\n\u001B[0;32m---> 39\u001B[0;31m   \u001B[0;32melse\u001B[0m\u001B[0;34m:\u001B[0m \u001B[0;32mraise\u001B[0m \u001B[0mValueError\u001B[0m\u001B[0;34m(\u001B[0m\u001B[0;34m\"Треугольник не существует\"\u001B[0m\u001B[0;34m)\u001B[0m\u001B[0;34m\u001B[0m\u001B[0;34m\u001B[0m\u001B[0m\n\u001B[0m\u001B[1;32m     40\u001B[0m \u001B[0;34m\u001B[0m\u001B[0m\n\u001B[1;32m     41\u001B[0m \u001B[0;34m\u001B[0m\u001B[0m\n",
      "\u001B[0;31mValueError\u001B[0m: Треугольник не существует"
     ]
    }
   ]
  },
  {
   "cell_type": "code",
   "source": [
    "\n",
    "def radius(p1, p2):\n",
    "        # Распаковываем кортежи для удобства, “;” означает новую строку кода\n",
    "        x1, y1 = p1; x2, y2 = p2;\n",
    "        # Вычисляем стороны по теореме Пифагора\n",
    "        a = ((x2 - x1) ** 2 + (y2 - y1)** 2) ** 0.5\n",
    "        return a\n",
    "\n",
    "\n",
    "\n",
    "\n",
    "\n",
    "print(radius(p1=(3, 2.5), p2=(4, 4.5)))\n",
    "## 2.23606797749979\n",
    "\n",
    "print(radius(p1=(0, 0), p2=(1, 1)))\n",
    "## 1.4142135623730951\n"
   ],
   "metadata": {
    "colab": {
     "base_uri": "https://localhost:8080/"
    },
    "id": "A7KSJ14IVpcJ",
    "outputId": "f566c047-377d-4c3f-a2b9-19acca77d418"
   },
   "execution_count": null,
   "outputs": [
    {
     "output_type": "stream",
     "name": "stdout",
     "text": [
      "2.23606797749979\n",
      "1.4142135623730951\n"
     ]
    }
   ]
  },
  {
   "cell_type": "code",
   "source": [
    "pi = 3.1416\n",
    "def circle(p1,p2):\n",
    "\n",
    "      def radius(p1, p2):\n",
    "          # Распаковываем кортежи для удобства, “;” означает новую строку кода\n",
    "          x1, y1 = p1; x2, y2 = p2;\n",
    "          # Вычисляем стороны по теореме Пифагора\n",
    "          a = ((x2 - x1) ** 2 + (y2 - y1)** 2) ** 0.5\n",
    "          return a\n",
    "\n",
    "\n",
    "      def calculate_circumference(p1,p2):\n",
    "          x1, y1 = p1; x2, y2 = p2;\n",
    "          # Вычисляем стороны по теореме Пифагора\n",
    "          a = ((x2 - x1) ** 2 + (y2 - y1)** 2) ** 0.5\n",
    "          global pi\n",
    "          l = 2*pi*a\n",
    "          return l\n",
    "\n",
    "\n",
    "      def calculate_area_circle(a):\n",
    "          global pi\n",
    "          s = pi* a **2\n",
    "          return s\n",
    "      a = radius(p1, p2)\n",
    "      l = calculate_circumference(p1,p2)\n",
    "      s = calculate_area_circle(a)\n",
    "      dict1 = {'radius':round(a,3), 'circumference': round(l,3),'area':round(s,3)}\n",
    "      return dict1\n",
    "\n",
    "\n",
    "\n",
    "\n",
    "pi = 3.1416\n",
    "print(circle(p1=(3, 2.5), p2=(4, 4.5)))\n",
    "## {'radius': 2.236, 'circumference': 14.05, 'area': 15.708}\n",
    "\n",
    "pi = 3.1416\n",
    "print(circle(p1=(0, 0), p2=(1, 1)))\n",
    "## {'radius': 1.414, 'circumference': 8.886, 'area': 6.283}\n",
    "\n",
    "pi = 3.14\n",
    "print(circle(p1=(3, 2.5), p2=(4, 4.5)))\n",
    "## {'radius': 2.236, 'circumference': 14.043, 'area': 15.7}\n"
   ],
   "metadata": {
    "colab": {
     "base_uri": "https://localhost:8080/"
    },
    "id": "hlMnX9msWPhZ",
    "outputId": "38d83425-840a-4674-a212-61669dfad504"
   },
   "execution_count": null,
   "outputs": [
    {
     "output_type": "stream",
     "name": "stdout",
     "text": [
      "{'radius': 2.236, 'circumference': 14.05, 'area': 15.708}\n",
      "{'radius': 1.414, 'circumference': 8.886, 'area': 6.283}\n",
      "{'radius': 2.236, 'circumference': 14.043, 'area': 15.7}\n"
     ]
    }
   ]
  },
  {
   "cell_type": "code",
   "source": [
    "\n",
    "\n",
    "def semi_axes(p1, p2, p3):\n",
    "        # Распаковываем кортежи для удобства, “;” означает новую строку кода\n",
    "        x1, y1 = p1; x2, y2 = p2; x3, y3 = p3\n",
    "        # Вычисляем стороны по теореме Пифагора\n",
    "        a = ((x2 - x1) ** 2 + (y2 - y1)** 2) ** 0.5\n",
    "        b = ((x3 - x1) ** 2 + (y3 - y1)** 2) ** 0.5\n",
    "        return a, b\n",
    "\n",
    "print(semi_axes(p1=(3, 2.5), p2=(4.5, 2.5), p3=(3, 3.5)))\n",
    "## (1.5, 1.0)\n",
    "\n",
    "print(semi_axes(p1=(0, 0), p2=(0, 1), p3=(1, 0)))\n",
    "## (1.0, 1.0)\n"
   ],
   "metadata": {
    "colab": {
     "base_uri": "https://localhost:8080/"
    },
    "id": "UrV38NCVbEMO",
    "outputId": "80fc964e-82c4-4535-ee22-8b00ac668813"
   },
   "execution_count": null,
   "outputs": [
    {
     "output_type": "stream",
     "name": "stdout",
     "text": [
      "(1.5, 1.0)\n",
      "(1.0, 1.0)\n"
     ]
    }
   ]
  },
  {
   "cell_type": "code",
   "source": [
    "def ellipse(p1,p2,p3):\n",
    "\n",
    "      def semi_axes(p1, p2, p3):\n",
    "        # Распаковываем кортежи для удобства, “;” означает новую строку кода\n",
    "        x1, y1 = p1; x2, y2 = p2; x3, y3 = p3\n",
    "        # Вычисляем стороны по теореме Пифагора\n",
    "        a = ((x2 - x1) ** 2 + (y2 - y1)** 2) ** 0.5\n",
    "        b = ((x3 - x1) ** 2 + (y3 - y1)** 2) ** 0.5\n",
    "        return a, b\n",
    "\n",
    "\n",
    "      def calculate_area_ellipse(a,b):\n",
    "          global pi\n",
    "          s = pi*a*b\n",
    "          return s\n",
    "\n",
    "\n",
    "      def calculate_length_ellipse(a,b):\n",
    "          global pi\n",
    "          l2 = 2*pi*((a**2 + b**2)/2)**(1/2)\n",
    "          return l2\n",
    "\n",
    "\n",
    "\n",
    "      a,b = semi_axes(p1, p2, p3)\n",
    "      s = calculate_area_ellipse(a,b)\n",
    "      l = calculate_length_ellipse(a,b)\n",
    "      dict1 = {'a':round(a,3), 'b': round(b,3),'length':round(l,3),'area':round(s,3)}\n",
    "      return dict1\n",
    "\n",
    "\n",
    "\n",
    "\n",
    "\n",
    "\n",
    "pi = 3.1416\n",
    "print(ellipse(p1=(3, 2.5), p2=(4.5, 2.5), p3=(3, 3.5)))\n",
    "\n",
    "## {'a': 1.5, 'b': 1.0, 'length': 8.01, 'area': 4.712}\n",
    "\n",
    "pi = 3.1416\n",
    "print(ellipse(p1=(0, 0), p2=(0, 1), p3=(1, 0)))\n",
    "\n",
    "## {'a': 1.0, 'b': 1.0, 'length': 6.283, 'area': 3.142}\n",
    "\n",
    "pi = 3.14\n",
    "print(ellipse(p1=(0, 0), p2=(0, 1), p3=(1, 0)))\n",
    "## {'a': 1.0, 'b': 1.0, 'length': 6.28, 'area': 3.14}\n"
   ],
   "metadata": {
    "colab": {
     "base_uri": "https://localhost:8080/"
    },
    "id": "jm90Yi0gbi-G",
    "outputId": "52d7be34-1894-40d7-988e-3de9a9d85da3"
   },
   "execution_count": null,
   "outputs": [
    {
     "output_type": "stream",
     "name": "stdout",
     "text": [
      "{'a': 1.5, 'b': 1.0, 'lenth': 8.01, 'area': 4.712}\n",
      "{'a': 1.0, 'b': 1.0, 'lenth': 6.283, 'area': 3.142}\n",
      "{'a': 1.0, 'b': 1.0, 'lenth': 6.28, 'area': 3.14}\n"
     ]
    }
   ]
  },
  {
   "cell_type": "code",
   "source": [],
   "metadata": {
    "id": "2sS0dzupey0O"
   },
   "execution_count": null,
   "outputs": []
  },
  {
   "cell_type": "code",
   "source": [
    "def sum_lst(lst):\n",
    "    # Выводим текущее значение lst\n",
    "    print(lst)\n",
    "    # Задаём условие выхода из рекурсии\n",
    "    if len(lst) == 0:\n",
    "        return 0\n",
    "    # Во всех других случаях возвращаем\n",
    "    # сумму первого элемента списка\n",
    "    # и результат суммирования оставшихся\n",
    "    return lst[0] + sum_lst(lst[1:])\n",
    "\n",
    "\n",
    "my_lst = [10, 21, 24, 12]\n",
    "print(sum_lst(my_lst))"
   ],
   "metadata": {
    "colab": {
     "base_uri": "https://localhost:8080/"
    },
    "id": "h37XJTTEFgIg",
    "outputId": "4baf3ab0-f8e5-407f-c245-f2bec0097b8c"
   },
   "execution_count": null,
   "outputs": [
    {
     "output_type": "stream",
     "name": "stdout",
     "text": [
      "[10, 21, 24, 12]\n",
      "[21, 24, 12]\n",
      "[24, 12]\n",
      "[12]\n",
      "[]\n",
      "67\n"
     ]
    }
   ]
  },
  {
   "cell_type": "code",
   "source": [
    "def multiply_lst(lst):\n",
    "    # Выводим текущее значение lst\n",
    " #   print(lst)\n",
    "    # Задаём условие выхода из рекурсии\n",
    "    if len(lst) == 0:\n",
    "        return 1\n",
    "    # Во всех других случаях возвращаем\n",
    "    # сумму первого элемента списка\n",
    "    # и результат суммирования оставшихся\n",
    "    return lst[0] * multiply_lst(lst[1:])\n",
    "\n",
    "print(multiply_lst([1, 5, 2, 1.5]))\n",
    "## 15\n",
    "print(multiply_lst([]))\n",
    "## 1\n"
   ],
   "metadata": {
    "colab": {
     "base_uri": "https://localhost:8080/"
    },
    "id": "MkYswCP4GlS4",
    "outputId": "cf0006a5-7b8c-4975-a66f-0348cb2c2238"
   },
   "execution_count": null,
   "outputs": [
    {
     "output_type": "stream",
     "name": "stdout",
     "text": [
      "15.0\n",
      "1\n"
     ]
    }
   ]
  },
  {
   "cell_type": "code",
   "source": [
    "def inv_sum_list(lst):\n",
    "    # Выводим текущее значение lst\n",
    "#    print(lst)\n",
    "    # Задаём условие выхода из рекурсии\n",
    "    if len(lst) == 0:\n",
    "        return 0\n",
    "    # Во всех других случаях возвращаем\n",
    "    # сумму первого элемента списка\n",
    "    # и результат суммирования оставшихся\n",
    "\n",
    "    return 1/lst[0] + inv_sum_list(lst[1:])\n",
    "\n",
    "\n",
    "print(inv_sum_list([10, 4, 8]))\n",
    "## 0.475\n",
    "\n",
    "print(inv_sum_list([10, 1, 2, 4, 8]))\n",
    "## 1.975\n",
    "\n",
    "print(inv_sum_list([]))\n",
    "## 0\n"
   ],
   "metadata": {
    "colab": {
     "base_uri": "https://localhost:8080/"
    },
    "id": "3F-jhK6LHC8q",
    "outputId": "78091ea6-817a-44a9-9237-614481aee09a"
   },
   "execution_count": null,
   "outputs": [
    {
     "output_type": "stream",
     "name": "stdout",
     "text": [
      "[10, 4, 8]\n",
      "[4, 8]\n",
      "[8]\n",
      "[]\n",
      "0.475\n",
      "[10, 1, 2, 4, 8]\n",
      "[1, 2, 4, 8]\n",
      "[2, 4, 8]\n",
      "[4, 8]\n",
      "[8]\n",
      "[]\n",
      "1.975\n",
      "[]\n",
      "0\n"
     ]
    }
   ]
  },
  {
   "cell_type": "code",
   "source": [
    "def factorial(n):\n",
    "    # Задаём условия выхода из рекурсии:\n",
    "    if n==0: return 1\n",
    "    if n==1: return 1\n",
    "    # Во всех других случаях возвращаем\n",
    "    # произведение текущего числа n и функции от n-1\n",
    "    return factorial(n-1) * n\n",
    "\n",
    "\n",
    "print(factorial(0))\n",
    "print(factorial(3))\n",
    "print(factorial(5))"
   ],
   "metadata": {
    "colab": {
     "base_uri": "https://localhost:8080/"
    },
    "id": "1PFQAFfSH-yZ",
    "outputId": "b27d1900-b0de-4fb8-9a2b-480886d72fa6"
   },
   "execution_count": null,
   "outputs": [
    {
     "output_type": "stream",
     "name": "stdout",
     "text": [
      "1\n",
      "6\n",
      "120\n"
     ]
    }
   ]
  },
  {
   "cell_type": "code",
   "source": [
    "def combination(n, k):\n",
    "\n",
    "    def factorial(n):\n",
    "        # Задаём условия выхода из рекурсии:\n",
    "        if n==0: return 1\n",
    "        if n==1: return 1\n",
    "        # Во всех других случаях возвращаем\n",
    "        # произведение текущего числа n и функции от n-1\n",
    "        return factorial(n-1) * n\n",
    "    comb = factorial(n)/(factorial(n-k)*factorial(k))\n",
    "    return comb\n",
    "\n",
    "print(combination(n=10, k=5))\n",
    "## 252.0\n",
    "print(combination(n=12, k=3))\n",
    "## 220.0\n",
    "print(combination(n=1, k=1))\n",
    "## 1.0\n",
    "print(combination(n=0, k=0))\n",
    "## 1.0\n"
   ],
   "metadata": {
    "colab": {
     "base_uri": "https://localhost:8080/"
    },
    "id": "bOoQiHYMIXro",
    "outputId": "08ee63fd-5bd6-426e-8d26-576bfba3becc"
   },
   "execution_count": null,
   "outputs": [
    {
     "output_type": "stream",
     "name": "stdout",
     "text": [
      "252.0\n",
      "220.0\n",
      "1.0\n",
      "1.0\n"
     ]
    }
   ]
  },
  {
   "cell_type": "code",
   "source": [
    "# Импортируем модуль для работы с системными переменными\n",
    "import sys\n",
    "# Увеличим глубину рекурсии\n",
    "sys.setrecursionlimit(1000000000)\n",
    "\n",
    "def factorial(n):\n",
    "    # Задаём условия выхода из рекурсии:\n",
    "    if n==0: return 1\n",
    "    if n==1: return 1\n",
    "    # Во всех других случаях возвращаем\n",
    "    # произведение текущего числа n и функции от n-1\n",
    "    return n * factorial(n-1)\n",
    "\n",
    "\n",
    "def wrong_factorial(n):\n",
    "    # Удалили условие остановки\n",
    "    return wrong_factorial(n-1) * n\n",
    "\n",
    "print(len(str(factorial(960))))\n",
    "## Вызываем функцию\n",
    "#wrong_factorial(5)\n",
    "## Возникнет ошибка:\n",
    "## RecursionError: maximum recursion depth exceeded"
   ],
   "metadata": {
    "colab": {
     "base_uri": "https://localhost:8080/"
    },
    "id": "AndBk4ZvJPE_",
    "outputId": "923e594a-2978-4383-cd37-53ded1183d5e"
   },
   "execution_count": null,
   "outputs": [
    {
     "output_type": "stream",
     "name": "stdout",
     "text": [
      "2448\n"
     ]
    }
   ]
  },
  {
   "cell_type": "code",
   "source": [
    "from time import time\n",
    "import sys\n",
    "# Увеличим глубину рекурсии\n",
    "sys.setrecursionlimit(1000000000)\n",
    "# Объявляем рекурсивную функцию для расчёта факториала\n",
    "def factorial(n):\n",
    "    if n==0: return 1\n",
    "    if n==1: return 1\n",
    "    return factorial(n-1) * n\n",
    "# Засекаем время до начала выполнения цикла\n",
    "a = time()\n",
    "for i in range(100):\n",
    "    factorial(10000)\n",
    "# Засекаем время после выполнения цикла\n",
    "b = time()\n",
    "# Считаем разницу: вычисляем время, потраченное на выполнение\n",
    "print(b-a)\n",
    "\n",
    "# Будет напечатано:\n",
    "# 4.058465242385864"
   ],
   "metadata": {
    "colab": {
     "base_uri": "https://localhost:8080/"
    },
    "id": "ZzHZZDJCKBLx",
    "outputId": "077e3831-a2e0-40c7-e523-855394eb2f5b"
   },
   "execution_count": null,
   "outputs": [
    {
     "output_type": "stream",
     "name": "stdout",
     "text": [
      "3.850029468536377\n"
     ]
    }
   ]
  },
  {
   "cell_type": "code",
   "source": [
    "def factorial_for(n):\n",
    "    # Для расчёта произведения первый член — единица, а не ноль!\n",
    "    result = 1\n",
    "    # Перемножаем числа от 1 до n\n",
    "    for i in range(1, n+1):\n",
    "        result *= i\n",
    "    return result\n",
    "\n",
    "from time import time\n",
    "# Объявляем функцию для расчёта факториала через цикл\n",
    "def factorial_for(n):\n",
    "    # Для расчёта произведения первый член — единица, а не ноль!\n",
    "    result = 1\n",
    "    # Перемножаем числа от 1 до n\n",
    "    for i in range(1, n+1):\n",
    "        result *= i\n",
    "    return result\n",
    "# Засекаем время до начала выполнения цикла\n",
    "a = time()\n",
    "for i in range(100):\n",
    "    factorial_for(10000)\n",
    "# Засекаем время после выполнения цикла\n",
    "b = time()\n",
    "# Считаем разницу: вычисляем время, потраченное на выполнение\n",
    "print(b-a)"
   ],
   "metadata": {
    "colab": {
     "base_uri": "https://localhost:8080/"
    },
    "id": "iEjMjRhEKKeA",
    "outputId": "b76bf32e-ce50-48a8-9cce-f357eb8f92ea"
   },
   "execution_count": null,
   "outputs": [
    {
     "output_type": "stream",
     "name": "stdout",
     "text": [
      "2.0876383781433105\n"
     ]
    }
   ]
  },
  {
   "cell_type": "code",
   "source": [
    "\n",
    "def fib(n):\n",
    "    if n==1: return 1\n",
    "    if n==2: return 1\n",
    "    print(n)\n",
    "    return fib(n-1) + fib(n-2)\n",
    "\n",
    "\n",
    "#print(fib(1))\n",
    "# 1\n",
    "#print(fib(2))\n",
    "# 1\n",
    "print(fib(6))\n",
    "# 8\n"
   ],
   "metadata": {
    "colab": {
     "base_uri": "https://localhost:8080/"
    },
    "id": "yMsJiaXnKj0Q",
    "outputId": "02a903a2-e06f-412a-c25d-9edd63147c4e"
   },
   "execution_count": null,
   "outputs": [
    {
     "output_type": "stream",
     "name": "stdout",
     "text": [
      "6\n",
      "5\n",
      "4\n",
      "3\n",
      "3\n",
      "4\n",
      "3\n",
      "8\n"
     ]
    }
   ]
  },
  {
   "cell_type": "code",
   "source": [
    "def power(val, n):\n",
    "    if n==0: return 1\n",
    "    if n==1: return val\n",
    "#    print(n)\n",
    "    return val * power(val,n-1)\n",
    "\n",
    "\n",
    "print(power(25, 0))\n",
    "# 1\n",
    "print(power(-5, 4))\n",
    "# 625\n",
    "\n"
   ],
   "metadata": {
    "colab": {
     "base_uri": "https://localhost:8080/"
    },
    "id": "3kmACbHtMzvi",
    "outputId": "9352f312-3f44-4c4f-bc60-0f3179066cf8"
   },
   "execution_count": null,
   "outputs": [
    {
     "output_type": "stream",
     "name": "stdout",
     "text": [
      "1\n",
      "625\n"
     ]
    }
   ]
  },
  {
   "cell_type": "code",
   "source": [
    "\n",
    "# Функция для создания строки со скобками\n",
    "def add_brackets(s):\n",
    "    # Проверяем условие остановки: строка состоит из одного или двух символов\n",
    "    if len(s) == 1 or len(s) == 2:\n",
    "        # Возвращаем эти символы\n",
    "        return s\n",
    "    # В противном случае:\n",
    "    # «Отщипываем» от строки первый и последний символы,\n",
    "    # добавляем к ним скобки, а также результат вызова функции, в которую\n",
    "    # передаем строку без первого и последнего символов\n",
    "    return s[0] + '(' + add_brackets(s[1:-1]) + ')' + s[-1]\n",
    "\n",
    "print(add_brackets('example'))\n",
    "print(add_brackets('carr'))\n",
    "print(add_brackets('hello'))"
   ],
   "metadata": {
    "colab": {
     "base_uri": "https://localhost:8080/"
    },
    "id": "zohMj7f8OuLf",
    "outputId": "4d6d9f26-ad68-4d55-e4f6-2daaf73bf661"
   },
   "execution_count": null,
   "outputs": [
    {
     "output_type": "stream",
     "name": "stdout",
     "text": [
      "e(x(a(m)p)l)e\n",
      "c(ar)r\n",
      "h(e(l)l)o\n"
     ]
    }
   ]
  },
  {
   "cell_type": "code",
   "source": [
    "# Функция для создания строки со скобками (рекурсия)\n",
    "def add_asterisk(s):\n",
    "    # Проверяем условие остановки: строка состоит из одного или двух символов\n",
    "    if len(s) == 1 :\n",
    "          # Возвращаем эти символы\n",
    "        return s\n",
    "    # В противном случае:\n",
    "    # «Отщипываем» от строки первый и последний символы,\n",
    "    # передаем строку без первого и последнего символов\n",
    "    return s[0] + '*' + add_asterisk(s[1:])\n",
    "\n",
    "\n",
    "\n",
    "print(add_asterisk('hello'))\n",
    "## h*e*l*l*o\n",
    "print(add_asterisk('LItBeoFLcSGBOFQxMHoIuDDWcqcVgkcRoAeocXO'))\n",
    "## L*I*t*B*e*o*F*L*c*S*G*B*O*F*Q*x*M*H*o*I*u*D*D*W*c*q*c*V*g*k*c*R*o*A*e*o*c*X*O\n",
    "print(add_asterisk('gkafkafkZdaflkfa'))\n",
    "## g*k*a*f*k*a*f*k*K*d*a*f*l*k*f*a"
   ],
   "metadata": {
    "colab": {
     "base_uri": "https://localhost:8080/"
    },
    "id": "-G2iEQ73uhu_",
    "outputId": "71bc3a92-61e3-4680-b6b3-7feb1f57bab9"
   },
   "execution_count": null,
   "outputs": [
    {
     "output_type": "stream",
     "name": "stdout",
     "text": [
      "h*e*l*l*o\n",
      "L*I*t*B*e*o*F*L*c*S*G*B*O*F*Q*x*M*H*o*I*u*D*D*W*c*q*c*V*g*k*c*R*o*A*e*o*c*X*O\n",
      "g*k*a*f*k*a*f*k*Z*d*a*f*l*k*f*a\n"
     ]
    }
   ]
  },
  {
   "cell_type": "code",
   "source": [
    "\n",
    "def sum_list(lst):\n",
    "\n",
    "  sum_m = sum(flatten(lst))\n",
    "  return sum_m\n",
    "\n",
    "def flatten(lst):\n",
    "    # Создаём новый пустой список\n",
    "    result = []\n",
    "    # Создаём цикл по элементам списка\n",
    "    for elem in lst:\n",
    "        # Если элемент списка является списком,\n",
    "        if type(elem) is list:\n",
    "            # Применяем к нему функцию выпрямления и добавляем элементы к результату\n",
    "            result += flatten(elem)\n",
    "        else: # Если элемент не является списоком,\n",
    "            # Добавляем элемент в новый список\n",
    "            result.append(elem)\n",
    "    return result\n",
    "\n",
    "matrix = [\n",
    "    [1, 1, 0],\n",
    "    [4, 2, 1],\n",
    "    [0, 2, 1]\n",
    "]\n",
    "print(sum_list(matrix))\n",
    "## 12\n"
   ],
   "metadata": {
    "colab": {
     "base_uri": "https://localhost:8080/"
    },
    "id": "sl4kdUpp_Gaw",
    "outputId": "a969bbb3-ebaf-4d51-fc86-4639bad2b94e"
   },
   "execution_count": null,
   "outputs": [
    {
     "output_type": "stream",
     "name": "stdout",
     "text": [
      "12\n"
     ]
    }
   ]
  },
  {
   "cell_type": "code",
   "source": [
    "input_dict = {\n",
    "    'key1': {\n",
    "        'key2': ['value1', 'value2'],\n",
    "        'key3': {\n",
    "            'key4': ['value3']\n",
    "        }\n",
    "    },\n",
    "    'key5': {\n",
    "        'key6': {\n",
    "            'key7': ['value3', 'value5', 'value6']\n",
    "        }\n",
    "    }\n",
    "}\n",
    "\n",
    "def print_dict(input_data, level=0):\n",
    "    # Если input_data — словарь\n",
    "    if type(input_data) is dict:\n",
    "        # Создаём цикл по ключам словаря\n",
    "        for key in input_data:\n",
    "            # Выводим ключ в формате \"<пробелы> <имя ключа> ->\"\n",
    "            print('  ' * (level) + '{} ->'.format(key))\n",
    "            # Повторяем те же операции для каждого значения словаря\n",
    "            print_dict(input_data[key], level=level+1)\n",
    "    else: # В противном случае\n",
    "        # Выводим значения в формате \"<пробелы> <значения>\"\n",
    "        print('  ' * (level) + str(input_data))\n",
    "\n",
    "\n",
    "print_dict(input_dict)"
   ],
   "metadata": {
    "colab": {
     "base_uri": "https://localhost:8080/"
    },
    "id": "_oUI1g4F_wv_",
    "outputId": "5c2a2398-f936-4a0f-d509-1efebba3b3c8"
   },
   "execution_count": null,
   "outputs": [
    {
     "output_type": "stream",
     "name": "stdout",
     "text": [
      "key1 ->\n",
      "  key2 ->\n",
      "    ['value1', 'value2']\n",
      "  key3 ->\n",
      "    key4 ->\n",
      "      ['value3']\n",
      "key5 ->\n",
      "  key6 ->\n",
      "    key7 ->\n",
      "      ['value3', 'value5', 'value6']\n"
     ]
    }
   ]
  },
  {
   "cell_type": "code",
   "source": [
    "# Список из слов, длину которых мы хотим вычислить\n",
    "words_list = [\"We're\", 'in', 'a', 'small', 'village', 'near', 'Chicago', 'My', \"cousin's\", 'getting', 'married.']\n",
    "\n",
    "\n",
    "# Применяем функцию len к каждому элементу списка\n",
    "# Для этого передаём функцию len и список words_list в функцию map\n",
    "# Результат преобразуем в список\n",
    "lengths_list = list(map(len, words_list))\n",
    "# Посмотрим, что получилось\n",
    "print(lengths_list)"
   ],
   "metadata": {
    "colab": {
     "base_uri": "https://localhost:8080/"
    },
    "id": "B6ZI3R7xGZJg",
    "outputId": "681d7a2a-bbd3-4f75-931d-71bba2f386e8"
   },
   "execution_count": null,
   "outputs": [
    {
     "output_type": "stream",
     "name": "stdout",
     "text": [
      "[5, 2, 1, 5, 7, 4, 7, 2, 8, 7, 8]\n"
     ]
    }
   ]
  },
  {
   "cell_type": "code",
   "source": [
    "expenses = [(101, 203, 167), (214, 351, 752), (255, 2537), (852, 362, 366)]\n",
    "\n",
    "# Применяем функцию max к каждому элементу списка\n",
    "# Для этого передаём функцию max и список expenses в функцию map\n",
    "# Результат преобразуем в список\n",
    "expenses_max = list(map(max, expenses))\n",
    "# Смотрим, что получилось\n",
    "print(expenses_max)"
   ],
   "metadata": {
    "colab": {
     "base_uri": "https://localhost:8080/"
    },
    "id": "J1pzLZS6GkF2",
    "outputId": "d67168fb-7a8b-4a1a-c441-0042536765a1"
   },
   "execution_count": null,
   "outputs": [
    {
     "output_type": "stream",
     "name": "stdout",
     "text": [
      "[203, 752, 2537, 852]\n"
     ]
    }
   ]
  },
  {
   "cell_type": "code",
   "source": [
    "\n",
    "old_list = ['1', '2', '3', '4', '5', '6', '7']\n",
    "\n",
    "## new_list = [1, 2, 3, 4, 5, 6, 7]\n",
    "old_list = ['101', '203', '33', '45', '51', '46', '77']\n",
    "\n",
    "## new_list = [101, 203, 33, 45, 51, 46, 77]\n",
    "\n",
    "new_list =list(map(int, old_list))\n",
    "print(new_list)"
   ],
   "metadata": {
    "colab": {
     "base_uri": "https://localhost:8080/"
    },
    "id": "ISy9pXtMGzUo",
    "outputId": "bf7eb900-2940-4634-82c9-6eaceedfb1c0"
   },
   "execution_count": null,
   "outputs": [
    {
     "output_type": "stream",
     "name": "stdout",
     "text": [
      "[101, 203, 33, 45, 51, 46, 77]\n"
     ]
    }
   ]
  },
  {
   "cell_type": "code",
   "source": [
    "expenses = [[2356, 4537, 8678], [7395, 1298, 6500, 4791],[6341, 3408], [1105, 8374, 5914], [1024, 7333], [3500, 2008, 9375, 6144]]\n",
    "## expenses_sum = [15571, 19984, 9749, 15393, 8357, 21027]\n",
    "\n",
    "expenses_sum = list(map(sum,expenses))\n",
    "print(expenses_sum)\n",
    "\n",
    "\n",
    "#expenses = [[101, 203, 167], [214, 351, 135, 752],[255, 2537], [852, 362, 366]]\n",
    "## expenses_sum = [471, 1452, 2792, 1580]\n"
   ],
   "metadata": {
    "colab": {
     "base_uri": "https://localhost:8080/"
    },
    "id": "hB5dmuuxHMPX",
    "outputId": "da7a582f-18a2-4248-bd22-5076287f0c8e"
   },
   "execution_count": null,
   "outputs": [
    {
     "output_type": "stream",
     "name": "stdout",
     "text": [
      "[15571, 19984, 9749, 15393, 8357, 21027]\n"
     ]
    }
   ]
  },
  {
   "cell_type": "code",
   "source": [
    "salaries = [1500, 2200, 3500, 1200]\n",
    "\n",
    "def calculate_tax(salary):\n",
    "    if salary < 1000: # Если зарплата < 1000\n",
    "        # Налог — 5 % от зарплаты\n",
    "        return salary * 0.05\n",
    "    elif salary < 2000: # Если зарплата < 2000\n",
    "        # Налог — 10 % от зарплаты\n",
    "        return salary * 0.1\n",
    "    else:\n",
    "        # Налог — 15 % от зарплаты\n",
    "        return salary * 0.15\n",
    "\n",
    "print(calculate_tax(1500))\n",
    "\n",
    "# Применяем функцию calculate_tax к каждому элементу списка\n",
    "# Для этого передаём функцию calculate_tax и список salaries в функцию map()\n",
    "# Результат преобразуем к списку\n",
    "taxes = list(map(calculate_tax, salaries))\n",
    "# Выведем, что получилось\n",
    "print(taxes)"
   ],
   "metadata": {
    "colab": {
     "base_uri": "https://localhost:8080/"
    },
    "id": "woq41lzJHohu",
    "outputId": "33a2c5ac-cc4c-4096-a746-56a092bcc30b"
   },
   "execution_count": null,
   "outputs": [
    {
     "output_type": "stream",
     "name": "stdout",
     "text": [
      "150.0\n",
      "[150.0, 330.0, 525.0, 120.0]\n"
     ]
    }
   ]
  },
  {
   "cell_type": "code",
   "source": [
    "quotes_dict = {\n",
    "    'Преступление и наказание': 'А знаешь ли... что низкие потолки и тесные комнаты душу и ум теснят.',\n",
    "    'Война и мир': 'И нет величия там, где нет простоты, добра и правды.',\n",
    "    'Анна Каренина': 'Если искать совершенства, то никогда не будешь доволен.',\n",
    "    'Детство': 'Правил у нас много, а правды нет.',\n",
    "    'Колесо времени': 'Ничто так на соединяет людей, как улыбка.'\n",
    "}\n",
    "\n",
    "#print(list(quotes_dict.items()))\n",
    "\n",
    "# Функция для преобразования одного элемента списка кортежей\n",
    "def preprocessing_quoutes(name_quotes_tuple):\n",
    "    # Разделяем составляющие кортежа на отдельные переменные\n",
    "    name, text = name_quotes_tuple\n",
    "    # Приводим цитату к нижнему регистру\n",
    "    text = text.lower()\n",
    "    # Заменяем точки и запятые на пустые строки\n",
    "    text = text.replace('.', '')\n",
    "    text = text.replace(',', '')\n",
    "    # Разделяем цитату на слова по пробелу\n",
    "    words = text.split(' ')\n",
    "    # Возвращаем кортеж из названия произведения и текста\n",
    "    return (name, words)\n",
    "\n",
    "test_text = ('Детство', 'Правил у нас много, а правды нет.')\n",
    "#print(preprocessing_quoutes(test_text))\n",
    "\n",
    "\n",
    "\n",
    "# Применяем функцию processing_quoutes к списку кортежей\n",
    "# Результат преобразовываем в словарь\n",
    "processed_quotes_dict = dict(map(preprocessing_quoutes, quotes_dict.items()))\n",
    "\n",
    "print(processed_quotes_dict)\n"
   ],
   "metadata": {
    "colab": {
     "base_uri": "https://localhost:8080/"
    },
    "id": "PTepJpI-H-mx",
    "outputId": "844391df-9d25-4d7c-bf08-16092007dbc4"
   },
   "execution_count": null,
   "outputs": [
    {
     "output_type": "stream",
     "name": "stdout",
     "text": [
      "{'Преступление и наказание': ['а', 'знаешь', 'ли', 'что', 'низкие', 'потолки', 'и', 'тесные', 'комнаты', 'душу', 'и', 'ум', 'теснят'], 'Война и мир': ['и', 'нет', 'величия', 'там', 'где', 'нет', 'простоты', 'добра', 'и', 'правды'], 'Анна Каренина': ['если', 'искать', 'совершенства', 'то', 'никогда', 'не', 'будешь', 'доволен'], 'Детство': ['правил', 'у', 'нас', 'много', 'а', 'правды', 'нет'], 'Колесо времени': ['ничто', 'так', 'на', 'соединяет', 'людей', 'как', 'улыбка']}\n"
     ]
    }
   ]
  },
  {
   "cell_type": "code",
   "source": [
    "prices = {'яблоко': 99, 'апельсин': 99, 'вишня': 147, 'персик': 145, 'грейпфрут': 139}\n",
    "\n",
    "def calculate(fruits_tuple):\n",
    "    # Разделяем составляющие кортежа на отдельные переменные\n",
    "    name, price = fruits_tuple\n",
    "    price = round(price * 0.95,2)\n",
    "\n",
    "    # Возвращаем кортеж из названия произведения и текста\n",
    "    return (name, price)\n",
    "\n",
    "\n",
    "\n",
    "new_prices = dict(map(calculate, prices.items()))\n",
    "print(new_prices)\n",
    "\n",
    "\n",
    "## new_prices = {'яблоко': 94.05, 'апельсин': 94.05, 'вишня': 139.65, 'персик': 137.75, 'грейпфрут': 132.05}\n",
    "\n",
    "#prices = {'Штаны': 2100, 'Кофта': 1520, 'Свитер': 3520, 'Галстук': 780, 'Ремень': 1390}\n",
    "## new_prices = {'Штаны': 1995.0, 'Кофта': 1444.0, 'Свитер': 3344.0, 'Галстук': 741.0, 'Ремень': 1320.5}\n",
    "\n"
   ],
   "metadata": {
    "colab": {
     "base_uri": "https://localhost:8080/"
    },
    "id": "AZ9txW3kIeR4",
    "outputId": "ea619f39-dca9-4cad-8e32-a5f8ca6f1104"
   },
   "execution_count": null,
   "outputs": [
    {
     "output_type": "stream",
     "name": "stdout",
     "text": [
      "{'яблоко': 94.05, 'апельсин': 94.05, 'вишня': 139.65, 'персик': 137.75, 'грейпфрут': 132.05}\n"
     ]
    }
   ]
  },
  {
   "cell_type": "code",
   "source": [
    "# Список чисел\n",
    "number_list = [11, 12, 13, 14, 15, 16]\n",
    "# Создаём lambda-функцию, которая возводит число в куб, и применяем её к списку\n",
    "cube_number_list = list(map(lambda x: x**3, number_list))\n",
    "# Выводим результирующий список\n",
    "print(cube_number_list)\n",
    "\n",
    "\n"
   ],
   "metadata": {
    "colab": {
     "base_uri": "https://localhost:8080/"
    },
    "id": "_xt6ILggJ9L5",
    "outputId": "e71efe20-acbc-4eb1-c3ad-b53162b7cec7"
   },
   "execution_count": null,
   "outputs": [
    {
     "output_type": "stream",
     "name": "stdout",
     "text": [
      "[1331, 1728, 2197, 2744, 3375, 4096]\n"
     ]
    }
   ]
  },
  {
   "cell_type": "code",
   "source": [
    "\n",
    "\n",
    "# Список строк, которые надо развернуть\n",
    "str_list = ['шалаш', 'казак', 'палиндром', 'рвал дед лавр']\n",
    "# Создаем lambda-функцию, которая переворачивает одну строку, и применяем её к списку\n",
    "reverse_str_list = list(map(lambda x: x[::-1], str_list))\n",
    "# Выводим результирующий список\n",
    "print(reverse_str_list)"
   ],
   "metadata": {
    "colab": {
     "base_uri": "https://localhost:8080/"
    },
    "id": "IHmdtKUmKLBB",
    "outputId": "c83380e5-8de0-46cc-b453-5bba4d18fceb"
   },
   "execution_count": null,
   "outputs": [
    {
     "output_type": "stream",
     "name": "stdout",
     "text": [
      "['шалаш', 'казак', 'морднилап', 'рвал дед лавр']\n"
     ]
    }
   ]
  },
  {
   "cell_type": "code",
   "source": [
    "data = [('Amanda', 1.61, 51), ('Patricia', 1.65, 61), ('Marcos', 1.91, 101)]\n",
    "\n",
    "# Положим lambda-функцию в переменную для удобства\n",
    "# x — кортеж (элемент исходного списка data)\n",
    "map_func = lambda x: (x[0], x[1], x[2], round(x[2] / (x[1]**2), 1))\n",
    "# Проверим работу функции для одного кортежа\n",
    "map_func(('Amanda', 1.61, 51))\n",
    "\n",
    "\n",
    "\n"
   ],
   "metadata": {
    "colab": {
     "base_uri": "https://localhost:8080/"
    },
    "id": "GDZNiNv6KVPE",
    "outputId": "b3e47462-1cab-4ec6-fe3d-6c8db6ca8496"
   },
   "execution_count": null,
   "outputs": [
    {
     "output_type": "execute_result",
     "data": {
      "text/plain": [
       "('Amanda', 1.61, 51, 19.7)"
      ]
     },
     "metadata": {},
     "execution_count": 66
    }
   ]
  },
  {
   "cell_type": "code",
   "source": [
    "data = [('Amanda', 1.61, 51), ('Patricia', 1.65, 61), ('Marcos', 1.91, 101)]\n",
    "# Создаём lambda-функцию, которая считает BMI, и применяем её к каждому элементу списка\n",
    "map_func = lambda x: (*x, round(x[2]/(x[1]**2), 1))\n",
    "updated_data = list(map(map_func, data))\n",
    "# Выводим результат\n",
    "print(updated_data)"
   ],
   "metadata": {
    "colab": {
     "base_uri": "https://localhost:8080/"
    },
    "id": "rMUOVkOWK_sv",
    "outputId": "5f64c085-6808-4920-9594-529fad8666d3"
   },
   "execution_count": null,
   "outputs": [
    {
     "output_type": "stream",
     "name": "stdout",
     "text": [
      "[('Amanda', 1.61, 51, 19.7), ('Patricia', 1.65, 61, 22.4), ('Marcos', 1.91, 101, 27.7)]\n"
     ]
    }
   ]
  },
  {
   "cell_type": "code",
   "source": [
    "\n",
    "site = \"https://www.kommersant.ru\"\n",
    "\n",
    "docs = [\n",
    "'//doc/5041434?query=data%20science',\n",
    "'//doc/5041567?query=data%20science',\n",
    "'//doc/4283670?query=data%20science',\n",
    "'//doc/3712659?query=data%20science',\n",
    "'//doc/4997267?query=data%20science',\n",
    "'//doc/4372673?query=data%20science',\n",
    "'//doc/3779060?query=data%20science',\n",
    "'//doc/3495410?query=data%20science',\n",
    "'//doc/4308832?query=data%20science',\n",
    "'//doc/4079881?query=data%20science'\n",
    "]\n",
    "\n",
    "links = list(map(lambda name: site + name, docs))\n",
    "print(links)"
   ],
   "metadata": {
    "colab": {
     "base_uri": "https://localhost:8080/"
    },
    "id": "evdZ3WQSLh7y",
    "outputId": "0ed943aa-4196-4611-bef6-0a24dcb90d70"
   },
   "execution_count": null,
   "outputs": [
    {
     "output_type": "stream",
     "name": "stdout",
     "text": [
      "['https://www.kommersant.ru//doc/5041434?query=data%20science', 'https://www.kommersant.ru//doc/5041567?query=data%20science', 'https://www.kommersant.ru//doc/4283670?query=data%20science', 'https://www.kommersant.ru//doc/3712659?query=data%20science', 'https://www.kommersant.ru//doc/4997267?query=data%20science', 'https://www.kommersant.ru//doc/4372673?query=data%20science', 'https://www.kommersant.ru//doc/3779060?query=data%20science', 'https://www.kommersant.ru//doc/3495410?query=data%20science', 'https://www.kommersant.ru//doc/4308832?query=data%20science', 'https://www.kommersant.ru//doc/4079881?query=data%20science']\n"
     ]
    }
   ]
  },
  {
   "cell_type": "code",
   "source": [
    "\n",
    "\n",
    "data = [(0.00632, 6.575, 65.2, 296.0, 4.98),\n",
    "(0.02731, 6.421, 78.9, 242.0, 9.14),\n",
    "(0.02729, 7.185, 61.1, 242.0, 4.03),\n",
    "(0.03237, 6.998, 45.8, 222.0, 2.94),\n",
    "(0.06905, 7.147, 54.2, 222.0, 5.33),\n",
    "(0.02985, 6.43, 58.7, 222.0, 5.21),\n",
    "(0.08829, 6.012, 66.6, 311.0, 12.43)]\n",
    "\n",
    "\n",
    "\n",
    "# Создаём lambda-функцию, которая считает XI, и применяем её к каждому элементу списка\n",
    "map_func = lambda x: (*x, round(x[0] *  x[3] * x[4], 2))\n",
    "updated_data = list(map(map_func, data))\n",
    "\n",
    "print(updated_data)\n",
    "\n",
    "\n",
    "\n",
    "#[(0.00632, 6.575, 65.2, 296.0, 4.98, 9.32),\n",
    "#(0.02731, 6.421, 78.9, 242.0, 9.14, 60.41),\n",
    "#(0.02729, 7.185, 61.1, 242.0, 4.03, 26.61),\n",
    "#(0.03237, 6.998, 45.8, 222.0, 2.94, 21.13),\n",
    "#(0.06905, 7.147, 54.2, 222.0, 5.33, 81.7),\n",
    "#(0.02985, 6.43, 58.7, 222.0, 5.21, 34.53),\n",
    "#(0.08829, 6.012, 66.6, 311.0, 12.43, 341.31)]\n"
   ],
   "metadata": {
    "colab": {
     "base_uri": "https://localhost:8080/"
    },
    "id": "qgyXMrdqMMyx",
    "outputId": "aadaabd7-145d-4a2d-fd2b-a06060079210"
   },
   "execution_count": null,
   "outputs": [
    {
     "output_type": "stream",
     "name": "stdout",
     "text": [
      "[(0.00632, 6.575, 65.2, 296.0, 4.98, 9.32), (0.02731, 6.421, 78.9, 242.0, 9.14, 60.41), (0.02729, 7.185, 61.1, 242.0, 4.03, 26.61), (0.03237, 6.998, 45.8, 222.0, 2.94, 21.13), (0.06905, 7.147, 54.2, 222.0, 5.33, 81.7), (0.02985, 6.43, 58.7, 222.0, 5.21, 34.53), (0.08829, 6.012, 66.6, 311.0, 12.43, 341.31)]\n"
     ]
    }
   ]
  },
  {
   "cell_type": "code",
   "source": [
    "words_list = [\"We're\", 'in', 'a', 'small', 'village', 'near', 'Chicago', 'My', \"cousin's\", 'getting', 'married.']\n",
    "\n",
    "\n",
    "# Создаём пустой список, куда будем добавлять результаты\n",
    "even_list = []\n",
    "# Создаём цикл по элементам списка\n",
    "for word in words_list:\n",
    "    # Проверяем условие, что длина текущего слова чётная\n",
    "    if len(word) % 2 == 0: # Если условие выполняется\n",
    "        # Добавляем слово в новый список\n",
    "        even_list.append(word)\n",
    "print(even_list)"
   ],
   "metadata": {
    "colab": {
     "base_uri": "https://localhost:8080/"
    },
    "id": "ym70nSSBNmDf",
    "outputId": "3045a8b3-2dc1-4e6b-c128-dee18ed0a50e"
   },
   "execution_count": null,
   "outputs": [
    {
     "output_type": "stream",
     "name": "stdout",
     "text": [
      "['in', 'near', 'My', \"cousin's\", 'married.']\n"
     ]
    }
   ]
  },
  {
   "cell_type": "code",
   "source": [
    "words_list = [\"We're\", 'in', 'a', 'small', 'village', 'near', 'Chicago', 'My', \"cousin's\", 'getting', 'married.']\n",
    "\n",
    "# Объявляем функцию для проверки чётности длины строки\n",
    "def is_even(x):\n",
    "    return len(x) % 2 == 0\n",
    "\n",
    "# Применяем функцию is_even() к каждому элементу списка\n",
    "# Для этого передаём функцию is_even() и список words_list в функцию filter\n",
    "even = filter(is_even, words_list)\n",
    "\n",
    "\n",
    "# Применяем функцию is_even() к каждому элементу списка\n",
    "# Для этого передаём функцию is_even() и список words_list в функцию filter\n",
    "# Результат оборачиваем в список\n",
    "even_list = list(filter(is_even, words_list))\n",
    "# Смотрим, что получилось\n",
    "print(even_list)\n"
   ],
   "metadata": {
    "colab": {
     "base_uri": "https://localhost:8080/"
    },
    "id": "Nixr9znlNuNv",
    "outputId": "c14e4c9e-57d2-40fd-eb23-86e5ffa76ab3"
   },
   "execution_count": null,
   "outputs": [
    {
     "output_type": "stream",
     "name": "stdout",
     "text": [
      "<filter object at 0x7993ed280d60>\n",
      "['in', 'near', 'My', \"cousin's\", 'married.']\n"
     ]
    }
   ]
  },
  {
   "cell_type": "code",
   "source": [
    "words_list = [\"We're\", 'in', 'a', 'small', 'village', 'near', 'Chicago', 'My', \"cousin's\", 'getting', 'married.']\n",
    "\n",
    "# Применяем lambda-функцию к каждому элементу списка\n",
    "even_list = filter(lambda x: len(x) % 2 == 0, words_list)\n",
    "# Смотрим, что получилось\n",
    "print(list(even_list))"
   ],
   "metadata": {
    "colab": {
     "base_uri": "https://localhost:8080/"
    },
    "id": "qUU3otUWOE-b",
    "outputId": "4e7fd5a8-c387-4641-e85e-544ad961669c"
   },
   "execution_count": null,
   "outputs": [
    {
     "output_type": "stream",
     "name": "stdout",
     "text": [
      "['in', 'near', 'My', \"cousin's\", 'married.']\n"
     ]
    }
   ]
  },
  {
   "cell_type": "code",
   "source": [
    "print(\"Москва\".isalpha())\n",
    "## Будет выведено:\n",
    "## True\n",
    "\n",
    "print(\"было пол 5 утра\".isalpha())"
   ],
   "metadata": {
    "colab": {
     "base_uri": "https://localhost:8080/"
    },
    "id": "asvpNvrgOPme",
    "outputId": "dd48066c-f1e2-4c33-d5d1-4cb8cec84ada"
   },
   "execution_count": null,
   "outputs": [
    {
     "output_type": "stream",
     "name": "stdout",
     "text": [
      "True\n",
      "False\n"
     ]
    }
   ]
  },
  {
   "cell_type": "code",
   "source": [
    "str_tuple = (\"Москва\", \"15.1 см\", \"зацвело\", \"было пол 5 утра\", \"рассвет\")\n",
    "\n",
    "# Применяем lambda-функцию к каждому элементу кортежа\n",
    "# Результат оборачиваем в кортеж\n",
    "filtered_tuple = tuple(filter(lambda x: x.isalpha(), str_tuple))\n",
    "# Смотрим, что получилось\n",
    "print(filtered_tuple)\n"
   ],
   "metadata": {
    "colab": {
     "base_uri": "https://localhost:8080/"
    },
    "id": "nFuwFPSgOXo5",
    "outputId": "544d2d82-988a-43ff-cbd7-0a190220aafc"
   },
   "execution_count": null,
   "outputs": [
    {
     "output_type": "stream",
     "name": "stdout",
     "text": [
      "('Москва', 'зацвело', 'рассвет')\n"
     ]
    }
   ]
  },
  {
   "cell_type": "code",
   "source": [
    "data = [\n",
    "    (\"FPW-2.0_D\", \"Бонус: Тренажер по HTML\", 10, 100, 10),\n",
    "    (\"FPW-2.0\", \"Бонус: Тренажер по JavaScript\", 9.2, 70, 180),\n",
    "    (\"FPW-2.0_D\", \"Бонус: Тренажер по React\", 8.5, 66.67, 68),\n",
    "    (\"FPW-2.0\", \"Бонусный: IT в современном мире\", 8.64, 83.74, 856),\n",
    "    (\"FPW-2.0\", \"Бонусный: Введение\", 8.73, 56.24, 745),\n",
    "    (\"FPW-2.0\", \"Бонус: D1. Знакомство с Django (NEW)\", 9.76, 95.24, 21),\n",
    "    (\"FPW-2.0_D\", \"Бонус: D2. Модели (NEW)\", 9.44, 77.78, 18)\n",
    "]\n",
    "\n",
    "def filter_module(module):\n",
    "    # Распаковываем кортеж на пять переменных\n",
    "    code, name, avg_votes, nessa, count = module\n",
    "    # Создаём условия\n",
    "    cond_1 = code == \"FPW-2.0\"\n",
    "    cond_2 = nessa >= 70\n",
    "    cond_3 = count > 50\n",
    "    # Условия должны выполняться одновременно\n",
    "    return cond_1 and cond_2 and cond_3\n",
    "\n",
    "\n",
    "# Применяем функцию filter_module() для фильтрации списка кортежей\n",
    "filtered_data = list(filter(filter_module, data))\n",
    "print(filtered_data)\n",
    "\n",
    "\n",
    "\n",
    "# Создаём lambda-функцию, которая возвращает True, если модуль удовлетворяет условиям\n",
    "lambda_filter_module = lambda x: (x[0] == \"FPW-2.0\") and (x[3] >= 70) and (x[4] > 50)\n",
    "# Применяем эту функцию к каждому элементу списка (к каждому кортежу)\n",
    "filtered_data = list(filter(lambda_filter_module, data))\n",
    "# Смотрим, что получилось\n",
    "print(filtered_data)"
   ],
   "metadata": {
    "colab": {
     "base_uri": "https://localhost:8080/"
    },
    "id": "Yg9sRxh6Oij-",
    "outputId": "e1d1be22-372c-41a9-b370-068829e6399d"
   },
   "execution_count": null,
   "outputs": [
    {
     "output_type": "stream",
     "name": "stdout",
     "text": [
      "[('FPW-2.0', 'Бонус: Тренажер по JavaScript', 9.2, 70, 180), ('FPW-2.0', 'Бонусный: IT в современном мире', 8.64, 83.74, 856)]\n",
      "[('FPW-2.0', 'Бонус: Тренажер по JavaScript', 9.2, 70, 180), ('FPW-2.0', 'Бонусный: IT в современном мире', 8.64, 83.74, 856)]\n"
     ]
    }
   ]
  },
  {
   "cell_type": "code",
   "source": [
    "prices = [34562, 66572, 25683, 17683, 56389, 28973]\n",
    "## filtered_prices = [25683, 17683, 28973]\n",
    "\n",
    "lambda_filter_module = lambda x: (x < 30000)\n",
    "filtered_prices = list(filter(lambda_filter_module, prices))\n",
    "\n",
    "print(filtered_prices)\n",
    "\n"
   ],
   "metadata": {
    "colab": {
     "base_uri": "https://localhost:8080/"
    },
    "id": "d7zpfC3kO5jm",
    "outputId": "f827d82d-3aa9-4c2e-af3a-1b595b1a5eff"
   },
   "execution_count": null,
   "outputs": [
    {
     "output_type": "stream",
     "name": "stdout",
     "text": [
      "[25683, 17683, 28973]\n"
     ]
    }
   ]
  },
  {
   "cell_type": "code",
   "source": [
    "family_list = [\n",
    "    'certificate of a large family',\n",
    "    'social card',\n",
    "    'maternity capital',\n",
    "    'parking permit',\n",
    "    'tax benefit',\n",
    "    'reimbursement of expenses',\n",
    "    \"compensation for the purchase of children's goods\"\n",
    " ]\n",
    "\n",
    "\n",
    "def filter_family(ff):\n",
    "\n",
    "  family = list(filter(lambda x: x in family_list, ff))\n",
    "  return family\n",
    "\n",
    "\n",
    "\n",
    "print(filter_family(['newborn registration', 'parking permit', 'maternity capital', 'tax benefit', 'medical policy']))\n",
    "## ['parking permit', 'maternity capital', 'tax benefit']\n",
    "\n",
    "\n"
   ],
   "metadata": {
    "colab": {
     "base_uri": "https://localhost:8080/"
    },
    "id": "1R62nzUdPbjf",
    "outputId": "9d620153-09bc-451b-965e-b8c42f3562f6"
   },
   "execution_count": null,
   "outputs": [
    {
     "output_type": "stream",
     "name": "stdout",
     "text": [
      "['parking permit', 'maternity capital', 'tax benefit']\n"
     ]
    }
   ]
  },
  {
   "cell_type": "code",
   "source": [
    "words_list = [\"We're\", 'in', 'a', 'small', 'village', 'near', 'Chicago', 'My', \"cousin's\", 'getting', 'married.']\n",
    "\n",
    "\n",
    "# Отбираем слова из пяти и более букв\n",
    "filtered_words = filter(lambda x: len(x) >= 5, words_list)\n",
    "# Все отобранные слова переводим в нижний регистр и считаем число букв 'a' в них\n",
    "# Результат выдаём в виде кортежа (слово, количество букв \"a\")\n",
    "count_a = map(lambda x: (x, x.lower().count('a')), filtered_words)\n",
    "# Переводим объект map в list и печатаем его\n",
    "print(list(count_a))\n"
   ],
   "metadata": {
    "colab": {
     "base_uri": "https://localhost:8080/"
    },
    "id": "Dw4rzoFORxSf",
    "outputId": "98f83751-d96b-4856-ed1e-50f0f87be4a9"
   },
   "execution_count": null,
   "outputs": [
    {
     "output_type": "stream",
     "name": "stdout",
     "text": [
      "[(\"We're\", 0), ('small', 1), ('village', 1), ('Chicago', 1), (\"cousin's\", 0), ('getting', 0), ('married.', 1)]\n"
     ]
    }
   ]
  },
  {
   "cell_type": "code",
   "source": [
    "data = [\n",
    "    ('Amanda', 1.61, 51),\n",
    "    ('Patricia', 1.65, 61),\n",
    "    ('Marcos', 1.91, 101),\n",
    "    ('Andrey', 1.79, 61),\n",
    "    ('Nikos', 1.57, 78),\n",
    "    ('Felicia', 1.63, 56),\n",
    "    ('Lubov', 1.53, 34)\n",
    "]\n",
    "\n",
    "\n",
    "# Создаём lambda-функцию, которая считает BMI, и применяем её к каждому элементу списка\n",
    "map_func = lambda x: (*x, x[2]/(x[1]**2))\n",
    "updated_data = map(map_func, data)\n",
    "# Создаём lambda-функцию, которая возвращает True, если 18.5 <= BMI <= 25\n",
    "filter_func = lambda x: 18.5 <= x[3] <= 25\n",
    "# Применяем эту функцию к результату работы map()\n",
    "filtered_data = filter(filter_func, updated_data)\n",
    "# Переводим объект filter в list и печатаем его\n",
    "print(list(filtered_data))\n"
   ],
   "metadata": {
    "colab": {
     "base_uri": "https://localhost:8080/"
    },
    "id": "WU0iZRMISCEP",
    "outputId": "4648ef95-4273-4683-97c7-e08df13dc5c6"
   },
   "execution_count": null,
   "outputs": [
    {
     "output_type": "stream",
     "name": "stdout",
     "text": [
      "[('Amanda', 1.61, 51, 19.675166853130666), ('Patricia', 1.65, 61, 22.4058769513315), ('Andrey', 1.79, 61, 19.038107424861895), ('Felicia', 1.63, 56, 21.077195227520797)]\n"
     ]
    }
   ]
  },
  {
   "cell_type": "code",
   "source": [
    "reg = [('Ivanov', 'Sergej', 24, 9, 1995),\n",
    "      ('Smith', 'John', 13, 2, 2003),\n",
    "      ('Petrova', 'Maria', 13, 3, 2003)]\n",
    "def newf(filtered_data):\n",
    "        # Распаковываем кортеж на пять переменных\n",
    "      surname, name, day, month, year = filtered_data\n",
    "      powe = surname+' '+ name[:1]+'.', day, month, year\n",
    "\n",
    "      return powe\n",
    "\n",
    "# Создаём lambda-функцию, которая считает выбирает нужный год,\n",
    "filter_func = lambda x: 2000 <= x[4]\n",
    "filtered_data = filter(filter_func, reg)\n",
    "new_reg = list(map(newf, filtered_data))\n",
    "\n",
    "\n",
    "print(new_reg)\n",
    "\n",
    "\n",
    "#new_reg = [('Smith J.', 13, 2, 2003), ('Petrova M.', 13, 3, 2003)]\n"
   ],
   "metadata": {
    "id": "Cg8KBrX9SPO5",
    "colab": {
     "base_uri": "https://localhost:8080/"
    },
    "outputId": "3adf0464-904e-4061-e093-ada290c9b5ec"
   },
   "execution_count": null,
   "outputs": [
    {
     "output_type": "stream",
     "name": "stdout",
     "text": [
      "[('Smith J.', 13, 2, 2003), ('Petrova M.', 13, 3, 2003)]\n"
     ]
    }
   ]
  },
  {
   "cell_type": "code",
   "source": [
    "\n",
    "data = [(0.00632, 6.575, 65.2, 296.0, 4.98),\n",
    "(0.02731, 6.421, 78.9, 242.0, 9.14),\n",
    "(0.02729, 7.185, 61.1, 242.0, 4.03),\n",
    "(0.03237, 6.998, 45.8, 222.0, 2.94),\n",
    "(0.06905, 7.147, 54.2, 222.0, 5.33),\n",
    "(0.02985, 6.43, 58.7, 222.0, 5.21),\n",
    "(0.08829, 6.012, 66.6, 311.0, 12.43)]\n",
    "\n",
    "\n",
    "\n",
    "# Создаём lambda-функцию, которая считает XI, и применяем её к каждому элементу списка\n",
    "map_func = lambda x: (*x, round(x[0] *  x[3] * x[4], 2))\n",
    "updated_data = list(map(map_func, data))\n",
    "\n",
    "filter_func = lambda x: 60 <= x[5]\n",
    "filtered_data = list(filter(filter_func, updated_data))\n",
    "\n",
    "print(filtered_data)\n",
    "\n"
   ],
   "metadata": {
    "colab": {
     "base_uri": "https://localhost:8080/"
    },
    "id": "-sFIwKSqvmzn",
    "outputId": "a6e9da8e-679b-4416-f30d-03a5eeabcd70"
   },
   "execution_count": null,
   "outputs": [
    {
     "output_type": "stream",
     "name": "stdout",
     "text": [
      "[(0.02731, 6.421, 78.9, 242.0, 9.14, 60.41), (0.06905, 7.147, 54.2, 222.0, 5.33, 81.7), (0.08829, 6.012, 66.6, 311.0, 12.43, 341.31)]\n"
     ]
    }
   ]
  },
  {
   "cell_type": "code",
   "source": [
    "\n",
    "\n",
    "python_string = 'Hello! My name is Python. I will help you to analyze some data.'\n",
    "## result = 250047\n",
    "\n",
    "python_string = 'Привет! Меня зовут Питон. Я помогу вам проанализировать некоторые данные.'\n",
    "## result = 389017\n",
    "print(len(python_string)**3)"
   ],
   "metadata": {
    "colab": {
     "base_uri": "https://localhost:8080/"
    },
    "id": "AEUyKDQIJ-yy",
    "outputId": "37137ae6-7e38-4acf-ec57-ad2f53286b25"
   },
   "execution_count": null,
   "outputs": [
    {
     "output_type": "stream",
     "name": "stdout",
     "text": [
      "389017\n"
     ]
    }
   ]
  },
  {
   "cell_type": "code",
   "source": [
    "\n",
    "\n",
    "predicted_time = 38.873\n",
    "real_time = 26.124\n",
    "\n",
    "ola = round((predicted_time - real_time),0)\n",
    "absolute_error = abs(int(ola))\n",
    "\n",
    "print(absolute_error)\n"
   ],
   "metadata": {
    "colab": {
     "base_uri": "https://localhost:8080/"
    },
    "id": "9fMjvB4aLZfr",
    "outputId": "83c42a93-f35b-4a93-96da-4de84bca7f2d"
   },
   "execution_count": null,
   "outputs": [
    {
     "output_type": "stream",
     "name": "stdout",
     "text": [
      "13\n"
     ]
    }
   ]
  },
  {
   "cell_type": "code",
   "source": [
    "input_string = 'Hello! My name is Python. I will help you to analyze some data.'\n",
    "## count_words = 13\n",
    "\n",
    "#input_string = 'There are many great articles about Artificial Intelligence and its benefits for business and society. However, many of these articles are too technical for the average reader.'\n",
    "## count_words = 27\n",
    "\n",
    "\n",
    "text = input_string.replace(\",\", \"\")\n",
    "text = text.replace(\".\", \"\")\n",
    "text = text.replace(\"?\", \"\")\n",
    "text = text.replace(\"!\", \"\")\n",
    "text = text.split(\" \")\n",
    "count_words = len(text)\n",
    "\n",
    "print(count_words,text)\n"
   ],
   "metadata": {
    "colab": {
     "base_uri": "https://localhost:8080/"
    },
    "id": "y-HgvZVEbv5m",
    "outputId": "af8fbd66-81c4-47e2-eece-db6499434414"
   },
   "execution_count": null,
   "outputs": [
    {
     "output_type": "stream",
     "name": "stdout",
     "text": [
      "13 ['Hello', 'My', 'name', 'is', 'Python', 'I', 'will', 'help', 'you', 'to', 'analyze', 'some', 'data']\n"
     ]
    }
   ]
  },
  {
   "cell_type": "code",
   "source": [
    "\n",
    "\n",
    "file_path = 'data/images/train/10394.jpg'\n",
    "## file_name = '10394'\n",
    "## file_extension = 'jpg'\n",
    "\n",
    "file_path = 'data/images/validation/748923.gif'\n",
    "## file_name = '748923'\n",
    "## file_extension = 'gif'\n",
    "\n",
    "file_path = 'data/images/384300.png'\n",
    "## file_name = '384300'\n",
    "## file_extension = 'png'\n",
    "\n",
    "file_path = file_path.split('.')\n",
    "file_extension = file_path[1]\n",
    "file_path = file_path[0].split(\"/\")\n",
    "\n",
    "file_name = file_path[len(file_path)-1]\n",
    "\n",
    "\n",
    "\n",
    "print(file_extension,file_name)\n"
   ],
   "metadata": {
    "colab": {
     "base_uri": "https://localhost:8080/"
    },
    "id": "OsNddZcpc-TF",
    "outputId": "6e618406-7ca7-4786-eb4b-e0aac0c3d448"
   },
   "execution_count": null,
   "outputs": [
    {
     "output_type": "stream",
     "name": "stdout",
     "text": [
      "png 384300\n"
     ]
    }
   ]
  },
  {
   "cell_type": "code",
   "source": [
    "generated_text = \"глаза нее на поднял он и она попросила что-нибудь скажи\"\n",
    "## updated_text = \"скажи что-нибудь попросила она и он поднял на нее глаза\"\n",
    "\n",
    "generated_text = \"задачи своей решения способ или информацию ищет он поисковик в запрос вводит человек когда\"\n",
    "## updated_text = когда человек вводит запрос в поисковик он ищет информацию или способ решения своей задачи\n",
    "\n",
    "generated_text = generated_text.split(\" \")\n",
    "\n",
    "updated_text = generated_text[::-1]\n",
    "updated_text = ' '.join(updated_text)\n",
    "print(updated_text)\n",
    "\n",
    "#updated_text = []\n",
    "#for str in generated_text:\n",
    "#    updated_text\n",
    "\n",
    "\n",
    "\n",
    "\n",
    "\n",
    "\n",
    "\n"
   ],
   "metadata": {
    "colab": {
     "base_uri": "https://localhost:8080/"
    },
    "id": "VUOa99SrgL4e",
    "outputId": "1a087693-be89-4763-f3e0-66379c98e172"
   },
   "execution_count": null,
   "outputs": [
    {
     "output_type": "stream",
     "name": "stdout",
     "text": [
      "когда человек вводит запрос в поисковик он ищет информацию или способ решения своей задачи\n"
     ]
    }
   ]
  },
  {
   "cell_type": "code",
   "source": [
    "\n",
    "\n",
    "def change_password(user_name, new_password):\n",
    "    str = \"Пользователь {} сменил пароль на {}\".format(user_name, new_password)\n",
    "    return str\n",
    "\n",
    "\n",
    "\n",
    "print(change_password('Andrey', '31andrey12QK'))\n",
    "## Пользователь Andrey сменил пароль на 31andrey12QK\n",
    "\n",
    "\n"
   ],
   "metadata": {
    "colab": {
     "base_uri": "https://localhost:8080/"
    },
    "id": "hT27y9p8iMNl",
    "outputId": "f13b6a52-a6ef-4f19-da7a-27b2b94f1f61"
   },
   "execution_count": null,
   "outputs": [
    {
     "output_type": "stream",
     "name": "stdout",
     "text": [
      "Пользователь Andrey сменил пароль на 31andrey12QK\n"
     ]
    }
   ]
  },
  {
   "cell_type": "code",
   "source": [
    "\n",
    "\n",
    "car_dict = {\n",
    "    'car_ID': [123, 117, 111, 82, 101, 96, 156, 2, 58, 49],\n",
    "    'fueltype': ['gas', 'diesel', 'diesel', 'gas', 'gas', 'gas', 'gas', 'gas', 'gas', 'gas'],\n",
    "    'horsepower': [68, 95, 95, 88, 97, 69, 62, 111, 101, 176],\n",
    "    'price': [7609.0, 17950.0, 13860.0, 8499.0, 9549.0, 7799.0, 8778.0, 16500.0, 13645.0, 35550.0]\n",
    "}\n",
    "\n",
    "\n",
    "\n",
    "\n",
    "\n",
    "mean_price = sum(car_dict['price'])/(len(car_dict['price']))\n",
    "count_diesel=0\n",
    "for word in car_dict['fueltype']:\n",
    "    if word == 'diesel':\n",
    "      count_diesel+=1\n",
    "\n",
    "min_horsepower = min(car_dict['horsepower'])\n",
    "\n",
    "print(mean_price,count_diesel, min_horsepower)"
   ],
   "metadata": {
    "colab": {
     "base_uri": "https://localhost:8080/"
    },
    "id": "epB4Bu_1EDxj",
    "outputId": "2e0ad644-8b9b-4e41-e6e5-62af6fe2b5af"
   },
   "execution_count": null,
   "outputs": [
    {
     "output_type": "stream",
     "name": "stdout",
     "text": [
      "13973.9 2 62\n"
     ]
    }
   ]
  },
  {
   "cell_type": "code",
   "source": [
    "lst = [0, 0, 1, 2, 3, 4, 5, 5, 6, 7]\n",
    "\n",
    "# True\n",
    "\n",
    "\n",
    "\n",
    "def check_duplicates(my_list):\n",
    "  has_duplicates = len(my_list) > len(set(my_list))\n",
    "  return has_duplicates\n",
    "\n",
    "lst = list(range(0, 15))\n",
    "print(check_duplicates(lst))\n",
    "# False"
   ],
   "metadata": {
    "id": "S4kKsIJSKyeC",
    "colab": {
     "base_uri": "https://localhost:8080/"
    },
    "outputId": "b7a87479-962b-4b50-c2da-651aa8df919b"
   },
   "execution_count": null,
   "outputs": [
    {
     "output_type": "stream",
     "name": "stdout",
     "text": [
      "False\n"
     ]
    }
   ]
  },
  {
   "cell_type": "code",
   "source": [
    "\n",
    "\n",
    "def swap_places(lst):\n",
    "    temp = []\n",
    "    temp = lst.copy()\n",
    "    len_lst = len(lst)\n",
    "    temp[0] = lst[len_lst-1]\n",
    "    temp[len_lst-1] = lst[0]\n",
    "    return temp\n",
    "\n",
    "\n",
    "print(swap_places([1, 2, 3]))\n",
    "## [3, 2, 1]\n",
    "print(swap_places([1, 2, 3, 4, 5]))\n",
    "## [5, 2, 3, 4, 1]\n",
    "print(swap_places(['н', 'л', 'о', 'с']))\n",
    "## ['с', 'л', 'о', 'н']\n"
   ],
   "metadata": {
    "colab": {
     "base_uri": "https://localhost:8080/"
    },
    "id": "7FaqeCk-Bn_T",
    "outputId": "4fbf79d4-c01c-4674-8687-96ada9a36eef"
   },
   "execution_count": null,
   "outputs": [
    {
     "output_type": "stream",
     "name": "stdout",
     "text": [
      "[3, 2, 1]\n",
      "[5, 2, 3, 4, 1]\n",
      "['с', 'л', 'о', 'н']\n"
     ]
    }
   ]
  },
  {
   "cell_type": "code",
   "source": [
    "\n",
    "def equalize_lengths(lst):\n",
    "  longest = len(max(lst, key=len))\n",
    "  i = 0\n",
    "  for element in lst:\n",
    "#    print(element,i)\n",
    "    if len(element) < longest:\n",
    "         lst[i] = (lst[i][:(len(element))] + (longest-len(element))*'_')\n",
    "#         print(lst[i].count(\"_\"))\n",
    "#    else: print(element)\n",
    "    i+=1\n",
    "  return sorted(lst, key=lambda lst: lst.count(\"_\"), reverse = False)\n",
    "\n",
    "\n",
    "print(equalize_lengths(['крот', 'белка', 'выхухоль']))\n",
    "# ['выхухоль', 'белка___', 'крот____']\n",
    "\n",
    "print(equalize_lengths(['a', 'aa', 'aaa', 'aaaa', 'aaaaa']))\n",
    "# ['aaaaa', 'aaaa_', 'aaa__', 'aa___', 'a____']\n",
    "\n",
    "print(equalize_lengths(['qweasdqweas', 'q', 'rteww', 'ewqqqqq']))\n",
    "\n",
    "# ['qweasdqweas', 'ewqqqqq____', 'rteww______', 'q__________']\n",
    "\n",
    "\n"
   ],
   "metadata": {
    "colab": {
     "base_uri": "https://localhost:8080/"
    },
    "id": "cutShePdko0n",
    "outputId": "9e2e8a61-a38c-4ee3-b2a3-ac7b9880b2b3"
   },
   "execution_count": null,
   "outputs": [
    {
     "output_type": "stream",
     "name": "stdout",
     "text": [
      "['выхухоль', 'белка___', 'крот____']\n",
      "['aaaaa', 'aaaa_', 'aaa__', 'aa___', 'a____']\n",
      "['qweasdqweas', 'ewqqqqq____', 'rteww______', 'q__________']\n"
     ]
    }
   ]
  },
  {
   "cell_type": "code",
   "source": [
    "\n",
    "\n",
    "\n",
    "def check_number_sign(ff):\n",
    "    if ff > 0: return 1\n",
    "    elif ff < 0: return -1\n",
    "    else: return 0\n",
    "\n",
    "\n",
    "\n",
    "print(check_number_sign(5290))\n",
    "# 1\n",
    "print(check_number_sign(-983))\n",
    "# - 1\n",
    "print(check_number_sign(0))\n",
    "# 0\n"
   ],
   "metadata": {
    "colab": {
     "base_uri": "https://localhost:8080/"
    },
    "id": "XNe0Lh1uzRk6",
    "outputId": "adb44338-a01b-443f-fec1-6076886bf8e8"
   },
   "execution_count": null,
   "outputs": [
    {
     "output_type": "stream",
     "name": "stdout",
     "text": [
      "1\n",
      "-1\n",
      "0\n"
     ]
    }
   ]
  },
  {
   "cell_type": "code",
   "source": [
    "\n",
    "def find_min_number(a, b, c):\n",
    "    min_number = 0\n",
    "    if a < b:\n",
    "        min_number = a\n",
    "    else:\n",
    "        min_number = b\n",
    "    if min_number > c:\n",
    "        min_number = c\n",
    "    return min_number\n",
    "\n",
    "\n",
    "print(find_min_number(130, 122, 19))\n",
    "# 19\n",
    "print(find_min_number(10.9, 12.2, 18.4))\n",
    "# 10.9\n"
   ],
   "metadata": {
    "colab": {
     "base_uri": "https://localhost:8080/"
    },
    "id": "gX_FGFJC0-gB",
    "outputId": "03675dae-7139-4dc2-c00e-ce1db3eb7b7e"
   },
   "execution_count": null,
   "outputs": [
    {
     "output_type": "stream",
     "name": "stdout",
     "text": [
      "19\n",
      "10.9\n"
     ]
    }
   ]
  },
  {
   "cell_type": "code",
   "source": [
    "\n",
    "\n",
    "def sum_min_numbers(a, b, c):\n",
    "    numb = [a,b,c]\n",
    "    numb.sort()\n",
    "    summ = numb[0] + numb[1]\n",
    "    return summ\n",
    "\n",
    "\n",
    "\n",
    "print(sum_min_numbers(1, 2, 3))\n",
    "# 3\n",
    "print(sum_min_numbers(1, 2, -10))\n",
    "# -9\n"
   ],
   "metadata": {
    "colab": {
     "base_uri": "https://localhost:8080/"
    },
    "id": "x3Vc-_hFU1QF",
    "outputId": "ae2d3a40-24ab-4b86-e456-1a22317edeeb"
   },
   "execution_count": null,
   "outputs": [
    {
     "output_type": "stream",
     "name": "stdout",
     "text": [
      "3\n",
      "-9\n"
     ]
    }
   ]
  },
  {
   "cell_type": "code",
   "source": [
    "\n",
    "def division(a, b):\n",
    "  if b == 0:\n",
    "    print(\"Zero division error!\")\n",
    "  else: return  a/b\n",
    "\n",
    "\n",
    "print(division(189, 36))\n",
    "# 5.25\n",
    "print(division(1, 0))\n",
    "# Zero division error!\n",
    "# None\n"
   ],
   "metadata": {
    "colab": {
     "base_uri": "https://localhost:8080/"
    },
    "id": "J_TJMXEdY5K9",
    "outputId": "68055fbf-f53b-4c4b-f01a-819e78c3906d"
   },
   "execution_count": null,
   "outputs": [
    {
     "output_type": "stream",
     "name": "stdout",
     "text": [
      "5.25\n",
      "Zero division error!\n",
      "None\n"
     ]
    }
   ]
  },
  {
   "cell_type": "code",
   "source": [
    "\n",
    "def get_prediction(x1,x2):\n",
    " if x1 < 20:\n",
    "    if x2 < 200:\n",
    "      return 300.5\n",
    "    else: return 65.7\n",
    " elif x2 >= 170:\n",
    "      return 1023\n",
    " elif x1 < 40:\n",
    "      return -64.1\n",
    " else: return 0.7\n",
    "\n",
    "\n",
    "\n",
    "\n",
    "\n",
    "\n",
    "print(get_prediction(x1=15, x2=150))\n",
    "# 300.5\n",
    "print(get_prediction(x1=15, x2=350))\n",
    "# 65.7\n",
    "print(get_prediction(x1=35, x2=100))\n",
    "# -64.1\n",
    "print(get_prediction(x1=175, x2=100))\n",
    "# 0.7\n",
    "print(get_prediction(x1=175, x2=200))\n",
    "# 1023\n"
   ],
   "metadata": {
    "colab": {
     "base_uri": "https://localhost:8080/"
    },
    "id": "w-1WnhCGaGQv",
    "outputId": "b202cf44-188d-4535-83df-a61589dd41ba"
   },
   "execution_count": null,
   "outputs": [
    {
     "output_type": "stream",
     "name": "stdout",
     "text": [
      "300.5\n",
      "65.7\n",
      "-64.1\n",
      "0.7\n",
      "1023\n"
     ]
    }
   ]
  },
  {
   "cell_type": "code",
   "source": [
    "def more_than_n(lst, n):\n",
    "  if lst == []:\n",
    "     return lst\n",
    "  temp = []\n",
    "  for element in lst:\n",
    "      if abs(element) > n:\n",
    "          temp.append(element)\n",
    "  return temp\n",
    "\n",
    "\n",
    "\n",
    "print(more_than_n([-1, 4, 4.2, 42.2, -3.4, -5.2], 3))\n",
    "# [4, 4.2, 42.2, -3.4, -5.2]\n",
    "print(more_than_n([-1, 4, 4.2, 42.2, -3.4, -5.2], 10))\n",
    "# [42.2]\n",
    "print(more_than_n([], 10))\n",
    "# []\n"
   ],
   "metadata": {
    "colab": {
     "base_uri": "https://localhost:8080/"
    },
    "id": "GQiabciRg_q3",
    "outputId": "08d929f1-4549-493c-eada-ac934d0cf0a6"
   },
   "execution_count": null,
   "outputs": [
    {
     "output_type": "stream",
     "name": "stdout",
     "text": [
      "[4, 4.2, 42.2, -3.4, -5.2]\n",
      "[42.2]\n",
      "[]\n"
     ]
    }
   ]
  },
  {
   "cell_type": "code",
   "source": [
    "def lucky_ticket(ticket_number):\n",
    "    # Превращаем число в строку и выбираем первые три цифры\n",
    "    first_three_num_str = str(ticket_number)[:3]\n",
    "    # Превращаем число в строку и выбираем последние три цифры\n",
    "    last_three_num_str = str(ticket_number)[3:]\n",
    "    # Инициализируем начальные значения сумм для первых и последних трёх цифр\n",
    "    first_three_sum = 0\n",
    "    last_three_sum = 0\n",
    "    # Создаём цикл для подсчёта суммы первых трёх цифр\n",
    "    for digit in first_three_num_str:\n",
    "        first_three_sum += int(digit)\n",
    "    # Создаём цикл для подсчёта суммы последних трёх цифр\n",
    "    for digit in last_three_num_str:\n",
    "        last_three_sum += int(digit)\n",
    "    # Сравниваем суммы между собой и возвращаем результат\n",
    "    return first_three_sum == last_three_sum\n",
    "\n",
    "\n",
    "\n",
    "\n",
    "print(lucky_ticket(111111))\n",
    "# True\n",
    "print(lucky_ticket(123456))\n",
    "# False\n"
   ],
   "metadata": {
    "colab": {
     "base_uri": "https://localhost:8080/"
    },
    "id": "ZqyRRZW-lWNv",
    "outputId": "6166bce0-482b-45e0-b00b-daad363f2253"
   },
   "execution_count": null,
   "outputs": [
    {
     "output_type": "stream",
     "name": "stdout",
     "text": [
      "True\n",
      "False\n"
     ]
    }
   ]
  },
  {
   "cell_type": "code",
   "source": [
    "hc = {0:1,1:0,2:0,3:0,4:1,5:0,6:1,7:0,8:2,9:1}\n",
    "\n",
    "def holes_count(number):\n",
    "#  print(hc[4])\n",
    "  snum = str(number)\n",
    "  sh = 0\n",
    "  for digit in snum:\n",
    "        sh += int(hc[int(digit)])\n",
    "  return sh\n",
    "\n",
    "\n",
    "\n",
    "print(holes_count(8))\n",
    "# 2\n",
    "print(holes_count(146))\n",
    "# 2\n",
    "print(holes_count(84628))\n",
    "# 6\n"
   ],
   "metadata": {
    "colab": {
     "base_uri": "https://localhost:8080/"
    },
    "id": "i39ZyoxtnTEH",
    "outputId": "27c15b30-cf17-417d-8589-41e6b68cb5ac"
   },
   "execution_count": null,
   "outputs": [
    {
     "output_type": "stream",
     "name": "stdout",
     "text": [
      "2\n",
      "2\n",
      "6\n"
     ]
    }
   ]
  },
  {
   "cell_type": "code",
   "source": [
    "\n",
    "\n",
    "def even_numbers_in_matrix(matrix):\n",
    "    summ = 0\n",
    "    for row in matrix:\n",
    "        for elem in row:\n",
    "            if elem % 2 == 0:\n",
    "                summ += 1\n",
    "#    print(\"summ even elements:\", summ)\n",
    "    return summ\n",
    "\n",
    "\n",
    "\n",
    "\n",
    "matrix_example = [\n",
    "    [1, 5, 4],\n",
    "    [4, 2, -2],\n",
    "    [7, 65, 88]\n",
    "]\n",
    "\n",
    "print(even_numbers_in_matrix(matrix=matrix_example))\n",
    "# 5\n",
    "\n",
    "max_value_rows = []\n",
    "\n",
    "\n",
    "\n"
   ],
   "metadata": {
    "colab": {
     "base_uri": "https://localhost:8080/"
    },
    "id": "110uPGBtqXWH",
    "outputId": "93c43340-2798-419e-90d9-890934ec325b"
   },
   "execution_count": null,
   "outputs": [
    {
     "output_type": "stream",
     "name": "stdout",
     "text": [
      "summ even elements: 5\n",
      "5\n"
     ]
    }
   ]
  },
  {
   "cell_type": "code",
   "source": [
    "\n",
    "def matrix_sum(matrix1, matrix2):\n",
    "  if len(matrix1[0]) == len(matrix2[0]):\n",
    "        if len(matrix1) == len(matrix2):\n",
    "          result = [[matrix1[i][j] + matrix2[i][j] for j in range(len(matrix1[0]))] for i in range(len(matrix1))]\n",
    "          return result\n",
    "        else:\n",
    "            print(\"Error! Matrices dimensions are different!\")\n",
    "            return None\n",
    "  else:\n",
    "      print(\"Error! Matrices dimensions are different!\")\n",
    "      return None\n",
    "\n",
    "\n",
    "\n",
    "\n",
    "matrix_example = [\n",
    "          [1, 5, 4],\n",
    "          [4, 2, -2],\n",
    "          [7, 65, 88]\n",
    "]\n",
    "\n",
    "print(matrix_sum(matrix1=matrix_example, matrix2=matrix_example))\n",
    "# [[2, 10, 8], [8, 4, -4], [14, 130, 176]]\n",
    "\n",
    "matrix1_example = [\n",
    "          [1, 5, 4],\n",
    "          [4, 2, -2]\n",
    "]\n",
    "\n",
    "matrix2_example = [\n",
    "          [10, 15, 43],\n",
    "          [41, 2, -2],\n",
    "          [7, 5, 7]\n",
    "]\n",
    "\n",
    "print(matrix_sum(matrix1=matrix1_example, matrix2=matrix2_example))\n",
    "# Error! Matrices dimensions are different!\n",
    "# None\n",
    "\n",
    "matrix1_example = [\n",
    "          [1, 5, 4, 5],\n",
    "          [4, 2, -2, -5],\n",
    "          [4, 2, -2, -5]\n",
    "]\n",
    "\n",
    "matrix2_example = [\n",
    "          [10, 15, 43],\n",
    "          [41, 2, -2],\n",
    "          [7, 5, 7]\n",
    "]\n",
    "\n",
    "print(matrix_sum(matrix1=matrix1_example, matrix2=matrix2_example))\n",
    "# Error! Matrices dimensions are different!\n",
    "# None\n"
   ],
   "metadata": {
    "colab": {
     "base_uri": "https://localhost:8080/"
    },
    "id": "7oNZeLS-sSDu",
    "outputId": "5a005261-7f5e-4b26-ac41-6b0c12e6664d"
   },
   "execution_count": null,
   "outputs": [
    {
     "output_type": "stream",
     "name": "stdout",
     "text": [
      "[[2, 10, 8], [8, 4, -4], [14, 130, 176]]\n",
      "Error! Matrices dimensions are different!\n",
      "None\n",
      "Error! Matrices dimensions are different!\n",
      "None\n"
     ]
    }
   ]
  },
  {
   "cell_type": "code",
   "source": [
    "def matrix_sum(matrix1, matrix2):\n",
    "    # Проверяем, что матрицы имеют одинаковое количество элементов.\n",
    "    if len(matrix1) != len(matrix2):\n",
    "        print('Error! Matrices dimensions are different!')\n",
    "        return\n",
    "    # Проверяем, что длины строк матрицы равны между собой.\n",
    "    for i in range(len(matrix1)):\n",
    "        if len(matrix1[i]) != len(matrix2[i]):\n",
    "            print('Error! Matrices dimensions are different!')\n",
    "            return\n",
    "    # Инициализируем новую матрицу\n",
    "    sum_matrix = []\n",
    "    # Создаём цикл по индексам строк матрицы\n",
    "    for i in range(len(matrix1)):\n",
    "        # Создаём пустой список, в который будем помещать элементы строк.\n",
    "        line_tmp = []\n",
    "        # Создаём цикл по индексам столбцов матрицы\n",
    "        for j in range(len(matrix1[0])):\n",
    "            # Вычисляем сумму соответствующих элементов матриц\n",
    "            line_tmp.append(matrix1[i][j] + matrix2[i][j])\n",
    "        # Добавляем полученную строку в список\n",
    "        sum_matrix.append(line_tmp)\n",
    "    # Возвращаем результат\n",
    "    return sum_matrix\n",
    "\n",
    "\n",
    "\n",
    "\n",
    "matrix_example = [\n",
    "          [1, 5, 4],\n",
    "          [4, 2, -2],\n",
    "          [7, 65, 88]\n",
    "]\n",
    "\n",
    "print(matrix_sum(matrix1=matrix_example, matrix2=matrix_example))\n",
    "# [[2, 10, 8], [8, 4, -4], [14, 130, 176]]\n",
    "\n",
    "matrix1_example = [\n",
    "          [1, 5, 4],\n",
    "          [4, 2, -2]\n",
    "]\n",
    "\n",
    "matrix2_example = [\n",
    "          [10, 15, 43],\n",
    "          [41, 2, -2],\n",
    "          [7, 5, 7]\n",
    "]\n",
    "\n",
    "print(matrix_sum(matrix1=matrix1_example, matrix2=matrix2_example))\n",
    "# Error! Matrices dimensions are different!\n",
    "# None\n",
    "\n",
    "matrix1_example = [\n",
    "          [1, 5, 4, 5],\n",
    "          [4, 2, -2, -5],\n",
    "          [4, 2, -2, -5]\n",
    "]\n",
    "\n",
    "matrix2_example = [\n",
    "          [10, 15, 43],\n",
    "          [41, 2, -2],\n",
    "          [7, 5, 7]\n",
    "]\n",
    "\n",
    "print(matrix_sum(matrix1=matrix1_example, matrix2=matrix2_example))\n",
    "# Error! Matrices dimensions are different!\n",
    "# None"
   ],
   "metadata": {
    "colab": {
     "base_uri": "https://localhost:8080/"
    },
    "id": "EizGZWL4xntn",
    "outputId": "0472ceed-e31b-4e5f-cd57-a3ed8fd1c9b0"
   },
   "execution_count": null,
   "outputs": [
    {
     "output_type": "stream",
     "name": "stdout",
     "text": [
      "[[2, 10, 8], [8, 4, -4], [14, 130, 176]]\n",
      "Error! Matrices dimensions are different!\n",
      "None\n",
      "Error! Matrices dimensions are different!\n",
      "None\n"
     ]
    }
   ]
  },
  {
   "cell_type": "code",
   "source": [
    "\n",
    "def print_personal_data(**kwargs):\n",
    "  sorted_items = sorted(kwargs.items(), key=lambda item: item[0])\n",
    "\n",
    "  print(sorted_items)\n",
    "\n",
    "\n",
    "\n",
    "\n",
    "\n",
    "\n",
    "print_personal_data(first_name='John', last_name='Doe', age=28, position='Python developer')\n",
    "# age: 28\n",
    "# first_name: John\n",
    "# last_name: Doe\n",
    "# position: Python developer\n",
    "\n",
    "print_personal_data(first_name='Jack', last_name='Smith', age=32, work_experience = '5 years', position='Project manager')\n",
    "# age: 32\n",
    "# first_name: Jack\n",
    "# last_name: Smith\n",
    "# position: Project manager\n",
    "# work_experience: 5 years\n"
   ],
   "metadata": {
    "colab": {
     "base_uri": "https://localhost:8080/"
    },
    "id": "E7XhYTguyWMO",
    "outputId": "622c3dd6-6c1d-4ace-eb31-61e063ce97db"
   },
   "execution_count": null,
   "outputs": [
    {
     "output_type": "stream",
     "name": "stdout",
     "text": [
      "[('age', 28), ('first_name', 'John'), ('last_name', 'Doe'), ('position', 'Python developer')]\n",
      "[('age', 32), ('first_name', 'Jack'), ('last_name', 'Smith'), ('position', 'Project manager'), ('work_experience', '5 years')]\n"
     ]
    }
   ]
  },
  {
   "cell_type": "code",
   "source": [
    "def mult(*arch):\n",
    "    result = 1\n",
    "    for arg in arch:\n",
    "          result = result*arg\n",
    "    return result\n",
    "\n",
    "\n",
    "print(mult(3,5,10))\n",
    "# Должно быть напечатано:\n",
    "# 150\n"
   ],
   "metadata": {
    "id": "eIM6N-4oXr9y"
   },
   "execution_count": null,
   "outputs": []
  },
  {
   "cell_type": "code",
   "source": [
    "\n",
    "\n",
    "def print_args(*args, **kwargs):\n",
    "    print(args)\n",
    "    print(kwargs)\n",
    "\n",
    "print_args(1,4,5,7, name='Ivanov', age=19, city='Moscow')\n",
    "# Будет напечатано:\n",
    "# (1, 4, 5, 7)\n",
    "# {'name': 'Ivanov', 'age': 19, 'city': 'Moscow'}"
   ],
   "metadata": {
    "colab": {
     "base_uri": "https://localhost:8080/"
    },
    "id": "cp5CBY2zX3i5",
    "outputId": "c1c88599-f79a-449a-98d9-64374eb2f2ff"
   },
   "execution_count": null,
   "outputs": [
    {
     "output_type": "stream",
     "name": "stdout",
     "text": [
      "(1, 4, 5, 7)\n",
      "{'name': 'Ivanov', 'age': 19, 'city': 'Moscow'}\n"
     ]
    }
   ]
  },
  {
   "cell_type": "code",
   "source": [
    "\n",
    "def get_words_list(text):\n",
    "    text = text.lower()\n",
    "    text = text.replace(\",\", \"\")\n",
    "    text = text.replace(\".\", \"\")\n",
    "    text = text.replace(\"?\", \"\")\n",
    "    text = text.replace(\"!\", \"\")\n",
    "    text = text.replace(\"(\", \"\")\n",
    "    text = text.replace(\")\", \"\")\n",
    "    text = text.split(\" \")\n",
    "    return text\n",
    "\n",
    "\n",
    "\n",
    "\n",
    "text_example = \"Arrakis, the planet known as Dune, is forever his place.\"\n",
    "\n",
    "print(get_words_list(text=text_example))\n",
    "# ['arrakis', 'the', 'planet', 'known', 'as', 'dune', 'is', 'forever', 'his', 'place']\n"
   ],
   "metadata": {
    "colab": {
     "base_uri": "https://localhost:8080/"
    },
    "id": "C7AWlr5Ovyfg",
    "outputId": "365ddf8b-e921-4263-a3ae-6c3393d8dd66"
   },
   "execution_count": null,
   "outputs": [
    {
     "output_type": "stream",
     "name": "stdout",
     "text": [
      "['Arrakis', 'the', 'planet', 'known', 'as', 'Dune', 'is', 'forever', 'his', 'place']\n"
     ]
    }
   ]
  },
  {
   "cell_type": "code",
   "source": [
    "def get_words_list(text):\n",
    "    # Создаём список со знаками пунктуации\n",
    "    punctuation_list = ['.', ',', ';', ':', '...', '!', '?', '-', '\"', '(', ')']\n",
    "    # Создаём цикл по элементам списка\n",
    "    for symbol in punctuation_list:\n",
    "        # Заменяем текущий знак пунктуации в тексте на пустую строку\n",
    "        text = text.replace(symbol, \"\")\n",
    "    # Приводим текст к нижнему регистру\n",
    "    text = text.lower()\n",
    "    # Разделяем его на слова по пробелу\n",
    "    words_list = text.split(' ')\n",
    "    # Возвращаем результат\n",
    "    return words_list\n",
    "\n",
    "\n",
    "\n",
    "text_example = \"Arrakis, the planet known as Dune, is forever his place.\"\n",
    "\n",
    "print(get_words_list(text=text_example))\n",
    "# ['arrakis', 'the', 'planet', 'known', 'as', 'dune', 'is', 'forever', 'his', 'place']"
   ],
   "metadata": {
    "id": "X7A6jwF0yCHI"
   },
   "execution_count": null,
   "outputs": []
  },
  {
   "cell_type": "code",
   "source": [
    "def get_unique_words(words_list):\n",
    "    word_set = set(words_list)\n",
    "    return sorted(word_set)\n",
    "\n",
    "\n",
    "\n",
    "words_list_example = ['and', 'take', 'the', 'most', 'special', 'care', 'that', 'you', 'locate', \"muad'dib\", 'in', 'his', 'place', 'the', 'planet', 'arrakis', 'do', 'not', 'be', 'deceived', 'by', 'the', 'fact', 'that', 'he', 'was', 'born', 'on', 'caladan', 'and', 'lived', 'his', 'first', 'fifteen', 'years', 'there', 'arrakis', 'the', 'planet', 'known', 'as', 'dune', 'is', 'forever', 'his', 'place']\n",
    "\n",
    "print(get_unique_words(words_list=words_list_example))\n",
    "## ['and', 'arrakis', 'as', 'be', 'born', 'by', 'caladan', 'care', 'deceived', 'do', 'dune', 'fact', 'fifteen', 'first', 'forever', 'he', 'his', 'in', 'is', 'known', 'lived', 'locate', 'most', \"muad'dib\", 'not', 'on', 'place', 'planet', 'special', 'take', 'that', 'the', 'there', 'was', 'years', 'you']\n"
   ],
   "metadata": {
    "colab": {
     "base_uri": "https://localhost:8080/"
    },
    "id": "9ATTPsWbymwG",
    "outputId": "324ddb4a-38bf-4ed8-e8be-719e4a83adfd"
   },
   "execution_count": null,
   "outputs": [
    {
     "output_type": "stream",
     "name": "stdout",
     "text": [
      "['and', 'arrakis', 'as', 'be', 'born', 'by', 'caladan', 'care', 'deceived', 'do', 'dune', 'fact', 'fifteen', 'first', 'forever', 'he', 'his', 'in', 'is', 'known', 'lived', 'locate', 'most', \"muad'dib\", 'not', 'on', 'place', 'planet', 'special', 'take', 'that', 'the', 'there', 'was', 'years', 'you']\n"
     ]
    }
   ]
  },
  {
   "cell_type": "code",
   "source": [
    "\n",
    "\n",
    "\n",
    "def get_most_frequent_word(text):\n",
    "        freq_dic = {}\n",
    "        def get_words_list(text):\n",
    "          # Создаём список со знаками пунктуации\n",
    "          punctuation_list = ['.', ',', ';', ':', '...', '!', '?', '-', '\"', '(', ')']\n",
    "          # Создаём цикл по элементам списка\n",
    "          for symbol in punctuation_list:\n",
    "          # Заменяем текущий знак пунктуации в тексте на пустую строку\n",
    "            text = text.replace(symbol, \"\")\n",
    "          # Приводим текст к нижнему регистру\n",
    "          text = text.lower()\n",
    "          # Разделяем его на слова по пробелу\n",
    "          words_list = text.split(' ')\n",
    "          # Возвращаем результат\n",
    "          return words_list\n",
    "\n",
    "        def get_unique_words(words_list):\n",
    "          word_set = set(words_list)\n",
    "          return sorted(word_set)\n",
    "\n",
    "        text = get_words_list(text)\n",
    "        uniq_word_set = get_unique_words(text)\n",
    "  #      print(\"uws\",uniq_word_set)\n",
    "        dict_word = {}\n",
    "        for symbol in text: # symbol — текущий символ в тексте\n",
    "            # Проверяем условие, что символа ещё нет среди ключей словаря.\n",
    "  #          print(symbol)\n",
    "            if symbol not in dict_word:\n",
    "               # Если условие выполняется, заносим символ в словарь со значением 1.\n",
    "              dict_word[symbol] = 1 #\n",
    "            else:\n",
    "               # В противном случае увеличиваем частоту символа\n",
    "              dict_word[symbol] += 1\n",
    "\n",
    "\n",
    "        return max(dict_word, key=dict_word.get)\n",
    "\n",
    "\n",
    "\n",
    "\n",
    "\n",
    "\n",
    "\n",
    "text_example = \"A beginning is the time for taking the most delicate care that the balances are correct. This every sister of the Bene Gesserit knows. To begin your study of the life of Muad'Dib, then take care that you first place him in his time: born in the 57th year of the Padishah Emperor, Shaddam IV. And take the most special care that you locate Muad'Dib in his place: the planet Arrakis. Do not be deceived by the fact that he was born on Caladan and lived his first fifteen years there. Arrakis, the planet known as Dune, is forever his place.\"\n",
    "print(get_most_frequent_word(text_example))\n",
    "# the\n",
    "\n",
    "text_example = \"Есть урок, который идет не сорок пять минут, а всю жизнь. Этот урок проходит и в классе, и в поле, и дома, и в лесу. Я назвал этот урок седьмым потому, что в школе обычно бывает не больше шести уроков. Не удивляйтесь, если я скажу, что учителем на этом уроке может быть и береза возле вашего дома, и бабушка, и вы сами (В. Песков)\"\n",
    "print(get_most_frequent_word(text_example))\n",
    "# и\n",
    "\n",
    "\n"
   ],
   "metadata": {
    "colab": {
     "base_uri": "https://localhost:8080/"
    },
    "id": "gCRcACPP-RBq",
    "outputId": "d148355a-12c0-4dc4-f8a2-467a1f181697"
   },
   "execution_count": null,
   "outputs": [
    {
     "output_type": "stream",
     "name": "stdout",
     "text": [
      "the\n",
      "и\n"
     ]
    }
   ]
  },
  {
   "cell_type": "code",
   "source": [
    "data = [\n",
    "    ('Amanda', 37, 78, 67),\n",
    "    ('Patricia', 78, 93, 68),\n",
    "    ('Marcos', 79, 67, 89),\n",
    "    ('Dmitry', 67, 68, 100),\n",
    "    ('Andrey', 100, 78, 76),\n",
    "    ('Victoria', 93, 69, 96),\n",
    "]\n",
    "\n",
    "\n",
    "def get_total_score(data):\n",
    "\n",
    "  # Создаём lambda-функцию, которая считает средний балл, и применяем её к каждому элементу списка\n",
    "  map_func = lambda x: (*x, (x[1] +  x[2] + x[3]))\n",
    "  updated_data = list(map(map_func, data))\n",
    "  updated_data.sort(key=lambda x: x[4])\n",
    "\n",
    "\n",
    "\n",
    "\n",
    "  return updated_data\n",
    "print(get_total_score(data))\n",
    "# [('Amanda', 37, 78, 67, 182), ('Marcos', 79, 67, 89, 235), ('Dmitry', 67, 68, 100, 235), ('Patricia', 78, 93, 68, 239), ('Andrey', 100, 78, 76, 254), ('Victoria', 93, 69, 96, 258)]\n"
   ],
   "metadata": {
    "colab": {
     "base_uri": "https://localhost:8080/"
    },
    "id": "B7L40ks2PKp0",
    "outputId": "6ae18c26-3da3-460c-d7ab-946db17f34ce"
   },
   "execution_count": null,
   "outputs": [
    {
     "output_type": "stream",
     "name": "stdout",
     "text": [
      "[('Amanda', 37, 78, 67, 182), ('Marcos', 79, 67, 89, 235), ('Dmitry', 67, 68, 100, 235), ('Patricia', 78, 93, 68, 239), ('Andrey', 100, 78, 76, 254), ('Victoria', 93, 69, 96, 258)]\n"
     ]
    }
   ]
  },
  {
   "cell_type": "code",
   "source": [
    "\n",
    "data = {\n",
    "    \"type\": \"video\", \"videoID\": \"vid001\", \"links\": [\n",
    "        {\"type\":\"video\", \"videoID\":\"vid002\", \"links\":[]},\n",
    "        {   \"type\":\"video\", \"videoID\":\"vid003\", \"links\": [\n",
    "            {\"type\": \"video\", \"videoID\":\"vid004\"},\n",
    "            {\"type\": \"video\", \"videoID\":\"vid005\"},\n",
    "            ]\n",
    "        },\n",
    "        {\"type\":\"video\", \"videoID\":\"vid006\"},\n",
    "        {   \"type\":\"video\",\n",
    "            \"videoID\":\"vid007\",\n",
    "            \"links\": [\n",
    "            {\"type\":\"video\", \"videoID\":\"vid008\", \"links\": [\n",
    "                {   \"type\":\"video\",\n",
    "                    \"videoID\":\"vid009\",\n",
    "                    \"links\": [{\"type\":\"video\", \"videoID\":\"vid010\"}]\n",
    "                }\n",
    "            ]}\n",
    "        ]},\n",
    "    ]\n",
    "}\n",
    "\n",
    "\n",
    "def find_video(data):\n",
    "    video_ids = []\n",
    "\n",
    "    def recursive_search(item):\n",
    "        if isinstance(item, dict):\n",
    "            for key, value in item.items():\n",
    "                if key == \"videoID\":\n",
    "                    video_ids.append(value)\n",
    "                else:\n",
    "                    recursive_search(value)\n",
    "        elif isinstance(item, list):\n",
    "            for element in item:\n",
    "                recursive_search(element)\n",
    "\n",
    "    recursive_search(data)\n",
    "    return video_ids\n",
    "\n",
    "\n",
    "\n",
    "print(find_video(data))\n",
    "\n",
    "\n",
    "#['vid001', 'vid002', 'vid003', 'vid004', 'vid005', 'vid006', 'vid007', 'vid008', 'vid009', 'vid010']\n",
    "\n"
   ],
   "metadata": {
    "colab": {
     "base_uri": "https://localhost:8080/"
    },
    "id": "CCeqWwyTUFfD",
    "outputId": "3748893b-f68e-4977-bec9-34931841784c"
   },
   "execution_count": null,
   "outputs": [
    {
     "output_type": "stream",
     "name": "stdout",
     "text": [
      "['vid001', 'vid002', 'vid003', 'vid004', 'vid005', 'vid006', 'vid007', 'vid008', 'vid009', 'vid010']\n"
     ]
    }
   ]
  },
  {
   "cell_type": "code",
   "source": [
    "\n",
    "data = {\n",
    "    \"type\": \"video\", \"videoID\": \"vid001\", \"links\": [\n",
    "        {\"type\":\"video\", \"videoID\":\"vid002\", \"links\":[]},\n",
    "        {   \"type\":\"video\", \"videoID\":\"vid003\", \"links\": [\n",
    "            {\"type\": \"video\", \"videoID\":\"vid004\"},\n",
    "            {\"type\": \"video\", \"videoID\":\"vid005\"},\n",
    "            ]\n",
    "        },\n",
    "        {\"type\":\"video\", \"videoID\":\"vid006\"},\n",
    "        {   \"type\":\"video\",\n",
    "            \"videoID\":\"vid007\",\n",
    "            \"links\": [\n",
    "            {\"type\":\"video\", \"videoID\":\"vid008\", \"links\": [\n",
    "                {   \"type\":\"video\",\n",
    "                    \"videoID\":\"vid009\",\n",
    "                    \"links\": [{\"type\":\"video\", \"videoID\":\"vid010\"}]\n",
    "                }\n",
    "            ]}\n",
    "        ]},\n",
    "    ]\n",
    "}\n",
    "\n",
    "\n",
    "\n",
    "\n",
    "def find_video(data):\n",
    "    output = []\n",
    "\n",
    "    # Если data - это список, перебираем его элементы\n",
    "    if isinstance(data, list):\n",
    "        for item in data:\n",
    "            print(\"item - \",item)\n",
    "            output += find_video(item)\n",
    "\n",
    "    # Если data - это словарь, проверяем наличие ключа 'videoID'\n",
    "    elif isinstance(data, dict):\n",
    "        for key, value in data.items():\n",
    "            print(\"key -\" ,  key,\"value -\", value)\n",
    "            # Если значение - это список или словарь, вызываем функцию рекурсивно\n",
    "            if isinstance(value, (list, dict)):\n",
    "                output += find_video(value)\n",
    "            elif key == 'videoID':\n",
    "                output.append(value)\n",
    "\n",
    "    return output\n",
    "\n",
    "\n",
    "print(find_video(data))"
   ],
   "metadata": {
    "id": "fhELBT5kuWT_"
   },
   "execution_count": null,
   "outputs": []
  },
  {
   "cell_type": "code",
   "source": [
    "cheese_data = {\n",
    "    'чеддер': [370, 5000, 33, 'твердый'],\n",
    "    'пармезан': [510, 4000, 29, 'твердый'],\n",
    "    'гауда': [250, 3700, 27, 'полутвердый'],\n",
    "    'эдам': [220, 10000, 30, 'полутвердый'],\n",
    "    'горгонзола': [320, 3000, 32, 'полумягкий'],\n",
    "    'рокфор': [340, 15000, 31, 'полумягкий'],\n",
    "    'стилтон': [360, 7000, 35, 'полумягкий'],\n",
    "    'камамбер': [250, 8000, 24, 'мягкий'],\n",
    "    'бри': [310, 6500, 28, 'мягкий'],\n",
    "}\n",
    "\n",
    "def filter_by_fat(cheese_data, n):\n",
    "    filtered_cheese = {}\n",
    "\n",
    "    for cheese_name, details in cheese_data.items():\n",
    "        print(\"print - \", cheese_name, details)\n",
    "        fat_content = details[2]  # Индекс 2 соответствует жирности сыра\n",
    "        if fat_content < n:\n",
    "            filtered_cheese[cheese_name] = fat_content\n",
    "\n",
    "    return filtered_cheese\n",
    "\n",
    "\n",
    "\n",
    "\n",
    "\n",
    "print(filter_by_fat(cheese_data, n=30))\n",
    "# {'пармезан': 29, 'гауда': 27, 'камамбер': 24, 'бри': 28}\n",
    "\n",
    "print(filter_by_fat(cheese_data, n=25))\n",
    "# {'камамбер': 24}\n",
    "\n",
    "\n"
   ],
   "metadata": {
    "colab": {
     "base_uri": "https://localhost:8080/"
    },
    "id": "qkJbQe5xvQ9x",
    "outputId": "9f627823-bb6f-4fc5-d00e-a45027a8ccf4"
   },
   "execution_count": null,
   "outputs": [
    {
     "output_type": "stream",
     "name": "stdout",
     "text": [
      "print -  чеддер [370, 5000, 33, 'твердый']\n",
      "print -  пармезан [510, 4000, 29, 'твердый']\n",
      "print -  гауда [250, 3700, 27, 'полутвердый']\n",
      "print -  эдам [220, 10000, 30, 'полутвердый']\n",
      "print -  горгонзола [320, 3000, 32, 'полумягкий']\n",
      "print -  рокфор [340, 15000, 31, 'полумягкий']\n",
      "print -  стилтон [360, 7000, 35, 'полумягкий']\n",
      "print -  камамбер [250, 8000, 24, 'мягкий']\n",
      "print -  бри [310, 6500, 28, 'мягкий']\n",
      "{'пармезан': 29, 'гауда': 27, 'камамбер': 24, 'бри': 28}\n",
      "print -  чеддер [370, 5000, 33, 'твердый']\n",
      "print -  пармезан [510, 4000, 29, 'твердый']\n",
      "print -  гауда [250, 3700, 27, 'полутвердый']\n",
      "print -  эдам [220, 10000, 30, 'полутвердый']\n",
      "print -  горгонзола [320, 3000, 32, 'полумягкий']\n",
      "print -  рокфор [340, 15000, 31, 'полумягкий']\n",
      "print -  стилтон [360, 7000, 35, 'полумягкий']\n",
      "print -  камамбер [250, 8000, 24, 'мягкий']\n",
      "print -  бри [310, 6500, 28, 'мягкий']\n",
      "{'камамбер': 24}\n"
     ]
    }
   ]
  },
  {
   "cell_type": "code",
   "source": [
    "\n",
    "\n",
    "cheese_data = {\n",
    "    'чеддер': [370, 5000, 33, 'твердый'],\n",
    "    'пармезан': [510, 4000, 29, 'твердый'],\n",
    "    'гауда': [250, 3700, 27, 'полутвердый'],\n",
    "    'эдам': [220, 10000, 30, 'полутвердый'],\n",
    "    'горгонзола': [320, 3000, 32, 'полумягкий'],\n",
    "    'рокфор': [340, 15000, 31, 'полумягкий'],\n",
    "    'стилтон': [360, 7000, 35, 'полумягкий'],\n",
    "    'камамбер': [250, 8000, 24, 'мягкий'],\n",
    "    'бри': [310, 6500, 28, 'мягкий'],\n",
    "}\n",
    "\n",
    "def count_money(cheese_data):\n",
    "    cost_cheese = 0\n",
    "    for cheese_name, details in cheese_data.items():\n",
    "        cost_cheese = cost_cheese + details[0]*10 * details[1]\n",
    "    return cost_cheese\n",
    "\n",
    "\n",
    "print(count_money(cheese_data))\n",
    "## 196100000\n"
   ],
   "metadata": {
    "colab": {
     "base_uri": "https://localhost:8080/"
    },
    "id": "XCtUr8vl2_jI",
    "outputId": "47c6e565-a26d-43b0-da8f-0fb9f3a1e8b5"
   },
   "execution_count": null,
   "outputs": [
    {
     "output_type": "stream",
     "name": "stdout",
     "text": [
      "196100000\n"
     ]
    }
   ]
  },
  {
   "cell_type": "code",
   "source": [
    "cheese_data = {\n",
    "    'чеддер': [370, 5000, 33, 'твердый'],\n",
    "    'пармезан': [510, 4000, 29, 'твердый'],\n",
    "    'гауда': [250, 3700, 27, 'полутвердый'],\n",
    "    'эдам': [220, 10000, 30, 'полутвердый'],\n",
    "    'горгонзола': [320, 3000, 32, 'полумягкий'],\n",
    "    'рокфор': [340, 15000, 31, 'полумягкий'],\n",
    "    'стилтон': [360, 7000, 35, 'полумягкий'],\n",
    "    'камамбер': [250, 8000, 24, 'мягкий'],\n",
    "    'бри': [310, 6500, 28, 'мягкий'],\n",
    "}\n",
    "\n",
    "\n",
    "def find_cheese_type(cheese_data, cheese_type):\n",
    "    cheese = []\n",
    "\n",
    "    for cheese_name, details in cheese_data.items():\n",
    "        cheese_type_t = details[3]\n",
    "        if cheese_type_t == cheese_type:\n",
    "            cheese.append(cheese_name)\n",
    "\n",
    "    return cheese\n",
    "\n",
    "\n",
    "find_cheese_type(cheese_data, cheese_type='мягкий')\n",
    "# ['камамбер', 'бри']\n",
    "\n",
    "find_cheese_type(cheese_data, cheese_type='полумягкий')\n",
    "# ['горгонзола', 'рокфор', 'стилтон']\n",
    "\n",
    "\n",
    "\n"
   ],
   "metadata": {
    "colab": {
     "base_uri": "https://localhost:8080/"
    },
    "id": "tCG_A0m84AV5",
    "outputId": "80c36ba2-ef43-4f47-d545-2de5b7333ca6"
   },
   "execution_count": null,
   "outputs": [
    {
     "output_type": "execute_result",
     "data": {
      "text/plain": [
       "['горгонзола', 'рокфор', 'стилтон']"
      ]
     },
     "metadata": {},
     "execution_count": 57
    }
   ]
  },
  {
   "cell_type": "code",
   "source": [
    "cheese_data = {\n",
    "    'чеддер': [370, 5000, 33, 'твердый'],\n",
    "    'пармезан': [510, 4000, 29, 'твердый'],\n",
    "    'гауда': [250, 3700, 27, 'полутвердый'],\n",
    "    'эдам': [220, 10000, 30, 'полутвердый'],\n",
    "    'горгонзола': [320, 3000, 32, 'полумягкий'],\n",
    "    'рокфор': [340, 15000, 31, 'полумягкий'],\n",
    "    'стилтон': [360, 7000, 35, 'полумягкий'],\n",
    "    'камамбер': [250, 8000, 24, 'мягкий'],\n",
    "    'бри': [310, 6500, 28, 'мягкий'],\n",
    "}\n",
    "\n",
    "\n",
    "\n",
    "\n",
    "def sort_cheese(cheese_data):\n",
    "  #преобразовываем в словар список кортежей, которые получились в результате сортировки items по листу\n",
    "   sorted_cheese_names = sorted(cheese_data.keys(), key=lambda cheese_name: cheese_data[cheese_name][0])\n",
    "   return sorted_cheese_names\n",
    "\n",
    "\n",
    "\n",
    "\n",
    "\n",
    "print(sort_cheese(cheese_data))\n",
    "# ['эдам', 'гауда', 'камамбер', 'бри', 'горгонзола', 'рокфор', 'стилтон', 'чеддер', 'пармезан']\n",
    "\n"
   ],
   "metadata": {
    "colab": {
     "base_uri": "https://localhost:8080/"
    },
    "id": "owoUA9tG54iY",
    "outputId": "b808ed5e-1e40-456a-dc35-b734d1f7bf1b"
   },
   "execution_count": null,
   "outputs": [
    {
     "output_type": "stream",
     "name": "stdout",
     "text": [
      "['эдам', 'гауда', 'камамбер', 'бри', 'горгонзола', 'рокфор', 'стилтон', 'чеддер', 'пармезан']\n"
     ]
    }
   ]
  },
  {
   "cell_type": "code",
   "source": [
    "\n",
    "\n",
    "\n",
    "def purchase(ingr):\n",
    "    ing_w = []\n",
    "    if len(ingr) == len(set(ingr)):\n",
    "      print(\"Ваш заказ оформлен верно\")\n",
    "    else:\n",
    "        for item in ingr:\n",
    "          if ingr.count(item) > 1 and item not in ing_w:\n",
    "              print(\"Вы продублировали ингредиент {} в заказе {} раз(а)\".format(item,ingr.count(item)))\n",
    "              ing_w.append(item)\n",
    "\n",
    "\n",
    "\n",
    "ingredients = ['кислота уксусная', 'кислота лимонная', 'закваска', 'кислота молочная', 'пряность', 'бактерии', 'аннато', 'кальций', 'калий', 'специя', 'молоко коровье', 'молоко овечье', 'фермент', 'соль', 'сливки', 'грибки', 'ароматизатор', 'молоко козье', 'дрожжи', 'каротин']\n",
    "\n",
    "purchase(ingredients)\n",
    "# Ваш заказ оформлен верно\n",
    "\n",
    "ingredients = ['молоко коровье', 'молоко овечье', 'бактерии', 'молоко козье', 'сливки', 'фермент', 'закваска', 'молоко коровье', 'соль', 'молоко коровье', 'бактерии', 'молоко овечье', 'кислота лимонная', 'грибки', 'соль', 'дрожжи', 'кислота уксусная', 'кальций', 'калий', 'каротин', 'аннато', 'специя', 'пряность', 'ароматизатор', 'соль', 'кислота молочная']\n",
    "\n",
    "purchase(ingredients)\n",
    "# Вы продублировали ингредиент бактерии в заказе 2 раз(а)\n",
    "# Вы продублировали ингредиент молоко коровье в заказе 3 раз(а)\n",
    "# Вы продублировали ингредиент молоко овечье в заказе 2 раз(а)\n",
    "# Вы продублировали ингредиент соль в заказе 3 раз(а)\n"
   ],
   "metadata": {
    "colab": {
     "base_uri": "https://localhost:8080/"
    },
    "id": "55eVyzp2-m7A",
    "outputId": "9d348f42-836d-46e4-a3bb-3a07a5e49301"
   },
   "execution_count": null,
   "outputs": [
    {
     "output_type": "stream",
     "name": "stdout",
     "text": [
      "Ваш заказ оформлен верно\n",
      "Вы продублировали ингредиент молоко коровье в заказе 3 раз(а)\n",
      "Вы продублировали ингредиент молоко овечье в заказе 2 раз(а)\n",
      "Вы продублировали ингредиент бактерии в заказе 2 раз(а)\n",
      "Вы продублировали ингредиент соль в заказе 3 раз(а)\n"
     ]
    }
   ]
  },
  {
   "cell_type": "code",
   "source": [
    "#input_string1 = input('Введите 1-ую последовательность идентификаторов: ')\n",
    "#input_string2 = input('Введите 2-ую последовательность идентификаторов: ')\n",
    "#заменяем ввод, т.к. лень вводить данные каждый раз, на заранее заданные переменные\n",
    "#input_string1 = \"108, 138, 42, 52, 14, четыре\"\n",
    "input_string1 = \"108, 138, 42, 52, 14\"\n",
    "#input_string2 = \"109, 13, 52, 32, 42, 14, 109\"\n",
    "input_string2 = \"189, 202, 249, 24, 15, 3\"\n",
    "#удаляем пробелы из обоих строк и формируем списки\n",
    "list1 = input_string1.replace(\" \", \"\").split(',')\n",
    "list2 = input_string2.replace(\" \", \"\").split(',')\n",
    "\n",
    "#определяем функцию чистой конвертации, преобразуем список в множество, заодно убираем дубликаты, делаем пересечение и выводим на экран\n",
    "def pure_intersection(int1, int2):\n",
    "  int_joined = list(set(int1) & set(int2))\n",
    "\n",
    "  return print(int_joined)\n",
    "\n",
    "#и заодно пробуем сконвертировать в Int, если ошибка, то выбрасываем сообщение\n",
    "try:\n",
    "  int_list1 = list(map(int, list1))\n",
    "  int_list2 = list(map(int, list2))\n",
    "  pure_intersection(int_list1,int_list2)\n",
    "except Exception as e:\n",
    "  print(\"Некорректный ввод\")\n",
    "\n",
    "\n",
    "\n",
    "\n"
   ],
   "metadata": {
    "colab": {
     "base_uri": "https://localhost:8080/"
    },
    "id": "CjOD-6AlGOML",
    "outputId": "c4728750-2da1-40ed-e57c-87e2a638c170"
   },
   "execution_count": null,
   "outputs": [
    {
     "output_type": "stream",
     "name": "stdout",
     "text": [
      "[]\n"
     ]
    }
   ]
  },
  {
   "cell_type": "code",
   "source": [
    "#input_string = input('Введите последовательность чисел: ')\n",
    "input_string = \"-2,56 25,002 восемь 19,13 13 -37,5\"\n",
    "#меняем запятые на точки и формируем список\n",
    "list_str = input_string.replace(\",\", '.').split(\" \")\n",
    "\n",
    "#определяем функцию для поиска min/max\n",
    "def find_min_max(list_str):\n",
    "    #создаем пустой список для Int и float\n",
    "    lst_float = []\n",
    "    #цикл по элементам списка\n",
    "    for item in list_str:\n",
    "      #проверяем, есть ли буквы в элементе\n",
    "      if item.isalpha() == False:\n",
    "        #проверяем, содержит ли элемент точку, да - значит float, нет, значит - int\n",
    "        if '.' in item :\n",
    "           # наполняем список нужными элементами (float)\n",
    "           lst_float.append(float(item))\n",
    "        # наполняем список нужными элементами (int)\n",
    "        else: lst_float.append(int(item))\n",
    "    return max(lst_float), min(lst_float)\n",
    "#вызываем функцию и присваиваем max,min переменным найденные результаты\n",
    "maxn, minn = find_min_max(list_str)\n",
    "#выводим на экран\n",
    "print(\"Minumum:\", minn)\n",
    "print(\"Maximum:\", maxn)\n",
    "\n"
   ],
   "metadata": {
    "colab": {
     "base_uri": "https://localhost:8080/"
    },
    "id": "jgeN55xEPgP1",
    "outputId": "b0702466-5db6-417c-b462-78b5bbd88331"
   },
   "execution_count": null,
   "outputs": [
    {
     "output_type": "stream",
     "name": "stdout",
     "text": [
      "Minumum: -37.5\n",
      "Maximum: 25.002\n"
     ]
    }
   ]
  },
  {
   "cell_type": "code",
   "source": [],
   "metadata": {
    "id": "aENWP6BQpT_3"
   },
   "execution_count": null,
   "outputs": []
  },
  {
   "cell_type": "code",
   "source": [
    "#input_string = input('Введите последовательность чисел: ')\n",
    "input_string1 = \"десять, 10, пять, 7, семь\"\n",
    "input_string2 = \"100, 5, 2, 4, 3, 6\"\n",
    "input_string3 = \"1, 5, 2, 3, 6\"\n",
    "input_string4 = \"\"\n",
    "\n",
    "#определеяем функцию расчета медианы\n",
    "def calc_med(numbers):\n",
    "# определяем, если пустой список, то вовзарщаем None\n",
    "    n = len(numbers)\n",
    "    if n == 0:\n",
    "        return None\n",
    "\n",
    "    # Сортируем список чисел\n",
    "    sorted_numbers = sorted(numbers)\n",
    "\n",
    "    # Находим медиану\n",
    "    mid = n // 2\n",
    "    if n % 2 == 0:\n",
    "        # Если количество чисел чётное, медиана — среднее двух средних чисел\n",
    "        median = (sorted_numbers[mid - 1] + sorted_numbers[mid]) / 2\n",
    "    else:\n",
    "        # Если количество чисел нечётное, медиана — среднее число\n",
    "        median = sorted_numbers[mid]\n",
    "\n",
    "    return median\n",
    "\n",
    "def find_median(input_string):\n",
    "\n",
    "    try:\n",
    "        # Разбиваем строку на отдельные элементы и преобразуем их в числа\n",
    "        numbers = [float(num.strip()) for num in input_string.split(',')]\n",
    "        # возвращаем медиану\n",
    "        return calc_med(numbers)\n",
    "    except ValueError:\n",
    " #      выбрасываем сообщение\n",
    "        return \"Некорректный ввод\"\n",
    "\n",
    "\n",
    "\n",
    "\n",
    "\n",
    "print(find_median(input_string1))\n",
    "print(find_median(input_string2))\n",
    "print(find_median(input_string3))\n",
    "print(find_median(input_string4))"
   ],
   "metadata": {
    "colab": {
     "base_uri": "https://localhost:8080/"
    },
    "id": "PnUKANp13LmH",
    "outputId": "d8943379-c07f-4d63-afbb-431e654de54e"
   },
   "execution_count": null,
   "outputs": [
    {
     "output_type": "stream",
     "name": "stdout",
     "text": [
      "Некорректный ввод\n",
      "4.5\n",
      "3.0\n",
      "Некорректный ввод\n"
     ]
    }
   ]
  },
  {
   "cell_type": "code",
   "source": [
    "input_string1 = \"девятьсот восемьдесят семь\"\n",
    "input_string2 = \"тысяча двести тридцать четыре\"\n",
    "input_string3 = \"пятьсот шестьдесят семь\"\n",
    "input_string4 = \"миллион семьсот восемьдесят девять тысяч шестьсот пятьдесят четыре\"\n",
    "input_string5 = \"ноль\"\n",
    "\n",
    "#задаем функцию , на вход строка\n",
    "def transform_string_to_integer(s):\n",
    "    # словарь из подсказки\n",
    "    number_word_dict = {\n",
    "        \"тысяча\": 1000, \"тысяч\": 1000, \"тысяче\": 1000, \"тысячу\": 1000,\n",
    "        \"миллион\": 1000000, \"миллиона\": 1000000, \"миллиону\": 1000000, \"миллионе\": 1000000,\n",
    "        \"сто\": 100, \"двести\": 200, \"триста\": 300, \"четыреста\": 400, \"пятьсот\": 500,\n",
    "        \"шестьсот\": 600, \"семьсот\": 700, \"восемьсот\": 800, \"девятьсот\": 900,\n",
    "        \"одиннадцать\": 11, \"двенадцать\": 12, \"тринадцать\": 13, \"четырнадцать\": 14, \"пятнадцать\": 15,\n",
    "        \"шестнадцать\": 16, \"семнадцать\": 17, \"восемнадцать\": 18, \"девятнадцать\": 19,\n",
    "        \"двадцать\": 20, \"тридцать\": 30, \"сорок\": 40, \"пятьдесят\": 50, \"шестьдесят\": 60,\n",
    "        \"семьдесят\": 70, \"восемьдесят\": 80, \"девяносто\": 90,\n",
    "        \"десять\": 10, \"один\": 1, \"два\": 2, \"три\": 3, \"четыре\": 4, \"пять\": 5,\n",
    "        \"шесть\": 6, \"семь\": 7, \"восемь\": 8, \"девять\": 9, \"ноль\": 0\n",
    "    }\n",
    "    #обрезаем пробелы вначале и в конце, Если они есть и приведет всю строку к нижнему регистру\n",
    "    s = s.strip().lower()\n",
    "    # переменная, которая будет собирать в себя число\n",
    "    total = 0\n",
    "    #индекс для цикла\n",
    "    i = 0\n",
    "    # длинна подстроки, по которой будем делать поиск, является ограничителем итератора.\n",
    "    length = len(s)\n",
    "   # запускаем цикл по словарю по ключам и значениям.\n",
    "    while i < length:\n",
    "        # булевая переменная, которая поможет определить, было ли совпадение подстроки с значением ключа из словаря number_word_dict\n",
    "        found = False\n",
    "        for word, value in number_word_dict.items():\n",
    "            # проверяем, введенная подстрока совпадает с ключем в словаре\n",
    "            if s.startswith(word, i):\n",
    "                # берем по ключю значение и добавляем его в переменную тотал\n",
    "                total += value\n",
    "                #индекс i увеличивается на длину найденного слова, чтобы перейти к следующей части строки.\n",
    "                i += len(word)\n",
    "                # меняем значение булевой переменной, чтобы избежать  увеличение индекса на 1\n",
    "                found = True\n",
    "                break\n",
    "        # проверяем значение переменной, если оно True, индекс не трогаем, он уже увеличин на длинну подстроки, если False, то увеличиваем на 1 и ищем дальше совпадение\n",
    "        if not found:\n",
    "            i += 1\n",
    "\n",
    "    return total\n",
    "\n",
    "print(transform_string_to_integer(input_string1))\n",
    "print(transform_string_to_integer(input_string2))\n",
    "print(transform_string_to_integer(input_string3))\n",
    "print(transform_string_to_integer(input_string4))\n",
    "print(transform_string_to_integer(input_string5))"
   ],
   "metadata": {
    "colab": {
     "base_uri": "https://localhost:8080/"
    },
    "id": "n933P0lfs3DU",
    "outputId": "bb66eca6-bf31-483b-b1bc-1fed6ee75bb4"
   },
   "execution_count": null,
   "outputs": [
    {
     "output_type": "stream",
     "name": "stdout",
     "text": [
      "987\n",
      "1234\n",
      "567\n",
      "1002443\n",
      "0\n"
     ]
    }
   ]
  },
  {
   "metadata": {
    "ExecuteTime": {
     "end_time": "2025-01-20T08:17:21.220675Z",
     "start_time": "2025-01-20T08:17:21.214422Z"
    }
   },
   "cell_type": "code",
   "source": [
    "# Импортируем объект Counter из модуля collections\n",
    "from collections import Counter\n",
    "# Создаём пустой объект Counter\n",
    "c = Counter()"
   ],
   "outputs": [],
   "execution_count": 1
  },
  {
   "metadata": {
    "ExecuteTime": {
     "end_time": "2025-01-20T08:27:21.769606Z",
     "start_time": "2025-01-20T08:27:21.755095Z"
    }
   },
   "cell_type": "code",
   "source": [
    "# Импортируем объект Counter из модуля collections\n",
    "from hidden import Clients\n",
    "# Создаём пустой объект Counter\n",
    "c = Counter()"
   ],
   "outputs": [
    {
     "ename": "ModuleNotFoundError",
     "evalue": "No module named 'hidden'",
     "output_type": "error",
     "traceback": [
      "\u001B[1;31m---------------------------------------------------------------------------\u001B[0m",
      "\u001B[1;31mModuleNotFoundError\u001B[0m                       Traceback (most recent call last)",
      "Cell \u001B[1;32mIn[3], line 2\u001B[0m\n\u001B[0;32m      1\u001B[0m \u001B[38;5;66;03m# Импортируем объект Counter из модуля collections\u001B[39;00m\n\u001B[1;32m----> 2\u001B[0m \u001B[38;5;28;01mfrom\u001B[39;00m\u001B[38;5;250m \u001B[39m\u001B[38;5;21;01mhidden\u001B[39;00m\u001B[38;5;250m \u001B[39m\u001B[38;5;28;01mimport\u001B[39;00m \u001B[38;5;241m*\u001B[39m\n\u001B[0;32m      4\u001B[0m \u001B[38;5;66;03m# Создаём пустой объект Counter\u001B[39;00m\n\u001B[0;32m      5\u001B[0m c \u001B[38;5;241m=\u001B[39m Counter()\n",
      "\u001B[1;31mModuleNotFoundError\u001B[0m: No module named 'hidden'"
     ]
    }
   ],
   "execution_count": 3
  },
  {
   "metadata": {},
   "cell_type": "code",
   "outputs": [],
   "execution_count": null,
   "source": [
    "temps = [('2000', -4.4), ('2001', -2.5), ('2002', -4.4), ('2003', -9.5)]\n",
    "\n",
    "def check(temps):\n",
    "    \n",
    "    \n",
    "    \n",
    "    \n",
    "#OrderedDict([('2001', -2.5), ('2000', -4.4), ('2002', -4.4), ('2003', -9.5)])"
   ]
  },
  {
   "metadata": {
    "ExecuteTime": {
     "end_time": "2025-01-22T15:07:42.885041Z",
     "start_time": "2025-01-22T15:07:42.872852Z"
    }
   },
   "cell_type": "code",
   "source": [
    "def brackets(line):\n",
    "    stack = []  # Создаём стек для хранения открывающих скобок\n",
    "\n",
    "    for char in line:  # Перебираем каждый символ в строке\n",
    "        if char == '(':  # Если символ — открывающая скобка\n",
    "            stack.append(char)  # Добавляем её в стек\n",
    "        elif char == ')':  # Если символ — закрывающая скобка\n",
    "            if not stack:  # Если стек пуст, последовательность неправильная\n",
    "                return False\n",
    "            stack.pop()  # Удаляем последнюю открывающую скобку из стека\n",
    "\n",
    "    # Если стек пуст, последовательность правильная, иначе — неправильная\n",
    "    return not stack\n",
    "\n",
    "# Примеры использования\n",
    "print(brackets(\"(()())\"))  # True\n",
    "print(brackets(\"\"))        # True\n",
    "print(brackets(\"(()()))\")) # False"
   ],
   "outputs": [
    {
     "name": "stdout",
     "output_type": "stream",
     "text": [
      "True\n",
      "True\n",
      "False\n"
     ]
    }
   ],
   "execution_count": 7
  },
  {
   "metadata": {
    "ExecuteTime": {
     "end_time": "2025-01-22T15:08:09.543952Z",
     "start_time": "2025-01-22T15:08:09.494544Z"
    }
   },
   "cell_type": "code",
   "source": [
    "from collections import OrderedDict\n",
    "temps = [('2000', -4.4), ('2001', -2.5), ('2002', -4.4), ('2003', -9.5)]\n",
    "\n",
    "\n",
    "def check(temps):\n",
    "  ordered_temp = OrderedDict(sorted(temps, key=lambda x: x[1], reverse=True))\n",
    "  return ordered_temp\n",
    "\n",
    "\n",
    "check(temps)\n",
    "\n",
    "#OrderedDict([('2001', -2.5), ('2000', -4.4), ('2002', -4.4), ('2003', -9.5)])"
   ],
   "outputs": [
    {
     "data": {
      "text/plain": [
       "OrderedDict([('2001', -2.5), ('2000', -4.4), ('2002', -4.4), ('2003', -9.5)])"
      ]
     },
     "execution_count": 8,
     "metadata": {},
     "output_type": "execute_result"
    }
   ],
   "execution_count": 8
  },
  {
   "metadata": {
    "ExecuteTime": {
     "end_time": "2025-01-22T15:08:48.090372Z",
     "start_time": "2025-01-22T15:08:48.077015Z"
    }
   },
   "cell_type": "code",
   "source": [
    "\n",
    "from collections import OrderedDict\n",
    "from collections import Counter\n",
    "\n",
    "ratings = [\n",
    "('Old York', 3.3), ('New Age', 4.6), ('Old Gold', 3.3), ('General Foods', 4.8),\n",
    "('Belissimo', 4.5), ('CakeAndCoffee', 4.2), ('CakeOClock', 4.2), ('CakeTime', 4.1),\n",
    "('WokToWork', 4.9), ('WokAndRice', 4.9), ('Old Wine Cellar', 3.3), ('Nice Cakes', 3.9)\n",
    "]\n",
    "#Сортировка через лямбда по двум критериям\n",
    "sorted_ratings = sorted(ratings, key=lambda x: (-x[1], x[0]))\n",
    "\n",
    "print(sorted_ratings)\n",
    "\n",
    "ordered_temp = OrderedDict(sorted_ratings)\n",
    "\n",
    "print(ordered_temp)"
   ],
   "outputs": [
    {
     "name": "stdout",
     "output_type": "stream",
     "text": [
      "[('WokAndRice', 4.9), ('WokToWork', 4.9), ('General Foods', 4.8), ('New Age', 4.6), ('Belissimo', 4.5), ('CakeAndCoffee', 4.2), ('CakeOClock', 4.2), ('CakeTime', 4.1), ('Nice Cakes', 3.9), ('Old Gold', 3.3), ('Old Wine Cellar', 3.3), ('Old York', 3.3)]\n",
      "OrderedDict({'WokAndRice': 4.9, 'WokToWork': 4.9, 'General Foods': 4.8, 'New Age': 4.6, 'Belissimo': 4.5, 'CakeAndCoffee': 4.2, 'CakeOClock': 4.2, 'CakeTime': 4.1, 'Nice Cakes': 3.9, 'Old Gold': 3.3, 'Old Wine Cellar': 3.3, 'Old York': 3.3})\n"
     ]
    }
   ],
   "execution_count": 9
  }
 ],
 "metadata": {
  "colab": {
   "provenance": [],
   "toc_visible": true
  },
  "kernelspec": {
   "display_name": "Python 3 (ipykernel)",
   "name": "python3",
   "language": "python"
  },
  "language_info": {
   "name": "python"
  }
 },
 "nbformat": 4,
 "nbformat_minor": 0
}
