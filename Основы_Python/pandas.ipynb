{
 "cells": [
  {
   "cell_type": "code",
   "id": "initial_id",
   "metadata": {
    "collapsed": true,
    "ExecuteTime": {
     "end_time": "2025-01-27T10:29:55.208327Z",
     "start_time": "2025-01-27T10:29:54.734399Z"
    }
   },
   "source": [
    "import pandas as pd\n",
    "\n",
    "print(pd.__name__)\n"
   ],
   "outputs": [
    {
     "name": "stdout",
     "output_type": "stream",
     "text": [
      "pandas\n"
     ]
    }
   ],
   "execution_count": 2
  },
  {
   "metadata": {
    "ExecuteTime": {
     "end_time": "2025-01-27T11:46:09.618624Z",
     "start_time": "2025-01-27T11:46:09.591578Z"
    }
   },
   "cell_type": "code",
   "source": [
    "import pandas as pd\n",
    "\n",
    "def create_medications(names, counts):\n",
    "    # Создаем Series с индексами names и значениями counts\n",
    "    medications = pd.Series(counts, index=names)\n",
    "    return medications\n",
    "\n",
    "def get_percent(medications, name):\n",
    "    # Вычисляем общее количество товаров\n",
    "    total_count = medications.sum()\n",
    "    \n",
    "    # Получаем количество товара с именем name\n",
    "    item_count = medications.get(name, 0)  # Если товара нет, возвращаем 0\n",
    "    \n",
    "    # Вычисляем долю в процентах\n",
    "    percent = (item_count / total_count) * 100\n",
    "    return percent\n",
    "\n",
    "names=['chlorhexidine', 'cyntomycin', 'afobazol']\n",
    "counts=[15, 18, 7]\n",
    "medications = create_medications(names, counts)\n",
    "\n",
    "print(get_percent(medications, \"chlorhexidine\")) #37.5\n"
   ],
   "id": "e221b8e4dce1818",
   "outputs": [
    {
     "name": "stdout",
     "output_type": "stream",
     "text": [
      "37.5\n"
     ]
    }
   ],
   "execution_count": 3
  },
  {
   "metadata": {
    "ExecuteTime": {
     "end_time": "2025-01-27T12:05:13.627264Z",
     "start_time": "2025-01-27T12:05:13.618319Z"
    }
   },
   "cell_type": "code",
   "source": [
    "import pandas as pd\n",
    "\n",
    "def create_companyDF(income, expenses, years):\n",
    "    # Создаем DataFrame из входных данных\n",
    "    df = pd.DataFrame({\n",
    "        'Income': income,\n",
    "        'Expenses': expenses\n",
    "    }, index=years)\n",
    "    return df\n",
    "\n",
    "def get_profit(df, year):\n",
    "    # Проверяем, есть ли год в индексе DataFrame\n",
    "    if year in df.index:\n",
    "        # Возвращаем разницу между доходом и расходом за указанный год\n",
    "        return df.loc[year, 'Income'] - df.loc[year, 'Expenses']\n",
    "    else:\n",
    "        # Если год отсутствует, возвращаем None\n",
    "        return None\n",
    "    \n",
    "    \n",
    "income = [478, 512, 196]\n",
    "expenses = [156, 130, 270]\n",
    "years = [2018, 2019, 2020]\n",
    "\n",
    "\n",
    "df = create_companyDF(income, expenses, years)\n",
    "print(get_profit(df, 2018))\n",
    "print(df)"
   ],
   "id": "df4e2c4f3353194f",
   "outputs": [
    {
     "name": "stdout",
     "output_type": "stream",
     "text": [
      "322\n",
      "      Income  Expenses\n",
      "2018     478       156\n",
      "2019     512       130\n",
      "2020     196       270\n"
     ]
    }
   ],
   "execution_count": 6
  }
 ],
 "metadata": {
  "kernelspec": {
   "display_name": "Python 3",
   "language": "python",
   "name": "python3"
  },
  "language_info": {
   "codemirror_mode": {
    "name": "ipython",
    "version": 2
   },
   "file_extension": ".py",
   "mimetype": "text/x-python",
   "name": "python",
   "nbconvert_exporter": "python",
   "pygments_lexer": "ipython2",
   "version": "2.7.6"
  }
 },
 "nbformat": 4,
 "nbformat_minor": 5
}
