{
 "cells": [
  {
   "cell_type": "code",
   "id": "initial_id",
   "metadata": {
    "collapsed": true,
    "ExecuteTime": {
     "end_time": "2025-02-22T12:30:06.456015Z",
     "start_time": "2025-02-22T12:30:06.149546Z"
    }
   },
   "source": [
    "import pandas as pd \n",
    "\n",
    "# \n",
    "# 1. Удаление дубликатов\n",
    "# Для поиска и удаления дубликатов в данных используем метод drop_duplicates():\n",
    "\n",
    "diabetes = pd.read_csv('data/diabetes_data.csv')\n",
    "diabetes_cleaned = diabetes.drop_duplicates()\n",
    "print(f\"Осталось записей: {len(diabetes_cleaned)}\")"
   ],
   "outputs": [
    {
     "name": "stdout",
     "output_type": "stream",
     "text": [
      "Осталось записей: 768\n"
     ]
    }
   ],
   "execution_count": 2
  },
  {
   "metadata": {},
   "cell_type": "markdown",
   "source": [
    "2. Удаление неинформативных признаков\n",
    "Неинформативные признаки — это те, где 95% значений повторяются или 95% значений уникальны. Проверим каждый признак:"
   ],
   "id": "2af9e8b34cc1eece"
  },
  {
   "metadata": {
    "ExecuteTime": {
     "end_time": "2025-02-22T12:31:01.997172Z",
     "start_time": "2025-02-22T12:31:01.990855Z"
    }
   },
   "cell_type": "code",
   "source": [
    "non_informative_features = []\n",
    "for column in diabetes_cleaned.columns:\n",
    "    unique_ratio = diabetes_cleaned[column].nunique() / len(diabetes_cleaned)\n",
    "    if unique_ratio > 0.95 or diabetes_cleaned[column].value_counts(normalize=True).max() > 0.95:\n",
    "        non_informative_features.append(column)\n",
    "print(non_informative_features)"
   ],
   "id": "8c2fcbb4c8f729f9",
   "outputs": [
    {
     "name": "stdout",
     "output_type": "stream",
     "text": [
      "['Gender']\n"
     ]
    }
   ],
   "execution_count": 3
  },
  {
   "metadata": {},
   "cell_type": "markdown",
   "source": [
    "3. Замена нулей на пропуски и доля пропусков в Insulin\n",
    "Заменим нули на np.nan в указанных столбцах и найдем долю пропусков в столбце Insulin:"
   ],
   "id": "8d0204d7e6b230f3"
  },
  {
   "metadata": {
    "ExecuteTime": {
     "end_time": "2025-02-22T12:31:45.033681Z",
     "start_time": "2025-02-22T12:31:45.028466Z"
    }
   },
   "cell_type": "code",
   "source": [
    "import numpy as np\n",
    "\n",
    "columns_to_replace = ['Glucose', 'BloodPressure', 'SkinThickness', 'Insulin', 'BMI']\n",
    "diabetes_cleaned[columns_to_replace] = diabetes_cleaned[columns_to_replace].replace(0, np.nan)\n",
    "\n",
    "missing_insulin = diabetes_cleaned['Insulin'].isnull().mean()\n",
    "print(f\"Доля пропусков в Insulin: {round(missing_insulin, 2)}\")"
   ],
   "id": "85b635b77180157e",
   "outputs": [
    {
     "name": "stdout",
     "output_type": "stream",
     "text": [
      "Доля пропусков в Insulin: 0.49\n"
     ]
    },
    {
     "name": "stderr",
     "output_type": "stream",
     "text": [
      "C:\\Users\\Yoga\\AppData\\Local\\Temp\\ipykernel_53840\\4094529712.py:4: SettingWithCopyWarning: \n",
      "A value is trying to be set on a copy of a slice from a DataFrame.\n",
      "Try using .loc[row_indexer,col_indexer] = value instead\n",
      "\n",
      "See the caveats in the documentation: https://pandas.pydata.org/pandas-docs/stable/user_guide/indexing.html#returning-a-view-versus-a-copy\n",
      "  diabetes_cleaned[columns_to_replace] = diabetes_cleaned[columns_to_replace].replace(0, np.nan)\n"
     ]
    }
   ],
   "execution_count": 5
  },
  {
   "metadata": {},
   "cell_type": "markdown",
   "source": [
    "4. Удаление признаков с более чем 30% пропусков\n",
    "Удалим признаки, где пропусков больше 30%:"
   ],
   "id": "9204d3d1c5918947"
  },
  {
   "metadata": {
    "ExecuteTime": {
     "end_time": "2025-02-22T12:32:29.523880Z",
     "start_time": "2025-02-22T12:32:29.519107Z"
    }
   },
   "cell_type": "code",
   "source": [
    "diabetes_cleaned = diabetes_cleaned.dropna(thresh=len(diabetes_cleaned) * 0.7, axis=1)\n",
    "print(f\"Осталось признаков: {len(diabetes_cleaned.columns)}\")"
   ],
   "id": "4dc535b19290a841",
   "outputs": [
    {
     "name": "stdout",
     "output_type": "stream",
     "text": [
      "Осталось признаков: 9\n"
     ]
    }
   ],
   "execution_count": 6
  },
  {
   "metadata": {},
   "cell_type": "markdown",
   "source": [
    "5. Удаление строк с более чем двумя пропусками\n",
    "Удалим строки, где больше двух пропусков:"
   ],
   "id": "ce5a603885f40028"
  },
  {
   "metadata": {
    "ExecuteTime": {
     "end_time": "2025-02-22T12:33:58.076581Z",
     "start_time": "2025-02-22T12:33:58.072534Z"
    }
   },
   "cell_type": "code",
   "source": [
    "diabetes_cleaned = diabetes_cleaned.dropna(thresh=len(diabetes_cleaned.columns) - 2)\n",
    "print(f\"Осталось записей: {len(diabetes_cleaned)}\")"
   ],
   "id": "c0ece8a98c2c292e",
   "outputs": [
    {
     "name": "stdout",
     "output_type": "stream",
     "text": [
      "Осталось записей: 761\n"
     ]
    }
   ],
   "execution_count": 7
  },
  {
   "metadata": {},
   "cell_type": "markdown",
   "source": [
    "6. Замена пропусков на медиану и среднее значение SkinThickness\n",
    "Заменим пропуски на медиану и найдем среднее значение в столбце SkinThickness:"
   ],
   "id": "41582e88c0a31d32"
  },
  {
   "metadata": {
    "ExecuteTime": {
     "end_time": "2025-02-22T12:35:58.585652Z",
     "start_time": "2025-02-22T12:35:58.575576Z"
    }
   },
   "cell_type": "code",
   "source": [
    "# Исключаем категориальные признаки (например, 'Gender') из обработки\n",
    "numeric_columns = diabetes_cleaned.select_dtypes(include=[np.number]).columns\n",
    "\n",
    "# Заменяем пропуски на медиану только для числовых столбцов\n",
    "diabetes_cleaned[numeric_columns] = diabetes_cleaned[numeric_columns].fillna(diabetes_cleaned[numeric_columns].median())\n",
    "\n",
    "# Находим среднее значение в столбце SkinThickness\n",
    "mean_skin_thickness = diabetes_cleaned['SkinThickness'].mean()\n",
    "print(f\"Среднее значение SkinThickness: {round(mean_skin_thickness, 1)}\")"
   ],
   "id": "7f582d6fdf732e47",
   "outputs": [
    {
     "name": "stdout",
     "output_type": "stream",
     "text": [
      "Среднее значение SkinThickness: 29.1\n"
     ]
    }
   ],
   "execution_count": 10
  },
  {
   "metadata": {},
   "cell_type": "markdown",
   "source": [
    "7. Выбросы в SkinThickness методом межквартильного размаха\n",
    "Найдем выбросы с помощью метода межквартильного размаха:"
   ],
   "id": "4e6fadd302f738c6"
  },
  {
   "metadata": {
    "ExecuteTime": {
     "end_time": "2025-02-22T12:36:53.719434Z",
     "start_time": "2025-02-22T12:36:53.714974Z"
    }
   },
   "cell_type": "code",
   "source": [
    "Q1 = diabetes_cleaned['SkinThickness'].quantile(0.25)\n",
    "Q3 = diabetes_cleaned['SkinThickness'].quantile(0.75)\n",
    "IQR = Q3 - Q1\n",
    "outliers = diabetes_cleaned[(diabetes_cleaned['SkinThickness'] < (Q1 - 1.5 * IQR)) | (diabetes_cleaned['SkinThickness'] > (Q3 + 1.5 * IQR))]\n",
    "print(f\"Число выбросов: {len(outliers)}\")"
   ],
   "id": "e778f69a58856a48",
   "outputs": [
    {
     "name": "stdout",
     "output_type": "stream",
     "text": [
      "Число выбросов: 87\n"
     ]
    }
   ],
   "execution_count": 11
  },
  {
   "metadata": {},
   "cell_type": "markdown",
   "source": [
    "8. Выбросы в SkinThickness методом z-отклонения\n",
    "Найдем выбросы с помощью метода z-отклонения:"
   ],
   "id": "e6c8eb570dbd4a1a"
  },
  {
   "metadata": {
    "ExecuteTime": {
     "end_time": "2025-02-22T12:38:47.700499Z",
     "start_time": "2025-02-22T12:38:47.695563Z"
    }
   },
   "cell_type": "code",
   "source": [
    "def outliers_z_score_mod(data, feature, left=3, right=3, log_scale=False):\n",
    "    if log_scale:\n",
    "        x = np.log(data[feature]+1)\n",
    "    else:\n",
    "        x = data[feature]\n",
    "    mu = x.mean()\n",
    "    sigma = x.std()\n",
    "    lower_bound = mu - left * sigma\n",
    "    upper_bound = mu + right * sigma\n",
    "    outliers = data[(x < lower_bound) | (x > upper_bound)]\n",
    "    cleaned = data[(x >= lower_bound) & (x <= upper_bound)]\n",
    "    return outliers, cleaned\n",
    "outliers, _ = outliers_z_score_mod(diabetes, 'SkinThickness')\n",
    "print(outliers.shape[0])"
   ],
   "id": "9d7ffaa5d1298f7f",
   "outputs": [
    {
     "name": "stdout",
     "output_type": "stream",
     "text": [
      "1\n"
     ]
    }
   ],
   "execution_count": 14
  },
  {
   "metadata": {},
   "cell_type": "markdown",
   "source": [
    "9. Выбросы в DiabetesPedigreeFunction методом межквартильного размаха\n",
    "Найдем выбросы в DiabetesPedigreeFunction:"
   ],
   "id": "a563793d470efd31"
  },
  {
   "metadata": {
    "ExecuteTime": {
     "end_time": "2025-02-22T12:39:33.223044Z",
     "start_time": "2025-02-22T12:39:33.218010Z"
    }
   },
   "cell_type": "code",
   "source": [
    "Q1 = diabetes_cleaned['DiabetesPedigreeFunction'].quantile(0.25)\n",
    "Q3 = diabetes_cleaned['DiabetesPedigreeFunction'].quantile(0.75)\n",
    "IQR = Q3 - Q1\n",
    "outliers_dpf = diabetes_cleaned[(diabetes_cleaned['DiabetesPedigreeFunction'] < (Q1 - 1.5 * IQR)) | (diabetes_cleaned['DiabetesPedigreeFunction'] > (Q3 + 1.5 * IQR))]\n",
    "print(f\"Число выбросов: {len(outliers_dpf)}\")"
   ],
   "id": "b24fb7171345be5b",
   "outputs": [
    {
     "name": "stdout",
     "output_type": "stream",
     "text": [
      "Число выбросов: 29\n"
     ]
    }
   ],
   "execution_count": 15
  }
 ],
 "metadata": {
  "kernelspec": {
   "display_name": "Python 3",
   "language": "python",
   "name": "python3"
  },
  "language_info": {
   "codemirror_mode": {
    "name": "ipython",
    "version": 2
   },
   "file_extension": ".py",
   "mimetype": "text/x-python",
   "name": "python",
   "nbconvert_exporter": "python",
   "pygments_lexer": "ipython2",
   "version": "2.7.6"
  }
 },
 "nbformat": 4,
 "nbformat_minor": 5
}
