{
 "cells": [
  {
   "metadata": {},
   "cell_type": "markdown",
   "source": "Попробуем прочитать наш файл-пример. Для этого передадим в read_excel() путь к нему. Чтобы его открыть и сохранить данные в переменную grades, необходимо выполнить следующий код:",
   "id": "11a6fa691fa9524b"
  },
  {
   "cell_type": "code",
   "id": "initial_id",
   "metadata": {
    "collapsed": true,
    "ExecuteTime": {
     "end_time": "2025-05-19T13:29:28.046671Z",
     "start_time": "2025-05-19T13:29:27.889840Z"
    }
   },
   "source": [
    "import pandas as pd\n",
    "grades = pd.read_excel('data/grades.xlsx')\n",
    "display(grades.head())"
   ],
   "outputs": [
    {
     "data": {
      "text/plain": [
       "   Student ID Student name  Grade\n",
       "0           1          Аня      8\n",
       "1           2         Катя      9\n",
       "2           3         Маша      7\n",
       "3           4         Миша      4\n",
       "4           5         Женя      8"
      ],
      "text/html": [
       "<div>\n",
       "<style scoped>\n",
       "    .dataframe tbody tr th:only-of-type {\n",
       "        vertical-align: middle;\n",
       "    }\n",
       "\n",
       "    .dataframe tbody tr th {\n",
       "        vertical-align: top;\n",
       "    }\n",
       "\n",
       "    .dataframe thead th {\n",
       "        text-align: right;\n",
       "    }\n",
       "</style>\n",
       "<table border=\"1\" class=\"dataframe\">\n",
       "  <thead>\n",
       "    <tr style=\"text-align: right;\">\n",
       "      <th></th>\n",
       "      <th>Student ID</th>\n",
       "      <th>Student name</th>\n",
       "      <th>Grade</th>\n",
       "    </tr>\n",
       "  </thead>\n",
       "  <tbody>\n",
       "    <tr>\n",
       "      <th>0</th>\n",
       "      <td>1</td>\n",
       "      <td>Аня</td>\n",
       "      <td>8</td>\n",
       "    </tr>\n",
       "    <tr>\n",
       "      <th>1</th>\n",
       "      <td>2</td>\n",
       "      <td>Катя</td>\n",
       "      <td>9</td>\n",
       "    </tr>\n",
       "    <tr>\n",
       "      <th>2</th>\n",
       "      <td>3</td>\n",
       "      <td>Маша</td>\n",
       "      <td>7</td>\n",
       "    </tr>\n",
       "    <tr>\n",
       "      <th>3</th>\n",
       "      <td>4</td>\n",
       "      <td>Миша</td>\n",
       "      <td>4</td>\n",
       "    </tr>\n",
       "    <tr>\n",
       "      <th>4</th>\n",
       "      <td>5</td>\n",
       "      <td>Женя</td>\n",
       "      <td>8</td>\n",
       "    </tr>\n",
       "  </tbody>\n",
       "</table>\n",
       "</div>"
      ]
     },
     "metadata": {},
     "output_type": "display_data"
    }
   ],
   "execution_count": 3
  },
  {
   "metadata": {
    "ExecuteTime": {
     "end_time": "2025-05-19T13:29:51.489094Z",
     "start_time": "2025-05-19T13:29:50.230039Z"
    }
   },
   "cell_type": "code",
   "source": [
    "data = pd.read_excel('https://github.com/asaydn/test/raw/master/january.xlsx', skiprows=3)\n",
    "display(data)"
   ],
   "id": "2e836f28f18173cc",
   "outputs": [
    {
     "data": {
      "text/plain": [
       "      Location  Oranges  Apples  Bananas  Blueberries  Total\n",
       "0      Toronto     7651    4422     8580         3679  24332\n",
       "1  Los Angeles      273    2998     9890         7293  20454\n",
       "2      Atlanta     3758    6752     4599         4149  19258\n",
       "3     New York     4019    8796     8486         9188  30489"
      ],
      "text/html": [
       "<div>\n",
       "<style scoped>\n",
       "    .dataframe tbody tr th:only-of-type {\n",
       "        vertical-align: middle;\n",
       "    }\n",
       "\n",
       "    .dataframe tbody tr th {\n",
       "        vertical-align: top;\n",
       "    }\n",
       "\n",
       "    .dataframe thead th {\n",
       "        text-align: right;\n",
       "    }\n",
       "</style>\n",
       "<table border=\"1\" class=\"dataframe\">\n",
       "  <thead>\n",
       "    <tr style=\"text-align: right;\">\n",
       "      <th></th>\n",
       "      <th>Location</th>\n",
       "      <th>Oranges</th>\n",
       "      <th>Apples</th>\n",
       "      <th>Bananas</th>\n",
       "      <th>Blueberries</th>\n",
       "      <th>Total</th>\n",
       "    </tr>\n",
       "  </thead>\n",
       "  <tbody>\n",
       "    <tr>\n",
       "      <th>0</th>\n",
       "      <td>Toronto</td>\n",
       "      <td>7651</td>\n",
       "      <td>4422</td>\n",
       "      <td>8580</td>\n",
       "      <td>3679</td>\n",
       "      <td>24332</td>\n",
       "    </tr>\n",
       "    <tr>\n",
       "      <th>1</th>\n",
       "      <td>Los Angeles</td>\n",
       "      <td>273</td>\n",
       "      <td>2998</td>\n",
       "      <td>9890</td>\n",
       "      <td>7293</td>\n",
       "      <td>20454</td>\n",
       "    </tr>\n",
       "    <tr>\n",
       "      <th>2</th>\n",
       "      <td>Atlanta</td>\n",
       "      <td>3758</td>\n",
       "      <td>6752</td>\n",
       "      <td>4599</td>\n",
       "      <td>4149</td>\n",
       "      <td>19258</td>\n",
       "    </tr>\n",
       "    <tr>\n",
       "      <th>3</th>\n",
       "      <td>New York</td>\n",
       "      <td>4019</td>\n",
       "      <td>8796</td>\n",
       "      <td>8486</td>\n",
       "      <td>9188</td>\n",
       "      <td>30489</td>\n",
       "    </tr>\n",
       "  </tbody>\n",
       "</table>\n",
       "</div>"
      ]
     },
     "metadata": {},
     "output_type": "display_data"
    }
   ],
   "execution_count": 4
  },
  {
   "metadata": {},
   "cell_type": "markdown",
   "source": [
    "Следует также учесть, что нормальное поведение pandas — это считывание значений (формулы из Excel-файла не считываются).\n",
    "\n",
    "Как упоминалось выше, один Excel-файл может включать в себя несколько листов, которые отображаются в разных вкладках (англ. sheet, рус. лист). Например, в нашем файле два листа — Maths и ML.\n",
    "\n",
    "По умолчанию в DataFrame читается информация из первого листа, однако read_excel()  позволяет выбрать, из какого именно листа загружать данные. Сделать это можно с помощью параметра sheet_name (рус. имя_листа). Например, чтобы прочесть данные из второго листа (ML) файла, выполним код:"
   ],
   "id": "db5fe4cf7f93af0f"
  },
  {
   "metadata": {
    "ExecuteTime": {
     "end_time": "2025-05-19T13:31:50.105459Z",
     "start_time": "2025-05-19T13:31:50.082874Z"
    }
   },
   "cell_type": "code",
   "source": [
    "grades = pd.read_excel('data/grades.xlsx', sheet_name='Maths')\n",
    "display(grades.head())"
   ],
   "id": "5ce7e5bf2309d153",
   "outputs": [
    {
     "data": {
      "text/plain": [
       "   Student ID Student name  Grade\n",
       "0           1          Аня      8\n",
       "1           2         Катя      9\n",
       "2           3         Маша      7\n",
       "3           4         Миша      4\n",
       "4           5         Женя      8"
      ],
      "text/html": [
       "<div>\n",
       "<style scoped>\n",
       "    .dataframe tbody tr th:only-of-type {\n",
       "        vertical-align: middle;\n",
       "    }\n",
       "\n",
       "    .dataframe tbody tr th {\n",
       "        vertical-align: top;\n",
       "    }\n",
       "\n",
       "    .dataframe thead th {\n",
       "        text-align: right;\n",
       "    }\n",
       "</style>\n",
       "<table border=\"1\" class=\"dataframe\">\n",
       "  <thead>\n",
       "    <tr style=\"text-align: right;\">\n",
       "      <th></th>\n",
       "      <th>Student ID</th>\n",
       "      <th>Student name</th>\n",
       "      <th>Grade</th>\n",
       "    </tr>\n",
       "  </thead>\n",
       "  <tbody>\n",
       "    <tr>\n",
       "      <th>0</th>\n",
       "      <td>1</td>\n",
       "      <td>Аня</td>\n",
       "      <td>8</td>\n",
       "    </tr>\n",
       "    <tr>\n",
       "      <th>1</th>\n",
       "      <td>2</td>\n",
       "      <td>Катя</td>\n",
       "      <td>9</td>\n",
       "    </tr>\n",
       "    <tr>\n",
       "      <th>2</th>\n",
       "      <td>3</td>\n",
       "      <td>Маша</td>\n",
       "      <td>7</td>\n",
       "    </tr>\n",
       "    <tr>\n",
       "      <th>3</th>\n",
       "      <td>4</td>\n",
       "      <td>Миша</td>\n",
       "      <td>4</td>\n",
       "    </tr>\n",
       "    <tr>\n",
       "      <th>4</th>\n",
       "      <td>5</td>\n",
       "      <td>Женя</td>\n",
       "      <td>8</td>\n",
       "    </tr>\n",
       "  </tbody>\n",
       "</table>\n",
       "</div>"
      ]
     },
     "metadata": {},
     "output_type": "display_data"
    }
   ],
   "execution_count": 6
  },
  {
   "metadata": {},
   "cell_type": "markdown",
   "source": [
    "Выгрузка данных из DataFrame в Excel-файл\n",
    "\n",
    "После обработки данных (очистка, создание новых признаков и т. д.) методами и функциями pandas мы сталкиваемся с обратной задачей — сохранить данные из DataFrame в Excel-файл.\n",
    "\n",
    "Для этого в pandas есть функция to_excel() (рус. в_Excel), принцип работы которой очень схож с функцией to_csv():\n",
    "\n",
    "# Сохраняем данные из DataFrame grades в файл grades_new.xlsx в папке data\n",
    "grades.to_excel('data/grades_new.xlsx')\n",
    "В этом случае будет создан один лист с именем по умолчанию \"Sheet1\". Также мы сохраним и индекс — в данных будет находиться лишний столбец. Чтобы создать лист с определённым именем (например, Example) и не сохранять индекс, в метод  to_excel() необходимо передать параметры sheet_name='Example' и index=False:\n",
    "\n",
    "# Сохраняем данные из DataFrame grades в файл grades_new.xlsx (на листе 'Example') в папке data\n",
    "grades.to_excel('data/grades_new.xlsx', sheet_name='Example', index=False)"
   ],
   "id": "238be78a9cf0382a"
  },
  {
   "metadata": {
    "ExecuteTime": {
     "end_time": "2025-05-20T06:13:58.190387Z",
     "start_time": "2025-05-20T06:13:58.145687Z"
    }
   },
   "cell_type": "code",
   "source": [
    "grades.to_excel('data/grades_new.xlsx')\n",
    "grades.to_excel('data/grades_new.xlsx', sheet_name='Example', index=False)"
   ],
   "id": "9c79f203aae708ba",
   "outputs": [],
   "execution_count": 8
  },
  {
   "metadata": {},
   "cell_type": "markdown",
   "source": "Для выполнения следующего задания вам потребуется файл ratings+movies.xlsx, содержащий два листа с данными: ratings (таблица с информацией о выставленных оценках) и movies (таблица c расшифровками идентификаторов кинофильмов). Скачайте его и посмотрите, как он выглядит. Считайте данные из двух листов файла ratings+movies.xlsx в разные DataFrame, объедините в один, запишите данные из полученного DataFrame в файл. Сколько строк (включая строку заголовков) в результирующем файле?",
   "id": "6c41a6df178d4b3"
  },
  {
   "metadata": {
    "ExecuteTime": {
     "end_time": "2025-05-20T06:16:20.896385Z",
     "start_time": "2025-05-20T06:16:08.673787Z"
    }
   },
   "cell_type": "code",
   "source": [
    "ratings = pd.read_excel('data/ratings_movies.xlsx', sheet_name='ratings')         \n",
    "movies = pd.read_excel('data/ratings_movies.xlsx', sheet_name='movies')         \n",
    "joined = ratings.merge(movies, on='movieId', how='left')         \n",
    "joined.to_excel('data/joined.xlsx', sheet_name='JOINED', index=False)"
   ],
   "id": "15b58efaa3ab3a6d",
   "outputs": [],
   "execution_count": 11
  }
 ],
 "metadata": {
  "kernelspec": {
   "display_name": "Python 3",
   "language": "python",
   "name": "python3"
  },
  "language_info": {
   "codemirror_mode": {
    "name": "ipython",
    "version": 2
   },
   "file_extension": ".py",
   "mimetype": "text/x-python",
   "name": "python",
   "nbconvert_exporter": "python",
   "pygments_lexer": "ipython2",
   "version": "2.7.6"
  }
 },
 "nbformat": 4,
 "nbformat_minor": 5
}
